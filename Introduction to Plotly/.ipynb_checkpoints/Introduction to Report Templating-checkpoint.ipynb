{
 "cells": [
  {
   "cell_type": "markdown",
   "id": "c01b35e9-80cc-48fd-ab15-3ae03ed42cdb",
   "metadata": {
    "slideshow": {
     "slide_type": "slide"
    },
    "tags": []
   },
   "source": [
    "# Introduction to Report Generation \n",
    "<br><br>\n",
    "**ONS / NISR**<br>\n",
    "2022"
   ]
  },
  {
   "cell_type": "markdown",
   "id": "8776adc4-74de-47b2-8dc3-b8e126747a17",
   "metadata": {
    "slideshow": {
     "slide_type": "slide"
    },
    "tags": []
   },
   "source": [
    "Using `jupyter` notebooks, `plotly` and `nisr_style`, we can easily generate reports that look professional whilst minimizing the time spent styling and formatting. \n",
    "\n",
    "This means we have more time to focus on producing useful insights from data!"
   ]
  },
  {
   "cell_type": "markdown",
   "id": "d6a4e753-7ee0-43c6-aed1-fbb5f2d27893",
   "metadata": {
    "slideshow": {
     "slide_type": "slide"
    },
    "tags": []
   },
   "source": [
    "We can use the commandline tool `jupyter nbconvert` which means notebook convert. This tool allows us to convert our jupyter notebook into a variety of different formats. \n",
    "\n",
    "We're most interested in converting out notebook into a `.html` file. We can then send this converted notebook to anyone and they'll be able to read it. "
   ]
  },
  {
   "cell_type": "markdown",
   "id": "adf2dd2a-d99e-4a40-9013-1b4d5e4c7af6",
   "metadata": {
    "slideshow": {
     "slide_type": "slide"
    },
    "tags": []
   },
   "source": [
    "## Markdown \n",
    "\n",
    "In jupyter notebooks it is possible to create `Markdown` cells, these are special cells where we can use the `Markdown` language to define useful structures. A full list of all the valid `Markdown` syntax can be found at [https://www.markdownguide.org/cheat-sheet/](https://www.markdownguide.org/cheat-sheet/)"
   ]
  },
  {
   "cell_type": "markdown",
   "id": "ec75a0c8-ccc8-4aef-9308-d0179d9eea42",
   "metadata": {
    "slideshow": {
     "slide_type": "subslide"
    },
    "tags": []
   },
   "source": [
    "### Headings \n",
    "\n",
    "Headings can be defined by using a `#` before a string on a new line. The number of `#`s defines the level of the heading \n",
    "\n",
    "```\n",
    "# Title\n",
    "## Section Heading \n",
    "### Subheading \n",
    "#### Sub-subheading...\n",
    "```"
   ]
  },
  {
   "cell_type": "markdown",
   "id": "562e24d7-fdee-4e38-978a-2dcc021c7d79",
   "metadata": {
    "slideshow": {
     "slide_type": "subslide"
    },
    "tags": []
   },
   "source": [
    "### Emphasis\n",
    "\n",
    "**Bold** and *italic* text can be defined by wrapping the text in `*`s. A single `*` creates italic text, double `**` creates bold text. \n",
    "\n",
    "```\n",
    "*This sentence is in italics*\n",
    "**This sentence is in bold**\n",
    "```"
   ]
  },
  {
   "cell_type": "markdown",
   "id": "bb604780-56b8-457c-ae7c-5664a1c13f40",
   "metadata": {
    "slideshow": {
     "slide_type": "subslide"
    },
    "tags": []
   },
   "source": [
    "### Lists\n",
    "\n",
    "This can be defined using either `*` or `-` at the begining on a line to defined an unordered list. For an ordered list starting the line with `1.` will create an ordered list.\n",
    "\n",
    "```\n",
    "- Unordered\n",
    "- List \n",
    "\n",
    "1. Ordered\n",
    "2. List\n",
    "```"
   ]
  },
  {
   "cell_type": "markdown",
   "id": "cfea2ac5-2d2b-4612-a108-fae359a724ca",
   "metadata": {
    "slideshow": {
     "slide_type": "subslide"
    },
    "tags": []
   },
   "source": [
    "### Tables\n",
    "\n",
    "Simple tables can be created using the following structure, they will then be rendered neatly. \n",
    "\n",
    "```\n",
    "| Column Header | Column Header | Column Header |\n",
    "| --- | --- | --- |\n",
    "| A | B | C |\n",
    "| D | E | F | \n",
    "```\n",
    "\n",
    "| Column Header | Column Header | Column Header |\n",
    "| --- | --- | --- |\n",
    "| A | B | C |\n",
    "| D | E | F | "
   ]
  },
  {
   "cell_type": "markdown",
   "id": "3637d38e-70a2-40c0-bc1b-e24cbdce38ca",
   "metadata": {
    "slideshow": {
     "slide_type": "slide"
    },
    "tags": []
   },
   "source": [
    "## Plotly\n",
    "\n",
    "We can display plotly charts in our report just like we would in any other notebook. However we need to remember to add an additional line of code, otherwise they will not display once the notebook has been converted. \n",
    "\n",
    "```python \n",
    "import plotly.express as px\n",
    "import plotly.offline as po\n",
    "\n",
    "po.init_notebook_mode() # Include this line to allow the report to show plotly charts\n",
    "```"
   ]
  },
  {
   "cell_type": "markdown",
   "id": "d6b35be8-ba53-49b0-920a-078adcc13dd0",
   "metadata": {
    "slideshow": {
     "slide_type": "slide"
    },
    "tags": []
   },
   "source": [
    "## Creating the report\n",
    "\n",
    "Once you've written your report, and have all your chart code working correctly. We need to open up a `terminal` in the folder where you `.ipynb` jupyter notebook is stored. \n",
    "\n",
    "Once we've done that we can convert the notebook to a report using one line of code \n",
    "\n",
    "```cmd\n",
    "> juypter nbconvert report.ipynb --to html --template nisr --no-input\n",
    "```\n",
    "\n",
    "The first argument is the path to the notebook file, the second is `--to html` defining that we want to create a `.html` file. The third `--template nisr` is a custom template that is installed with `nisr_style` and the final argument `--no-input` hides all the code cells in our notebook.  "
   ]
  },
  {
   "cell_type": "markdown",
   "id": "70bf5513-b675-4430-89d4-af1a73b67595",
   "metadata": {
    "slideshow": {
     "slide_type": "slide"
    },
    "tags": []
   },
   "source": [
    "### NISR Template\n",
    "\n",
    "The argument `--template nisr` is optional. Including it sets all the fonts to the NISR style, adds an NISR logo in the top corner of the document and automatically numbers all of the paragraphs."
   ]
  }
 ],
 "metadata": {
  "kernelspec": {
   "display_name": "Python 3 (ipykernel)",
   "language": "python",
   "name": "python3"
  },
  "language_info": {
   "codemirror_mode": {
    "name": "ipython",
    "version": 3
   },
   "file_extension": ".py",
   "mimetype": "text/x-python",
   "name": "python",
   "nbconvert_exporter": "python",
   "pygments_lexer": "ipython3",
   "version": "3.9.5"
  }
 },
 "nbformat": 4,
 "nbformat_minor": 5
}
