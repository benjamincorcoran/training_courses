{
 "cells": [
  {
   "cell_type": "markdown",
   "id": "fe97ac52-f050-4b29-a126-40268fedcb7b",
   "metadata": {
    "slideshow": {
     "slide_type": "slide"
    },
    "tags": []
   },
   "source": [
    "# Introduction to Dash\n",
    "<br><br>\n",
    "**ONS / NISR**<br>\n",
    "2021"
   ]
  },
  {
   "cell_type": "markdown",
   "id": "b2b293cb-0ec7-4cc1-a9cc-98a12ed1b203",
   "metadata": {
    "slideshow": {
     "slide_type": "slide"
    },
    "tags": []
   },
   "source": [
    "## What is dash?\n",
    "\n",
    "* [Dash](https://dash.plotly.com/) is a dashboarding tool that builds on the plotly library. It allows users to create and customise data driven web apps that can be deployed in a number of places. \n",
    "\n",
    "* Dash apps are rendered in the web browser. You can deploy your apps to VMs or Kubernetes clusters and then share them through URLs. Since Dash apps are viewed in the web browser, Dash is inherently cross-platform and mobile ready.\n",
    "\n",
    "<center><a href=\"https://dash.gallery/Portal/\"><img src=\"./imgs/dash_app_gallery.png\" width=800></a></center>"
   ]
  },
  {
   "cell_type": "markdown",
   "id": "88df7312-3956-454a-b326-94f218b0e5de",
   "metadata": {
    "slideshow": {
     "slide_type": "slide"
    },
    "tags": []
   },
   "source": [
    "## Getting Started"
   ]
  },
  {
   "cell_type": "markdown",
   "id": "b2bd07c1-ff4f-45f8-831d-fa49d110e45e",
   "metadata": {
    "slideshow": {
     "slide_type": "slide"
    },
    "tags": []
   },
   "source": [
    "## Creating a new dash app using `cookiecutter`\n",
    "\n",
    "Dash can be difficult to set up initially. Fortunately we can by pass all of that difficulty by just using a template. \n",
    "\n",
    "We can use `cookiecutter` which is a tool that lets us use an existing template whilst still changing some key elements. In order to use cookiecutter we need to first install it \n",
    "\n",
    "```sh\n",
    "pip install cookiecutter\n",
    "```"
   ]
  },
  {
   "cell_type": "markdown",
   "id": "d8191fdf-cce4-4b34-a842-f5196087dfcb",
   "metadata": {
    "slideshow": {
     "slide_type": "slide"
    },
    "tags": []
   },
   "source": [
    "Once we've done this we need to use cookiecutter to create our new dash app \n",
    "\n",
    "```sh\n",
    "cookiecutter https://github.com/NISR-analysis/dash-cookiecutter\n",
    "```\n",
    "\n",
    "Cookiecutter will then ask a series of questions that we need to answer. This will define our new dash app. Values in the `[]` are the default values. \n",
    "\n",
    "<center><img src=\"./imgs/dash_cookiecutter.png\" width=600></center>"
   ]
  },
  {
   "cell_type": "markdown",
   "id": "3c2ec115-972c-44e8-a66f-ee83b2cef424",
   "metadata": {
    "slideshow": {
     "slide_type": "slide"
    },
    "tags": []
   },
   "source": [
    "## Running our first dash app \n",
    "\n",
    "We should now have a new folder called `my_test_project`, or whatever name you gave your new dash app. In order to start the application we need to first `install` the app. As this is a python based application we can do that very easily using `pip`\n",
    "\n",
    "We first open a terminal and navigate to the `my_test_project` folder \n",
    "\n",
    "```sh\n",
    "cd <file_path>/my_test_project\n",
    "```\n",
    "\n",
    "Then we run the following command which will install our app in an **editable** mode, meaning we can change the application without having to re-install it. \n",
    "\n",
    "```sh\n",
    "pip install -e . \n",
    "```"
   ]
  },
  {
   "cell_type": "markdown",
   "id": "26207b4b-2d97-4384-9498-30a0ac21c8e8",
   "metadata": {
    "slideshow": {
     "slide_type": "slide"
    },
    "tags": []
   },
   "source": [
    "Once the application has been installed we can start the application by using the following command. The `my_test_project` will be different if you changed the `project_name` when using `cookiecutter`.\n",
    "\n",
    "```sh\n",
    "> run-my_test_project-dev\n",
    "```\n",
    "\n",
    "<center><img src=\"./imgs/dash_start_dev.png\"></center>"
   ]
  },
  {
   "cell_type": "markdown",
   "id": "b7632962-ca54-464e-954b-58012b650396",
   "metadata": {
    "slideshow": {
     "slide_type": "slide"
    },
    "tags": []
   },
   "source": [
    "Our dash app will now be running locally on our machine. In order to see it we need to open up a web browser and go to the address that is quoted in the output of `run-my_test_project-dev`. In this case its is `http://127.0.0.1:8050`\n",
    "\n",
    "<center><img src=\"./imgs/dash_app.png\"></center>"
   ]
  },
  {
   "cell_type": "markdown",
   "id": "eb6c72e1-329b-43a9-bc45-e6769118239b",
   "metadata": {
    "slideshow": {
     "slide_type": "slide"
    },
    "tags": []
   },
   "source": [
    "## Developing a dash app\n",
    "\n",
    "<table>\n",
    "    <tr>\n",
    "        <td>\n",
    "            <img src=\"./imgs/relevent_files.png\" width=200>\n",
    "        </td>\n",
    "        <td width=600>There is a lot of code that goes into making a dash app. Fortunately as we've templated our dash app, we only need to worry about code used to generate the pages.  There are only two folders we need to look at when we're building our app. \n",
    "            <ul>\n",
    "                <li><b>Data</b>: This folder is where we can store our datasets should we need to use some external data.</li><br>\n",
    "                <li><b>Pages</b>: This folder is where we define the pages of our dash application. Each `.py` file is its own page in the app.</li>\n",
    "            </ul>\n",
    "        </td>\n",
    "    </tr>\n",
    "</table>"
   ]
  },
  {
   "cell_type": "markdown",
   "id": "65960b83-5eed-4058-9aeb-433c8c712d0f",
   "metadata": {
    "slideshow": {
     "slide_type": "slide"
    },
    "tags": []
   },
   "source": [
    "### Pages\n",
    "\n",
    "In the pages folder there are individual `.py` files. Each of these files represents a page to be displayed in the app. There are three variables that a page must have in order to work. \n",
    "\n",
    "* `PAGE_NAME`: This is what will be displayed in the dropdown menu\n",
    "* `PAGE_ORDER`: This controls what position the page will appear in in the dropdown menu\n",
    "* `layout`: This is the python object that contains everything that is going to be shown on the page. \n",
    "\n",
    "On the first page of our app, `introduction.py` they can be seen here. \n",
    "\n",
    "<table><tr><td><center><img src=\"./imgs/page_name.png\"></center><td><center><img src=\"./imgs/layout.png\"></center></td></tr></table>"
   ]
  },
  {
   "cell_type": "markdown",
   "id": "678c38d0-86ea-4eef-bae4-84fb2cb0a569",
   "metadata": {
    "slideshow": {
     "slide_type": "slide"
    },
    "tags": []
   },
   "source": [
    "### Dash components\n",
    "In order to populate our page we need to use **dash components**. These can come from two places\n",
    "* **Dash Core Components** (`dcc`): These are the core components used in creating dashboards. They include dropdowns, sliders and graph objects. These are the most common components you'll use. A full list of available components can be found at [https://dash.plotly.com/dash-core-components](https://dash.plotly.com/dash-core-components)\n",
    "<br><br>\n",
    "* **Dash Bootstrap Components** (`dbc`): Bootstrap is a series of web elements that are commonly used in web design. This allows you to make more complex dashboards. A full list of available components can be found at [https://dash-bootstrap-components.opensource.faculty.ai/docs/components/](https://dash-bootstrap-components.opensource.faculty.ai/docs/components/)"
   ]
  },
  {
   "cell_type": "markdown",
   "id": "ad6ac05a-b8d4-4f3a-88b4-e6d96fc93f9d",
   "metadata": {
    "slideshow": {
     "slide_type": "slide"
    },
    "tags": []
   },
   "source": [
    "### Creating a simple text page \n",
    "\n",
    "The simplest way to create a text page is to use the `dcc.Markdown` component. Full documentation can be found at [https://dash.plotly.com/dash-core-components/markdown](https://dash.plotly.com/dash-core-components/markdown)\n",
    "\n",
    "In order to use `dcc.Markdown` all we need to do is pass a markdown string into the argument for `dcc.Markdown`. \n",
    "\n",
    "Try creating a \"page\" with the following `layout` attribute.\n",
    "\n",
    "```python\n",
    "markdown = '# This is my first page'\n",
    "layout = dcc.Markdown(markdown)\n",
    "```"
   ]
  },
  {
   "cell_type": "markdown",
   "id": "69ec1718-1fb4-41b3-b9a3-569971c3f38f",
   "metadata": {
    "slideshow": {
     "slide_type": "slide"
    },
    "tags": []
   },
   "source": [
    "### Creating a simple graph\n",
    "\n",
    "The simplest way to create a text page is to use the `dcc.Graph` component. Full documentation can be found at [https://dash.plotly.com/dash-core-components/markdown](https://dash.plotly.com/dash-core-components/markdown)\n",
    "\n",
    "In order to use `dcc.Graph` all we need to do is pass a markdown string into the argument for `dcc.Graph`. \n",
    "\n",
    "Try creating another \"page\" with the following `layout` attribute.\n",
    "\n",
    "```python\n",
    "import plotly\n",
    "import plotly.express as px\n",
    "\n",
    "iris_data = plotly.data.iris()\n",
    "figure = px.scatter(iris_data , x='sepal_width', y='sepal_length', color='species')\n",
    "\n",
    "graph = dcc.Graph(id='iris', figure=figure)\n",
    "layout = graph\n",
    "```"
   ]
  },
  {
   "cell_type": "markdown",
   "id": "098818ed-9875-47fd-9140-9f463280ec18",
   "metadata": {
    "slideshow": {
     "slide_type": "slide"
    },
    "tags": []
   },
   "source": [
    "### Combining text and a graph\n",
    "\n",
    "In order to add more than one thing on a page, we need a component that will combine them. In order to do that we need to get our dashboard to generate some HTML tags. We can use [dash html components](https://dash.plotly.com/dash-html-components) to do this. In this case we can use a `Div` which will arrange the text and graph vertically. \n",
    "\n",
    "```python\n",
    "from dash import html \n",
    "from dash import dcc\n",
    "\n",
    "import plotly\n",
    "import plotly.express as px \n",
    "\n",
    "iris_data = plotly.data.iris()\n",
    "figure = px.scatter(iris_data, x='sepal_width', y='sepal_length', color='species')\n",
    "\n",
    "markdown_string = '# This is my first graph'\n",
    "\n",
    "markdown = dcc.Markdown(markdown_string)\n",
    "graph = dcc.Graph(figure=figure)\n",
    "\n",
    "layout = html.Div([markdown, graph])\n",
    "```\n"
   ]
  },
  {
   "cell_type": "markdown",
   "id": "2abf671a-1e2f-487f-b9af-ed01831493e2",
   "metadata": {
    "slideshow": {
     "slide_type": "slide"
    },
    "tags": []
   },
   "source": [
    "### Adding a filter \n",
    "\n",
    "We've successfully made a page with some text and a chart, but for a dashboard to be a dashboard it has to be interactive. We need to find a way of adding a filter onto our page. This can be done relatively simply, we're going to add a dropdown filter using `dcc.Dropdown`.\n",
    "\n",
    "```python\n",
    "from dash import html \n",
    "from dash import dcc\n",
    "\n",
    "import plotly\n",
    "import plotly.express as px \n",
    "\n",
    "iris_data = plotly.data.iris()\n",
    "figure = px.scatter(iris_data, x='sepal_width', y='sepal_length', color='species')\n",
    "\n",
    "markdown_string = '# This is my first graph'\n",
    "\n",
    "markdown = dcc.Markdown(markdown_string)\n",
    "graph = dcc.Graph(id='iris_graph', figure=figure)\n",
    "dropdown = dcc.Dropdown(id='dropdown')\n",
    "\n",
    "layout = html.Div([markdown, dropdown, graph])\n",
    "```\n"
   ]
  },
  {
   "cell_type": "markdown",
   "id": "773dd220-2422-4244-8d8b-5d3298594315",
   "metadata": {
    "slideshow": {
     "slide_type": "slide"
    },
    "tags": []
   },
   "source": [
    "### Populating a filter \n",
    "\n",
    "We've successfully added our dropdown menu, but its empty. That because in dash we need to manually the filter what values to filter between. If we want to filter the different species in our dataset then we can use pandas to get a list of those species and pass that to our filter. \n",
    "\n",
    "To add our unique species to our dropdown, we need to pass a list of dictionaries to the `options` argument. Each dictionary has two keys. \n",
    "\n",
    "* **label**: The string that is displayed in the filter \n",
    "* **value**: The value that is used when filter \n",
    "\n",
    "In this case we can use the same string, the species for the label and the value.\n",
    "\n",
    "```python \n",
    "# Need to create an object that looks like \n",
    "# [{'label':'setosa', 'value':'setosa'}, {'label':'virginica', 'value':'virginica'}...]\n",
    "\n",
    "unique_species = iris_data['species'].unique()\n",
    "dropdown_options = [{'label': species, 'value': species} for species in unique_species]\n",
    "\n",
    "dropdown = dcc.Dropdown(id='dropdown', options=dropdown_options)\n",
    "```"
   ]
  },
  {
   "cell_type": "markdown",
   "id": "8e005617-8fa2-45e5-905d-8fa5995df38a",
   "metadata": {
    "slideshow": {
     "slide_type": "slide"
    },
    "tags": []
   },
   "source": [
    "### Linking the filter to the graph \n",
    "\n",
    "Dash is very extensible but that means we need to do everything ourselves. We have a populated filter, but in order for it to work with our chart need to tell dash how to behave. \n",
    "\n",
    "To do this we need to create a `function` that updates our chart, and we need to link that function to our filter. This is done using a `callback`. `callbacks` can take any number of inputs and have any number of outputs. Here we need to have the input be the filter and the output be the chart. \n",
    "\n",
    "```python\n",
    "@app.callback(\n",
    "    Output('iris_graph', 'figure'),\n",
    "    Input('dropdown', 'value')\n",
    ")\n",
    "def update_graph(dropdown_value):\n",
    "    # Filter the dataset \n",
    "    iris = plotly.data.iris()\n",
    "    iris = iris[iris['species']==dropdown_value]\n",
    "    \n",
    "    figure = px.scatter(iris, x='sepal_width', y='sepal_length', color='species')\n",
    "    return figure\n",
    "\n",
    "\n",
    "```"
   ]
  },
  {
   "cell_type": "markdown",
   "id": "ce91e53d-f5be-44ac-bd4c-b737618dd467",
   "metadata": {
    "slideshow": {
     "slide_type": "slide"
    },
    "tags": []
   },
   "source": [
    "### Adding custom behavior to our filter \n",
    "\n",
    "We've successfully linked the filter to our graph, but what happens if we want to see all the species at once? Well as we can control whats in the filter and how the filter works, we can easily add this functionality. \n",
    "\n",
    "First we need to add an \"All\" option into the filter \n",
    "```python\n",
    "dropdown_options.append({'label':'All', 'value':'All'})\n",
    "```\n",
    "\n",
    "Then we need to tell the update graph function how to behave when it receives 'All' as an argument. \n",
    "```python\n",
    "def update_graph(dropdown_value):\n",
    "    iris = plotly.data.iris()\n",
    "    \n",
    "    if dropdown_value != 'All':\n",
    "        iris = iris[iris['species'] == dropdown_value]\n",
    "    \n",
    "    figure = px.scatter(iris, x='sepal_width', y='sepal_length', color='species')\n",
    "    return figure\n",
    "```"
   ]
  },
  {
   "cell_type": "markdown",
   "id": "de7d5c47-22ff-4c76-86df-ed127f1d4e85",
   "metadata": {
    "slideshow": {
     "slide_type": "slide"
    },
    "tags": []
   },
   "source": [
    "## Further reading \n",
    "\n",
    "This is the form of all behavior in dash, for further tutorials the best place to go to is [https://dash.plotly.com/](https://dash.plotly.com/)"
   ]
  }
 ],
 "metadata": {
  "kernelspec": {
   "display_name": "Python 3 (ipykernel)",
   "language": "python",
   "name": "python3"
  },
  "language_info": {
   "codemirror_mode": {
    "name": "ipython",
    "version": 3
   },
   "file_extension": ".py",
   "mimetype": "text/x-python",
   "name": "python",
   "nbconvert_exporter": "python",
   "pygments_lexer": "ipython3",
   "version": "3.9.5"
  }
 },
 "nbformat": 4,
 "nbformat_minor": 5
}
