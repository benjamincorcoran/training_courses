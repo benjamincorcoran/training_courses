{
 "cells": [
  {
   "cell_type": "markdown",
   "id": "f5ee0a52-a8e4-4202-8d3d-c4c25a832789",
   "metadata": {
    "slideshow": {
     "slide_type": "slide"
    },
    "tags": []
   },
   "source": [
    "# Introduction to Git\n",
    "<br><br>\n",
    "\n",
    "**ONS / NISR** <br>\n",
    "2021"
   ]
  },
  {
   "cell_type": "markdown",
   "id": "01ff492e-375b-419c-8d65-68104519b411",
   "metadata": {
    "slideshow": {
     "slide_type": "slide"
    },
    "tags": []
   },
   "source": [
    "<h3>Git is an <b style=\"color:#2259A9\">open-source</b> <b style=\"color:#6DA34D\">distributed</b> <b style=\"color:#F67E7D\"> version control system</b>.</h3>\n",
    "\n",
    "We can break this down into the following parts.\n",
    "\n",
    "* <b style=\"color:#2259A9\">Open-source</b>: The code that runs git is freely available to anyone who wants to use it.\n",
    "\n",
    "* <b style=\"color:#6DA34D\">Distributed</b>: Git operates across multiple different computers.\n",
    "\n",
    "* <b style=\"color:#F67E7D\">Version control system</b>: Git tracks the changes made to files."
   ]
  },
  {
   "cell_type": "markdown",
   "id": "ec9afd28-8c42-4eab-bfd1-29528e2b3a36",
   "metadata": {
    "slideshow": {
     "slide_type": "subslide"
    },
    "tags": []
   },
   "source": [
    "### Git vs Github\n",
    "\n",
    "**Git** is the program that lets us version control our projects \n",
    "**GitHub** is an online platform stores and allows us to manage all our different projects.\n",
    "\n",
    "You don't have to use **Github** to use **Git** but you do need to use **Git** in order to use **Github**.\n",
    "\n",
    "<center><a href=\"https://github.com/NISR-analysis/\"><img src=\"./imgs/github_logo.png\"></a></center>"
   ]
  },
  {
   "cell_type": "markdown",
   "id": "344da414-996e-4171-b86b-e1b8164c2016",
   "metadata": {
    "slideshow": {
     "slide_type": "slide"
    },
    "tags": []
   },
   "source": [
    "## Why use Git?\n",
    "\n",
    "<img src=\"./imgs/git_versionfinal.png\" width=800>"
   ]
  },
  {
   "cell_type": "markdown",
   "id": "057faebd-7cfa-4f50-995e-b1b88a64c377",
   "metadata": {
    "slideshow": {
     "slide_type": "subslide"
    },
    "tags": []
   },
   "source": [
    "### Git is a time-machine \n",
    "\n",
    "Git keeps track of all the changes you've made to your project, and when you made them. \n",
    "\n",
    "Git lets you move backwards and forwards through your projects history without losing any of the changes you've made. \n",
    "\n",
    "<center><img src=\"./imgs/timemachine.jpeg\"></center>"
   ]
  },
  {
   "cell_type": "markdown",
   "id": "f024ff41-c95f-4d1c-922b-1fd4f1145267",
   "metadata": {
    "slideshow": {
     "slide_type": "subslide"
    },
    "tags": []
   },
   "source": [
    "### Git is a collaboration tool\n",
    "\n",
    "Git makes combine work from multiple people a breeze. It even lets multiple people edit the same file and git seamlessly combines all the changes.\n",
    "\n",
    "<center><img src=\"./imgs/collaboration.png\"></center>"
   ]
  },
  {
   "cell_type": "markdown",
   "id": "c5287e7d-3df4-4379-be47-80339841fc4a",
   "metadata": {
    "slideshow": {
     "slide_type": "subslide"
    },
    "tags": []
   },
   "source": [
    "### Git is an experimentation tool\n",
    "\n",
    "Git lets you manage multiple versions of your project all in the same place. This means you can try something completely new without losing your old work, or having to make a new copy of your project. \n",
    "\n",
    "<center><img src=\"./imgs/experiment.jpeg\" width=300></center>"
   ]
  },
  {
   "cell_type": "markdown",
   "id": "fcfbb66d-7847-442b-b9ee-4fb9d8ca96a1",
   "metadata": {
    "slideshow": {
     "slide_type": "slide"
    },
    "tags": []
   },
   "source": [
    "## Excerise 1: Opening and exploring a Git \"repository\"\n",
    "\n",
    "A <b>respository</b> is the name for the folder that contains your project, and all the previous versions of your project. Lets look at the `git_sandbox` repository.\n",
    "\n",
    "[https://github.com/NISR-analysis/ds-gitsandbox](https://github.com/NISR-analysis/ds-gitsandbox)\n",
    "\n",
    "<center><img src=\"./imgs/git_sandbox.png\" width=600></center>"
   ]
  },
  {
   "cell_type": "markdown",
   "id": "dda0e330-9680-410f-8fe6-e3566dbb2ddd",
   "metadata": {
    "slideshow": {
     "slide_type": "subslide"
    },
    "tags": []
   },
   "source": [
    "<br><br>We can explore the git repository in our web browser on Github but if we want to start editing things we need to copy the **repository** to our local machine. \n",
    "\n",
    "To do this we need to **clone** our repository. **Cloning** is where we take a copy of the entire repository. \n",
    "\n",
    "In order to **clone** our repository we first need to get a link to the repository, we can get this from Github by clicking the **Code** dropdown button. \n",
    "\n",
    "<center><img src=\"./imgs/git_clonelink.png\" width=300></center>"
   ]
  },
  {
   "cell_type": "markdown",
   "id": "b50e18a5-a848-4cfc-b157-d04ff55ad0e3",
   "metadata": {
    "slideshow": {
     "slide_type": "subslide"
    },
    "tags": []
   },
   "source": [
    "### Cloning \n",
    "\n",
    "There are two ways to clone a repository, using the command line and using Github desktop. \n",
    "\n",
    "In order to clone a repository using the command line we can use\n",
    "`git clone <url_to_repository>` \n",
    "\n",
    "In order to clone a repository using Github desktop we just copy that same URL into the **clone repository** dialog box.\n",
    "\n",
    "<table>\n",
    "    <tr><td><img src=\"./imgs/git_clonecmd.png\" width=400></td>\n",
    "    <td><img src=\"./imgs/git_clonedesktop.png\" width=350></td></tr>\n",
    "</table>"
   ]
  },
  {
   "cell_type": "markdown",
   "id": "a5aeb97b-35e1-4ca5-9604-9352bb84f997",
   "metadata": {
    "slideshow": {
     "slide_type": "slide"
    },
    "tags": []
   },
   "source": [
    "## Branches\n",
    "\n",
    "In Git we do all our development in **branches**. By default git will create a **main** branch, but you can create any branch you want. \n",
    "\n",
    "A branch is essentially a **copy** of the code that you're working on, that is stored within the repository. You can have as many **branches (copies)** of your code in your repository as you want. \n",
    "\n",
    "Branches let you (and others) work on the same code without changing or breaking code that someone else is working on / or code that has been deployed into production.\n"
   ]
  },
  {
   "cell_type": "markdown",
   "id": "13cdaf24-999e-4859-9871-3fe066357edf",
   "metadata": {
    "slideshow": {
     "slide_type": "subslide"
    },
    "tags": []
   },
   "source": [
    "### Exercise 2 - Switching Branches\n",
    "\n",
    "By default you will find your repository defaults to the **main** branch (sometimes **master** in older repositories).\n",
    "\n",
    "We can list all the branches within our repository using `git branch -a` on the command line or clicking **Current Branch** on Github desktop. \n",
    "\n",
    "*Note: If you use the command-line you'll notice some branches with the path `/remotes/origin/`, these are used by git to reference the version of these branches stored in Github itself*\n",
    "\n",
    "<table>\n",
    "    <tr><td><img src=\"./imgs/git_branchlistcmd.png\" width=300></td>\n",
    "        <td><img src=\"./imgs/git_branchlistdesktop.png\" width=300></td>\n",
    "    </tr>\n",
    "</table>"
   ]
  },
  {
   "cell_type": "markdown",
   "id": "44486854-efb0-4a94-92c9-61a31c16c317",
   "metadata": {
    "slideshow": {
     "slide_type": "subslide"
    },
    "tags": []
   },
   "source": [
    "### Checking-out a branch\n",
    "\n",
    "In order to access the code and files stored in a branch we need to **checkout** that branch. This will change that files currently stored in our directory to match the files stored in the branch we're checking out. \n",
    "\n",
    "Using the command-line we can do `git checkout <branchname>`. Using Github desktop we can click on the name of the branch we want to checkout. \n",
    "\n",
    "**Can you find the treasure?**\n",
    "\n",
    "<img src=\"./imgs/git_checkoutcmd.png\">"
   ]
  },
  {
   "cell_type": "markdown",
   "id": "12debb46-f06c-41ba-8725-46e97c5a8f76",
   "metadata": {
    "slideshow": {
     "slide_type": "slide"
    },
    "tags": []
   },
   "source": [
    "## History \n",
    "\n",
    "We mentioned that git is a **time-machine**. On any branch we can look at the history of changes that have been made to that branch. \n",
    "\n",
    "We can use `git log` to see the history of changes on the branch we currently have checked-out, or use the **history** tab in Github Desktop.\n",
    "\n",
    "<table>\n",
    "    <tr>\n",
    "        <td><img src=\"./imgs/git_logcmd.png\"></td>\n",
    "        <td><img src=\"./imgs/git_logdesktop.png\"></td>\n",
    "    </tr>\n",
    "</table>"
   ]
  },
  {
   "cell_type": "markdown",
   "id": "d4a56fff-f6f5-4fd1-8794-a83c51d434f1",
   "metadata": {
    "slideshow": {
     "slide_type": "slide"
    },
    "tags": []
   },
   "source": [
    "## Making changes\n",
    "\n",
    "When we have a branch checked-out we can edit the files just as we would if we weren't using git. However, if we want git to remember our changes we need to both **save** the file and **commit** the changes. \n",
    "\n",
    "Git tracks changes to files via these **commits**. Git calculates the changes you've made between the most recent commit and your current version of the file. **Committing** tells git to save these changes, and add them to the history of the branch. This mean we can go back to this point in time regardless of any changes we make. "
   ]
  },
  {
   "cell_type": "markdown",
   "id": "d71d8692-05b6-427e-a489-8afd156e057d",
   "metadata": {
    "slideshow": {
     "slide_type": "subslide"
    },
    "tags": []
   },
   "source": [
    "### Exercise 3 - Translating \n",
    "\n",
    "Checkout the **translate** branch. In there there should be a file called `to_translate.txt` which contains **10** questions we want to ask, unfortunately they've been written in French!\n",
    "\n",
    "<img src=\"./imgs/git_french.png\">"
   ]
  },
  {
   "cell_type": "markdown",
   "id": "294d79e1-d785-414d-bd5b-cdb4e12d02a1",
   "metadata": {
    "slideshow": {
     "slide_type": "subslide"
    },
    "tags": []
   },
   "source": [
    "#### 1. Create a new branch \n",
    "\n",
    "If we all start editing the same branch, we're going to have issues. Git wont be able to tell which edits are the correct ones. To avoid this we employ something called a **branching-strategy**. There are many different types of branching strategies but we'll use a simple one here. \n",
    "\n",
    "Everyone creates their own branch from the **translate** branch. \n",
    "\n",
    "<center><img src=\"./imgs/git_branchingstrat.png\" width=400></center>"
   ]
  },
  {
   "cell_type": "markdown",
   "id": "1be5ce66-a6ea-4439-abe5-9e1d429bd4ec",
   "metadata": {
    "slideshow": {
     "slide_type": "subslide"
    },
    "tags": []
   },
   "source": [
    "This can be done easily using a command we've already encountered `git checkout`\n",
    "\n",
    "To create a new branch (based on the currently checked-out branch) and switch to it use `git checkout -b <branch_name>`. For this exercise set the branch_name to **translate_your_name**\n",
    "\n",
    "Or using Github desktop, click **New Branch** and make sure to base the branch on **translate**\n",
    "\n",
    "<table><tr><td><img src=\"./imgs/git_createbranchdesktop.png\" width=400></td><td><img src=\"./imgs/git_createbranchdesktop2.png\" width=200></td></tr></table>\n",
    "\n",
    "Great, now we all have a unique branch containing the file that needs to be translated. Now we can work in parallel to solve this problem."
   ]
  },
  {
   "cell_type": "markdown",
   "id": "b5b865fb-bbe4-4be1-a7c7-fef1f87acff2",
   "metadata": {
    "slideshow": {
     "slide_type": "subslide"
    },
    "tags": []
   },
   "source": [
    "#### 2. Staging your changes\n",
    "\n",
    "Once you've made and saved your changes, we need to tell git to remember them. We can do this using the `commit` command. A git commit how we tell git to take a snapshot of the current branch and record any changes that have occurred.\n",
    "\n",
    "To create a commit we need to first tell git which files we want to include, this is known as **staging** the changes. On the command line this can be done with `git add <filename>`. If you're using Github desktop, staging is controlled by ticking or un-ticking the file in the changes tab.\n",
    "\n",
    "<table>\n",
    "    <tr>\n",
    "        <td><img src=\"./imgs/git_stagecmd.png\"></td>\n",
    "        <td><img src=\"./imgs/git_stagedesktop.png\"></td>\n",
    "    </tr>\n",
    "</table>"
   ]
  },
  {
   "cell_type": "markdown",
   "id": "d3877bdb-cab5-416e-82c9-adfdbe49448c",
   "metadata": {
    "slideshow": {
     "slide_type": "subslide"
    },
    "tags": []
   },
   "source": [
    "#### 3. Committing your changes\n",
    "\n",
    "Once we've **staged** our changes, we need to **commit** them. This will tell git to create a checkpoint for all the staged files. \n",
    "\n",
    "When creating a commit, we write a **commit message**. This is a short message describing what changes have occurred in this commit. Writing clear and concise commit messages is good practice and will make both your life and the life of anyone reviewing your code much easier. It is a great way to record why changes have been made. \n",
    "\n",
    "Committing your changes in command line is as easy as `git commit`. By default this will open **vim** a classic text editor which is powerful but also difficult to learn. \n",
    "\n",
    "- To begin typing your message press **i** to enter insert mode.\n",
    "- Type in your commit message \n",
    "- When you're done press `Esc` to exit insert mode. \n",
    "- Type `:wq` to write your message and quit.\n",
    "\n",
    "It can be often much easier to use the `-m` flag in `git commit` to include the message immediately. `git commit -m \"translated the first line\"`"
   ]
  },
  {
   "cell_type": "markdown",
   "id": "bf9b1951-99bd-430b-a121-b94e2cfbf818",
   "metadata": {
    "slideshow": {
     "slide_type": "subslide"
    },
    "tags": []
   },
   "source": [
    "<table>\n",
    "    <tr>\n",
    "        <td><img src=\"./imgs/git_commitcmd.png\" width=400></td>\n",
    "        <td><img src=\"./imgs/git_commitdesktop.png\" width=300></td>\n",
    "    </tr>\n",
    "</table>\n",
    "\n",
    "You can check your changes have been saved by looking at the `git log` or the history tab in Github desktop. \n",
    "\n",
    "<center><img src=\"./imgs/git_commitcheck.png\" width=600></center>"
   ]
  },
  {
   "cell_type": "markdown",
   "id": "ce141b5f-089d-42ac-bff9-b98cf04c2443",
   "metadata": {
    "slideshow": {
     "slide_type": "subslide"
    },
    "tags": []
   },
   "source": [
    "<br>\n",
    "\n",
    "#### 4. Pushing your changes\n",
    "\n",
    "We've successfully saved and committed our changes into our copy of the translate branch. This is all stored on our computer. But what if we want other people to be able to access our changes?\n",
    "\n",
    "To do that we need to **push** our branch into the github repository so that anyone can access the changes we've made. \n",
    "\n",
    "We can do this in the command line by using the following command `git push --set-upstream origin <branch_name>`. This tells git to tell github to set up a branch in the repository linked to our local one, and copy all the changes.\n",
    "\n",
    "<table>\n",
    "    <tr>\n",
    "        <td><img src=\"./imgs/git_pushcmd.png\"></td>\n",
    "        <td><img src=\"./imgs/git_pushdesktop.png\"></td>\n",
    "    </tr>\n",
    "</table>\n",
    "\n",
    "*Note you only need to use `--set-upstream` the first time you push, after than you can just use `git push`*"
   ]
  },
  {
   "cell_type": "markdown",
   "id": "dc388396-b409-4790-9636-b41a5aa83134",
   "metadata": {
    "slideshow": {
     "slide_type": "subslide"
    },
    "tags": []
   },
   "source": [
    "If we look on the github repository now, we'll see that our new branch is available to view, including the changes that we've just made.\n",
    "\n",
    "<center><img src=\"./imgs/git_branchpushed.png\"></center>"
   ]
  },
  {
   "cell_type": "markdown",
   "id": "0557ce4c-0d06-4e8e-b0d2-f439e63c0739",
   "metadata": {
    "slideshow": {
     "slide_type": "subslide"
    },
    "tags": []
   },
   "source": [
    "<br><br>\n",
    "#### 5. Merging your changes\n",
    "\n",
    "We've now got 9 branches each with a different line translated. Ideally we'd just have the translated file. This is where git becomes extremely useful. We can **merge** all of those branches back into our original **translate** branch, carrying all the changes that we've made.\n",
    "\n",
    "<center><img src=\"./imgs/git_branchstratfull.png\"></center>"
   ]
  },
  {
   "cell_type": "markdown",
   "id": "84d41cc3-df55-405b-baa0-56935ff62118",
   "metadata": {
    "slideshow": {
     "slide_type": "subslide"
    },
    "tags": []
   },
   "source": [
    "In order to do this we need to create what is known as a **pull request**. This is a request to **pull** the changes from one branch, into another branch. This is usually done on Github so as to allow everyone the change to review and changes that are going into our branch. \n",
    "\n",
    "To create a pull request we open the branch with the changes we've made on, and click **Compare and Pull Request**\n",
    "\n",
    "<img src=\"./imgs/git_createpullrequest.png\">"
   ]
  },
  {
   "cell_type": "markdown",
   "id": "85301357-e065-4d25-b480-73e13a100ae1",
   "metadata": {
    "slideshow": {
     "slide_type": "subslide"
    },
    "tags": []
   },
   "source": [
    "Opening the pull request leads us the the pull request page. There are three main sections, the header describing which branches are going to be merged, the body containing templated text to describe the pull request and the panel on the right that allows us to add extra information and requirements.\n",
    "\n",
    "<center><img src=\"./imgs/git_pullrequestpage.png\" width=600></center>"
   ]
  },
  {
   "cell_type": "markdown",
   "id": "47147a08-2fd8-4447-be48-cc3a6a382f7c",
   "metadata": {
    "slideshow": {
     "slide_type": "subslide"
    },
    "tags": []
   },
   "source": [
    "The first section is the header, this allows us to control which branches we want to pull into and which branches we want to pull from. \n",
    "\n",
    "By default Github will assume you want to pull your branch into the **main/master** branch. In this case we want to pull it into the **translate** branch. In order to do this we just need to change the **base** to **translate**.\n",
    "\n",
    "<img src=\"./imgs/git_setbasebranch.png\">"
   ]
  },
  {
   "cell_type": "markdown",
   "id": "089f1a72-a44a-4ba7-adeb-860810cec96c",
   "metadata": {
    "slideshow": {
     "slide_type": "subslide"
    },
    "tags": []
   },
   "source": [
    "Next we want to write a description of our pull request. This is just like writing a commit message expect it usually has more detail as pull requests often have multiple commits and make significant changes to another branch.\n",
    "\n",
    "By default all NISR repositories have a template for pull requests to help you format your request and make sure that all the information that needs to be recorded is being captured.\n",
    "\n",
    "Git supports [markdown](https://www.markdowntutorial.com/) formatting of text which you can see a preview of using the **Preview tab**"
   ]
  },
  {
   "cell_type": "markdown",
   "id": "58046bc1-4d84-40ef-9927-009a4e48bbca",
   "metadata": {
    "slideshow": {
     "slide_type": "subslide"
    },
    "tags": []
   },
   "source": [
    "<br><br><center><img src=\"./imgs/git_pullrequestmessage.png\" width=600></center>"
   ]
  },
  {
   "cell_type": "markdown",
   "id": "8365fb37-228f-4cbb-bc08-87cd8ba13ad2",
   "metadata": {
    "slideshow": {
     "slide_type": "subslide"
    },
    "tags": []
   },
   "source": [
    "The final thing to do is add a review to the pull request. Code reviewers check the code does what is says it does and also act as gatekeepers to make sure that branches aren't being broken by code changes that don't work. \n",
    "\n",
    "To add a reviewer click the cog next to **Reviewers** and pick someone to review your pull request. This will usually be your team leader, or someone who has a good knowledge of the code you're writing. \n",
    "\n",
    "<center><img src=\"./imgs/git_reviewers.png\" width=200></center>\n"
   ]
  },
  {
   "cell_type": "markdown",
   "id": "52f362eb-e7fd-4a15-90ba-b16ed7716fa2",
   "metadata": {
    "slideshow": {
     "slide_type": "subslide"
    },
    "tags": []
   },
   "source": [
    "Clicking **Create Pull Request** at the bottom will **Open** this pull request. This will automatically take us to the pull request page. Here people can comment on the changes made in\n",
    "this pull request.\n",
    "\n",
    "Once your reviewer has approved your pull request, you can click **Merge pull request**. This will copy your changes into the **translate** branch. \n",
    "\n",
    "<center><img src=\"./imgs/git_mergepullrequest.png\"></center>"
   ]
  },
  {
   "cell_type": "markdown",
   "id": "218e58e2-9909-4153-bb1f-d30bf52ed8c5",
   "metadata": {
    "slideshow": {
     "slide_type": "subslide"
    },
    "tags": []
   },
   "source": [
    "<br><br>Once this is done you should be able to delete your branch, as all your changes have now been moved onto the **translate** branch.\n",
    "\n",
    "<center><img src=\"./imgs/git_merged.png\"></center>\n",
    "\n",
    "Looking at the history of the **translate** branch we can see that the changes have now been applied.\n",
    "\n",
    "<center><img src=\"./imgs/git_mergedbranch.png\"></center>"
   ]
  },
  {
   "cell_type": "markdown",
   "id": "51275791-0be8-458e-8939-f57f97a0b7c5",
   "metadata": {
    "slideshow": {
     "slide_type": "subslide"
    },
    "tags": []
   },
   "source": [
    "The final thing we need to do is to **pull** those changes down from the Github repository into our local copy. This is very easy using either Github Desktop or the command line. \n",
    "\n",
    "```\n",
    "git checkout translate\n",
    "git pull\n",
    "```\n",
    "\n",
    "<center><img src=\"./imgs/git_pullchange.png\"></center>"
   ]
  },
  {
   "cell_type": "markdown",
   "id": "35856478-cd6e-4c89-910a-41a4eb02a8e3",
   "metadata": {
    "slideshow": {
     "slide_type": "slide"
    },
    "tags": []
   },
   "source": [
    "## Where Git doesn't work \n",
    "\n",
    "Git works best for **text** files, this is anything from source code to csvs. Anything that can be open in a text editor is considered a **text** file. \n",
    "\n",
    "Git doesn't work well for **binary** files. \n",
    "\n",
    "| Binary File Type | Common Extensions |\n",
    "| --- | --- |\n",
    "| Images | jpg, png, gif, bmp... |\n",
    "| Video | mp4, mkv, avi, mov... |\n",
    "| Audio | mp3, aac, wav, flac... | \n",
    "| Documents | pdf, xlsx, ppt, docx... |\n",
    "| Archives | zip, rar, 7z, tar... |\n",
    "| Databases | mdb, accde, frm, sqlite... |\n",
    "\n",
    "This is because git calculates differences by looking at the **lines** in the data. Changes to **binary** files don't map to neat line changes, but instead the entire file changes. Git can record these changes but it will end up copying the whole file in each commit which can end up making your repository huge and slow. \n",
    "\n",
    "Try to avoid committing big or binary file formats into your repository. "
   ]
  },
  {
   "cell_type": "markdown",
   "id": "35cec8a2-2867-447a-ada3-f3bc33ed9c56",
   "metadata": {
    "slideshow": {
     "slide_type": "slide"
    },
    "tags": []
   },
   "source": [
    "### Explore more branching\n",
    "\n",
    "To explore branching some more as well as using the git command line, try playing learngitbranching. \n",
    "[https://learngitbranching.js.org/](https://learngitbranching.js.org/)"
   ]
  }
 ],
 "metadata": {
  "kernelspec": {
   "display_name": "Python 3 (ipykernel)",
   "language": "python",
   "name": "python3"
  },
  "language_info": {
   "codemirror_mode": {
    "name": "ipython",
    "version": 3
   },
   "file_extension": ".py",
   "mimetype": "text/x-python",
   "name": "python",
   "nbconvert_exporter": "python",
   "pygments_lexer": "ipython3",
   "version": "3.9.5"
  }
 },
 "nbformat": 4,
 "nbformat_minor": 5
}
