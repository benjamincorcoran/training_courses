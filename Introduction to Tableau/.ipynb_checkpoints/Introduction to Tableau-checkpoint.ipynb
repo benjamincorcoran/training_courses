{
 "cells": [
  {
   "cell_type": "markdown",
   "id": "b886487a-7872-4fe6-9d11-a29eef1e1621",
   "metadata": {
    "slideshow": {
     "slide_type": "slide"
    },
    "tags": []
   },
   "source": [
    "# Introduction to Tableau \n",
    "<br><br>\n",
    "**ONS / NISR**<br>\n",
    "2021"
   ]
  },
  {
   "cell_type": "markdown",
   "id": "baeeab2f-1a24-4777-ad4b-5c0d66162528",
   "metadata": {
    "slideshow": {
     "slide_type": "slide"
    },
    "tags": []
   },
   "source": [
    "## What is Tableau? \n",
    "\n",
    "Tableau is a dashboarding tool that makes it incredibly easy to create complex, interactive visualisations in a **low-code** way. \n",
    "\n",
    "Tableau can optimise for whatever type of device is being used (computer, phone, tablet) meaning it always looks good.\n",
    "\n",
    "Tableau can be used to make complex interactive dashboards for nearly any data source. \n",
    "\n",
    "Tableau can be easily embedded on any webpage, or downloaded into a standalone file offline viewing"
   ]
  },
  {
   "cell_type": "markdown",
   "id": "6577f8d5-bd9e-4682-b934-abdd7b1cd5a7",
   "metadata": {
    "slideshow": {
     "slide_type": "subslide"
    },
    "tags": []
   },
   "source": [
    "<img src=\"./imgs/tableau_example.png\">"
   ]
  },
  {
   "cell_type": "markdown",
   "id": "9c9fa5ea-6890-4977-b727-25862352f008",
   "metadata": {
    "slideshow": {
     "slide_type": "slide"
    },
    "tags": []
   },
   "source": [
    "## Getting Started"
   ]
  },
  {
   "cell_type": "markdown",
   "id": "9637d3b8-5b8b-4434-9422-3be4f3d8db33",
   "metadata": {
    "slideshow": {
     "slide_type": "slide"
    },
    "tags": []
   },
   "source": [
    "<br>\n",
    "### Importing Data\n",
    "\n",
    "<div style=\"float:left; width:80%\">\n",
    "<br>\n",
    "    \n",
    "Tableau can connect to many different types of data, either directly as <b>files</b> or via a <b>database</b> on a server.\n",
    "<br><br>\n",
    "<em>For Files</em>\n",
    "\n",
    "<ul>\n",
    "    <li>Launch Tableau</li>\n",
    "    <li>Under the <b>connect</b> pane select the file type your planning to work with. Text files includes .CSVs and .TSVs etc.</li>\n",
    "    <li>Navigate to the file using the file select dialog and click open.</li>\n",
    "</ul>\n",
    "<br>\n",
    "<em>For Databases</em>\n",
    "\n",
    "<ul>\n",
    "    <li>Connections to live databases aren't available in Tableau public</li>\n",
    "    <li>But connections to Google Drive and Google Sheets are available under <em>To a Server > More...</em></li>\n",
    "</ul>      \n",
    "</div>\n",
    "\n",
    "\n",
    "<img src=\"./imgs/tableau_import.png\" width=15% style=\"float:right\">"
   ]
  },
  {
   "cell_type": "markdown",
   "id": "8716ec8b-ef56-4a28-a13e-e4587b9d77e0",
   "metadata": {
    "slideshow": {
     "slide_type": "slide"
    },
    "tags": []
   },
   "source": [
    "<img src=\"./imgs/tableau_datasource.png\">"
   ]
  },
  {
   "cell_type": "markdown",
   "id": "8f823e44-cae9-4d5f-b8f8-136c6a57283a",
   "metadata": {
    "slideshow": {
     "slide_type": "slide"
    },
    "tags": []
   },
   "source": [
    "## Creating Visualisations"
   ]
  },
  {
   "cell_type": "markdown",
   "id": "9389d2b2-069d-445c-bc23-05e69cf934ba",
   "metadata": {
    "slideshow": {
     "slide_type": "slide"
    },
    "tags": []
   },
   "source": [
    "<img src=\"./imgs/tableau_worksheet.png\">"
   ]
  },
  {
   "cell_type": "markdown",
   "id": "3868e1e8-1e8b-41e7-80cd-9ad234fd7d98",
   "metadata": {
    "slideshow": {
     "slide_type": "slide"
    },
    "tags": []
   },
   "source": [
    "### Dimensions and Measures (Pills)\n",
    "\n",
    "<div style=\"float:left; width:80%\">\n",
    "Tableau automatically creates dimensions and measures based on the data provided and calls them “pills”. \n",
    "In order to create a visualisation we drag these pills to different shelves.\n",
    "\n",
    "<ol>\n",
    "<li><b style=\"color:#4E79A7\">Dimensions</b> are fields that cannot (or should not) be aggregated. These are coloured <b style=\"color:#4E79A7\">blue</b>.</li>\n",
    "<li><b style=\"color:#59A14F\">Measures</b> are fields that can be aggregated, measured and used for mathematical operations. These are coloured <b style=\"color:#59A14F\">green</b>.</li>\n",
    "    </ol>\n",
    "\n",
    "It is possible to change measures to dimensions and vice-versa if Tableau has incorrectly assigned them.\n",
    "</div>\n",
    "\n",
    "<img src=\"./imgs/tableau_pills.png\" style=\"float:right; width:20%\">"
   ]
  },
  {
   "cell_type": "markdown",
   "id": "56ad6f6d-a3e4-4802-88af-a53ab17ae525",
   "metadata": {
    "slideshow": {
     "slide_type": "slide"
    },
    "tags": []
   },
   "source": [
    "### Creating a Table\n",
    "\n",
    "<div style=\"float:left; width:80%\">\n",
    "<ol>\n",
    "    <li>Rename your sheet <b>Table</b>.</li>\n",
    "    <li>Drag the <b>Language</b> pill to the Rows shelf.</li>\n",
    "    <li>Drag the <b>Shirtsize</b> pill to the Columns shelf.</li>\n",
    "    <li>Drag the <b>tableau_data.csv(Count)</b> measure pill to Text mark. <br> <em>This pill is autogenerated by Tableau and can be used to count the number of rows</em></li>\n",
    "</ol>\n",
    "</div>\n",
    "\n",
    "<img src=\"./imgs/tableau_textmark.png\" style=\"float:right; width:20%\">"
   ]
  },
  {
   "cell_type": "markdown",
   "id": "b91ce017-a0e1-42ac-8dd2-db7ba86398d6",
   "metadata": {
    "slideshow": {
     "slide_type": "subslide"
    },
    "tags": []
   },
   "source": [
    "<br>\n",
    "\n",
    "### Aggregation\n",
    "\n",
    "<div style=\"float:left; width:65%;\">\n",
    "<br><br><br>\n",
    "<ol>\n",
    "    <li>Replace <b>tableau_data.csv(Count)</b> with <b>Income</b>.</li><br>\n",
    "    <li>What does the table show now?</li><br>\n",
    "    <li>Change the aggregation of <b>Income</b> so the table shows the average income</li>\n",
    "</ol>\n",
    "</div>\n",
    "\n",
    "<img src=\"./imgs/tableau_aggregation.png\" style=\"float:right; width:35%\">"
   ]
  },
  {
   "cell_type": "markdown",
   "id": "7141d649-50c3-45d4-8d3c-59609cc5f7e0",
   "metadata": {
    "slideshow": {
     "slide_type": "subslide"
    },
    "tags": []
   },
   "source": [
    "### More detailed tables\n",
    "\n",
    "<div style=\"float:left; width:80%;\">\n",
    "<br><br>\n",
    "<b style=\"color:#4E79A7\">Measure Names</b> and <b style=\"color:#59A14F\">Measure Values</b> are dynamic pills generated by Tableau. <br><br>\n",
    "\n",
    "Try the following:<br>\n",
    "<ol>\n",
    "    <li>Drag <b style=\"color:#4E79A7\">Measure Names</b> to a row or column</li>\n",
    "    <li>Drag <b style=\"color:#59A14F\">Measure Values</b> to a marks card.</li>\n",
    "</ol>\n",
    "<br><br>\n",
    "Doing this will create the new <b>Measure Values</b> card. We can now create tables with more than one measure in them. \n",
    "</div>\n",
    "\n",
    "<img src=\"./imgs/tableau_measurevaluescard.png\" style=\"float:right; width:20%\">"
   ]
  },
  {
   "cell_type": "markdown",
   "id": "cf2aa58d-74ae-4e8a-923e-fa7c4f710f67",
   "metadata": {
    "slideshow": {
     "slide_type": "slide"
    },
    "tags": []
   },
   "source": [
    "### Create a new visualisation (Viz)\n",
    "\n",
    "There are three types of tab in Tableau:\n",
    "- **Sheet** Create a single chart or visualisation.\n",
    "- **Dashboards** Combine multiple charts or visualisations into a single page. \n",
    "- **Stories** Combine dashboards into a \"story\". \n",
    "\n",
    "In order to create each one use the appropriate button at the bottom of the window. \n",
    "\n",
    "<center><img src=\"./imgs/tableau_newsheet.png\" width=400></center>"
   ]
  },
  {
   "cell_type": "markdown",
   "id": "764671f3-aa11-4588-b3f1-2b832f7b617b",
   "metadata": {
    "slideshow": {
     "slide_type": "slide"
    },
    "tags": []
   },
   "source": [
    "<br>\n",
    "\n",
    "### Creating a chart\n",
    "\n",
    "<div style=\"float:left; width:80%;\">\n",
    "   \n",
    "<br><br>\n",
    "Try the following:\n",
    "<br><br>\n",
    "<ol>\n",
    "    <li>Create a new sheet called <b>Chart</b>.</li>\n",
    "    <li>Drag the <b>Shirtsize</b> pill to the Columns shelf.</li>\n",
    "    <li>Drag the <b>Income</b> measure pill to Rows shelf.</li>\n",
    "</ol>\n",
    "<br><br>\n",
    "Dragging additional pills onto shelves will split the data further. \n",
    "\n",
    "Dragging pills onto different mark types will theme the chart by elements in these pills.<br><br>\n",
    "Use the <b>Show Me</b> drop-down menu to quickly create other chart types. Notice how the pills rearrange themselves. \n",
    "</div>\n",
    "    \n",
    "<img src=\"./imgs/tableau_showme.png\" style=\"float:right; width:20%\">"
   ]
  },
  {
   "cell_type": "markdown",
   "id": "6c9a7d88-c21f-4c02-b9e6-f5e646a5b33f",
   "metadata": {
    "slideshow": {
     "slide_type": "slide"
    },
    "tags": []
   },
   "source": [
    "### Filtering\n",
    "\n",
    "The main way a user can interact with a Tableau document. They allow the user to define exactly what data they are looking at and are completely extensible.\n",
    "\n",
    "* Choose one of the two visualisations you’ve already created.\n",
    "* Drag a pill into the **Filter** card above the **Marks** card.\n",
    "* Experiment with how different and multiple filters affect your viz. \n",
    "\n",
    "Filtering by aggregate measures is possible but tricky. Especially when interacting with other filters."
   ]
  },
  {
   "cell_type": "markdown",
   "id": "ccd35629-e4ac-488d-8f8f-5565bcbfd8f1",
   "metadata": {
    "slideshow": {
     "slide_type": "slide"
    },
    "tags": []
   },
   "source": [
    "### Tooltips\n",
    "\n",
    "You can customise tooltips by clicking on the the tooltip mark. It is also possible to add extra information into tooltips by dragging pills onto the tooltip mark. Tooltips are incredibly useful for providing extra information and for clarifying exactly what a single mark on your data visualisation means. \n",
    "\n",
    "<center><img src=\"./imgs/tableau_tooltip.png\" width=300></center>\n"
   ]
  },
  {
   "cell_type": "markdown",
   "id": "c0150d34-e600-48ce-9ef0-f9cce97038a0",
   "metadata": {
    "slideshow": {
     "slide_type": "slide"
    },
    "tags": []
   },
   "source": [
    "### Maps \n",
    "\n",
    "Tableau is really useful for creating interactive maps very quickly. In order to create a map all we need is a latitude and longitude in our dataset. Dragging those pills to the column and row shelves and a map will form. \n",
    "\n",
    "It is also possible to connect directly to **shapefiles** and other spatial data to create even more complex maps. "
   ]
  },
  {
   "cell_type": "markdown",
   "id": "a5611327-182f-4704-9165-b53f94ce7471",
   "metadata": {
    "slideshow": {
     "slide_type": "subslide"
    },
    "tags": []
   },
   "source": [
    "### Connecting to a shapefile \n",
    "\n",
    "Try the following:\n",
    "\n",
    "1. Click on the **Data Source** tab.\n",
    "2. Click on the **Add** under the connections pane. \n",
    "3. Click on **Spatial File**.\n",
    "4. Select the **.shp** file. \n",
    "\n",
    "Tableau now has two different files open. In order for tableau to know how to use them together you may need to define how the two connect. \n",
    "\n",
    "5. Drag the **.shp** file from the **Files** pane into the data table area. \n",
    "6. Create a relationship between the two data files by setting the matching fields to **Adm2 Pcode** and **Adm2 Pcode2**\n",
    "\n",
    "Your data sources are now connected"
   ]
  },
  {
   "cell_type": "markdown",
   "id": "88b46ff8-5382-4537-a191-59e3eccd300a",
   "metadata": {
    "slideshow": {
     "slide_type": "subslide"
    },
    "tags": []
   },
   "source": [
    "### Geography and Latitude / Longitude\n",
    "\n",
    "Going back to a worksheet you'll notice that there are a lot more pills available. These have mostly come from the shapefile's data. For example **Adm2 En** contains the English name for each second level administration region.  \n",
    "\n",
    "There are two new pills generated by Tableau as a result of connecting the shapefile. \n",
    "\n",
    "* <b style=\"color:#4E79A7\">Geography</b>: This pill can be used to create filled shapes\n",
    "* <b style=\"color:#59A14F\">Latitude/Longitude (Generated)</b>: This pill can be used to create point maps\n",
    "\n",
    "Test"
   ]
  },
  {
   "cell_type": "markdown",
   "id": "20b0f572-a3da-4313-89d1-5c63458dde96",
   "metadata": {
    "slideshow": {
     "slide_type": "slide"
    },
    "tags": []
   },
   "source": [
    "### Creating a filled map\n",
    "\n",
    "<div style=\"float:left; width:60%;\">\n",
    "Try the following:<br><br>\n",
    "<ol>\n",
    "<li>Create a new sheet called <b>FilledMap</b>.</li>\n",
    "<li>Drag the <b style=\"color:#4E79A7\">Geography</b> to the <b>Marks</b> card.</li>\n",
    "</ol><br><br>\n",
    "\n",
    "Tableau with automatically generate the map of the region from the shapefile. Notice that you can't select the subdivisions of the region. This is because we need to tell Tableau that we want this level of detail. <br><br>\n",
    "\n",
    "<ol start=3>\n",
    "<li>Drag the <b>Adm2 Pcode</b> pill into the <b>Marks</b> card.</li> \n",
    "<li>Drag the <b>Income</b> pill into the <b>Marks</b> colour. </li>\n",
    "    </ol>\n",
    "</div>\n",
    "\n",
    "<img src=\"./imgs/tableau_heatmap.png\" style=\"float:right; width:40%;\">"
   ]
  },
  {
   "cell_type": "markdown",
   "id": "57e4b89e-0619-462b-9597-57e42d687330",
   "metadata": {
    "slideshow": {
     "slide_type": "slide"
    },
    "tags": []
   },
   "source": [
    "### Creating a point map\n",
    "\n",
    "<div style=\"float:left; width:60%;\">\n",
    "Try the following:<br><br>\n",
    "<ol>\n",
    "<li>Create a new sheet called <b>PointMap</b>.</li>\n",
    "<li>Drag the <b style=\"color:#4E79A7\">Geography</b> to the <b>Marks</b> card.</li>\n",
    "<li>Change the Mark type to <b>Circle</b>\n",
    "</ol><br><br>\n",
    "    \n",
    "Try adding a pills into the Size and Colour marks. \n",
    "<br><br>\n",
    "Can you create a pie chart at each region?\n",
    "</div>\n",
    "\n",
    "<img src=\"./imgs/tableau_pointmap.png\" style=\"float:right; width:40%;\">"
   ]
  },
  {
   "cell_type": "markdown",
   "id": "e93d0983-758b-4d7f-bb93-386327808e6a",
   "metadata": {
    "slideshow": {
     "slide_type": "slide"
    },
    "tags": []
   },
   "source": [
    "## Creating Dashboards"
   ]
  },
  {
   "cell_type": "markdown",
   "id": "6ba90e00-d41d-4889-ac23-61eed63b79e8",
   "metadata": {
    "slideshow": {
     "slide_type": "slide"
    },
    "tags": []
   },
   "source": [
    "### Creating a Dashboard\n",
    "\n",
    "<div style=\"float:left; width:80%;\">\n",
    "<br><br>Create a new dashboard. <br><br>\n",
    "Drag in the sheets you’d like to display from the left hand side. <br><br>\n",
    "The size of the dashboard can be changed from left hand side. \n",
    "</div>\n",
    "<img src=\"./imgs/tableau_dashboardsheets.png\" style=\"float:right; width:20%;\">\n",
    "<br>\n"
   ]
  },
  {
   "cell_type": "markdown",
   "id": "a1e2bf4d-9c91-4562-8a27-b6867c42045a",
   "metadata": {
    "slideshow": {
     "slide_type": "subslide"
    },
    "tags": []
   },
   "source": [
    "### Dashboard objects\n",
    "\n",
    "<div style=\"float:left; width:80%;\">\n",
    "Additional objects can be added like images, text and live web pages. \n",
    "<br><br>\n",
    "Horizontal and Vertical layouts allow for more control of how your objects tile. \n",
    "</div>\n",
    "<img src=\"./imgs/tableau_dashboardobjects.png\" style=\"float:right; width:20%;\">"
   ]
  },
  {
   "cell_type": "markdown",
   "id": "879d6ce9-c649-4408-919a-2498f45b626d",
   "metadata": {
    "slideshow": {
     "slide_type": "slide"
    },
    "tags": []
   },
   "source": [
    "### Linked Filtering \n",
    "\n",
    "Filters that you've applied to your worksheet can be accessed from your dashboard. Using the gray down arrow on your chart or table select filters and then the filter you want to be available. \n",
    "\n",
    "Filters can be styled, and applied to <b>multiple</b> visualisations on the dashboard by using <b>Apply to Worksheets</b>. You can create very complex behavior using this method. \n",
    "\n",
    "<center><img src=\"./imgs/tableau_crossfilter.png\"></center>"
   ]
  },
  {
   "cell_type": "markdown",
   "id": "4497bdc2-7389-41cd-82d3-64c395780549",
   "metadata": {
    "slideshow": {
     "slide_type": "slide"
    },
    "tags": []
   },
   "source": [
    "### Dashboard Actions\n",
    "\n",
    "<div style=\"float:left; width:80%;\">\n",
    "<br><br>\n",
    "Dashboard actions are like linked filters, but they allow for different behaviors. Instead of interacting with a filter object on the page, interacting with a visualisations causes changes in other visualisations. \n",
    "<br><Br>\n",
    "Try adding a highlight action between your charts on <b>Shirtsize</b>. What happens if you change the behavior to <b>hover</b>?\n",
    "</div>\n",
    "\n",
    "<img src=\"./imgs/tableau_highlightaction.png\" style=\"float:right; width:20%;\">\n"
   ]
  },
  {
   "cell_type": "markdown",
   "id": "eca3273a-e1f5-41a8-ba5a-ef5a1d499fe0",
   "metadata": {
    "slideshow": {
     "slide_type": "slide"
    },
    "tags": []
   },
   "source": [
    "### Publishing\n",
    "\n",
    "Tableau public is a Tableau Inc.'s instance of Tableau server, available to anyone who wishes to publish there. All published data and workbooks are available to the public. \n",
    "\n",
    "Data will be uploaded directly to Tableau public's server and be available across the site. \n",
    "It will keep all your calculated fields, parameters, formatting and other metadata you’ve created. \n",
    "\n",
    "It is viewable through any web browser, can be edited in Tableau and re-uploaded.\n",
    "\n",
    "<b>Tableau Public is Public!</b> As Tableau needs access to raw data in order to work, if you publish a dashboard with sensitive data, anyone will be able to see it!\n",
    "\n",
    "Publishing in Tableau Public is as simple as saving (its actually the only way you can save). "
   ]
  },
  {
   "cell_type": "markdown",
   "id": "e52baae3-1946-4b2c-a5bd-587077a131bf",
   "metadata": {
    "slideshow": {
     "slide_type": "subslide"
    },
    "tags": []
   },
   "source": [
    "### How to publish\n",
    "\n",
    "Publishing in Tableau Public is as simple as saving (its actually the only way you can save). \n",
    "\n",
    "<b>File -> Save to Tableau Public</b>\n",
    "\n",
    "Once you've signed in you should only need to set the name for your workbook to be published. This will then automatically open your browser to a published tableau workbook. From here you can use the <b>share</b> icon to get a link to send to people and <b>embed</b> code that can be put on any website. \n",
    "\n",
    "<center><img src=\"./imgs/tableau_share.png\" width=200></center>"
   ]
  },
  {
   "cell_type": "markdown",
   "id": "34ec0725-4372-43a8-9fa8-e5a729bdb7e2",
   "metadata": {
    "slideshow": {
     "slide_type": "slide"
    },
    "tags": []
   },
   "source": [
    "### Advanced Topics"
   ]
  },
  {
   "cell_type": "markdown",
   "id": "bec8a34f-3ba2-4b64-bf9a-ac2a2645efbe",
   "metadata": {
    "slideshow": {
     "slide_type": "slide"
    },
    "tags": []
   },
   "source": [
    "### Calculated Fields\n",
    "\n",
    "Its possible to create entirely new fields in Tableau using calculated fields. Right-click in the tables pane and select **Create -> Calculated Field**.\n",
    "\n",
    "<center><img src=\"./imgs/tableau_calculatedfield.png\" width=300></center>\n",
    "\n",
    "These can be very handy, but best practice is to have as many fields on your data source as possible, so they can be verified at an earlier stage. "
   ]
  },
  {
   "cell_type": "markdown",
   "id": "22e22f9c-d20c-4b55-9e3e-65c04b2b274c",
   "metadata": {
    "slideshow": {
     "slide_type": "slide"
    },
    "tags": []
   },
   "source": [
    "### Table Calculations\n",
    "\n",
    "Table calculations are extremely powerful tools that allow you to create variables that calculate their value by looking at the entire dataset (or a section of it). They are also dynamic, meaning they respond to which ever pills are in the table. This can save you having to calculate every possible percentage in your dataset and instead calculate them on the fly. \n",
    "\n",
    "<center><img src=\"./imgs/tableau_tablecalculation.png\" width=300></center>"
   ]
  },
  {
   "cell_type": "markdown",
   "id": "43c04c92-ea7b-422e-a899-035b3302f087",
   "metadata": {
    "slideshow": {
     "slide_type": "slide"
    },
    "tags": []
   },
   "source": [
    "### Custom Colour-schemes\n",
    "\n",
    "Tableau has a lot of built in colour schemes, but in order to create professionally looking visualisations, its often useful to have a consistent format across the organisation. You can do this manually but it is a bit of a chore, however editing the **Preferences.tps** in your **My Tableau repository**.\n",
    "\n",
    "<center><img src=\"./imgs/tableau_customcolours.png\" width=300><center>"
   ]
  },
  {
   "cell_type": "markdown",
   "id": "012861c6-8ade-4c65-8f6f-07c3e5a3cf70",
   "metadata": {
    "slideshow": {
     "slide_type": "slide"
    },
    "tags": []
   },
   "source": [
    "### Find out more\n",
    "\n",
    "Tableau help: https://www.tableau.com/support/help \n",
    "\n",
    "Forums: https://community.tableau.com/welcome \n",
    "\n",
    "Training videos: https://www.tableau.com/learn/training \n",
    "\n",
    "Sample data & how-to videos: https://public.tableau.com/en-us/s/resources \n",
    "\n",
    "For inspiration: https://public.tableau.com/en-us/s/gallery \n"
   ]
  },
  {
   "cell_type": "code",
   "execution_count": null,
   "id": "f59bbb5d-6777-414c-a818-2679b161b4e1",
   "metadata": {},
   "outputs": [],
   "source": []
  }
 ],
 "metadata": {
  "kernelspec": {
   "display_name": "Python 3 (ipykernel)",
   "language": "python",
   "name": "python3"
  },
  "language_info": {
   "codemirror_mode": {
    "name": "ipython",
    "version": 3
   },
   "file_extension": ".py",
   "mimetype": "text/x-python",
   "name": "python",
   "nbconvert_exporter": "python",
   "pygments_lexer": "ipython3",
   "version": "3.9.5"
  }
 },
 "nbformat": 4,
 "nbformat_minor": 5
}
