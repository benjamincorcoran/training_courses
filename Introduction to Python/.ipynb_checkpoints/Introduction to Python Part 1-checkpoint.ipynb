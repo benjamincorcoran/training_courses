{
 "cells": [
  {
   "cell_type": "markdown",
   "metadata": {},
   "source": [
    "# Introduction to Python \n",
    "## Part 1\n",
    "\n",
    "<br><br>\n",
    "\n",
    "**NISR** <br>\n",
    "2021"
   ]
  },
  {
   "cell_type": "markdown",
   "metadata": {},
   "source": [
    "## Table of Contents\n",
    "<a href=\"#Background\"><font size=\"+1\">Background</font></a>\n",
    "* Learning Objectives\n",
    "* Working with Python\n",
    "* Jupyter Notebooks  \n",
    "* Markdown\n",
    "\n",
    "<a href=\"#Basic-Python\"><font size=\"+1\">Basic Python</font></a>\n",
    "* Numeric Values\n",
    "* Text Values\n",
    "* Logical Values\n",
    "* Casting (Type Conversions) in Python\n",
    "* Variable Assignment\n",
    "* Simple Conditional Statements\n",
    "\n",
    "<a href=\"#Python-Objects\"><font size=\"+1\">Python Objects</font></a>\n",
    "* Lists\n",
    "* Tuples\n",
    "* Accessing Values in Lists and Tuples\n",
    "* Dictionaries\n",
    "* Keeping Track of Objects\n",
    "* Iterable Objects\n",
    "* Getting Help\n",
    "* General Purpose Objects\n",
    "\n",
    "<a href=\"#The-Pandas-Library---Objects-for-Data-Science\"><font size=\"+1\">The Pandas Library - Objects for Data Science</font></a>\n",
    "* Series Objects\n",
    "* DataFrame Objects\n",
    "* Importing Python Modules (pandas)\n",
    "* Setting a Working Directory\n",
    "* Reading in Data\n",
    "* Exploring the Data\n",
    "\n",
    "<a href=\"#Selecting-Columns-from-DataFrames\"><font size=\"+1\">Selecting Columns from DataFrames</font></a>\n",
    "* Selecting single and multiple columns.\n",
    "* <a href=\"#Exercise-1\">Exercise 1</a>\n",
    "\n",
    "<a href=\"#Filtering-rows-from-Dataframes\"><font size=\"+1\">Filtering Rows from DataFrames</font></a>\n",
    "* Simple filtering\n",
    "* Conditional filtering\n",
    "* <a href=\"#Exercise-2\">Exercise 2</a>\n",
    "* Using multiple conditions to filter\n",
    "* <a href=\"#Exercise-3\">Exercise 3</a>\n",
    "\n",
    "<a href=\"#Generating-New-Variables\"><font size=\"+1\">Generating New Variables</font></a>\n",
    "* Creating Binary Variables\n",
    "* Constant Value Variables\n",
    "* Creating Variables Based on Existing Columns\n",
    "* Classifying Numerical Values using pd.cut() and pd.qcut()\n",
    "* Removing (Dropping) Columns\n",
    "* <a href=\"#Exercise-4\">Exercise 4</a>\n",
    "\n",
    "<a href=\"#Consolidation\"><font size=\"+1\">Consolidation</font></a>\n",
    "* Today's Learning Objectives\n",
    "* Plan For Day 2"
   ]
  },
  {
   "cell_type": "markdown",
   "metadata": {},
   "source": [
    "# Background\n",
    "\n",
    "## Learning objectives\n",
    "\n",
    "The goal of this session is to:\n",
    "* Familiarise yourself with the Jupyter notebook, which is what we'll use to interact with python\n",
    "* Learn about python's basic data types - integers, floats, strings and Booleans.\n",
    "* Explore python's general data structure objects - lists, tuples, and dictionaries.\n",
    "* Take a first look at 'pandas', python's data manipulation and analysis library.\n",
    "    * The Series and DataFrame objects.\n",
    "    * Reading data into python using pandas.\n",
    "    * Getting information about DataFrames.\n",
    "* Learn some basic DataFrame manipulation approaches:\n",
    "    * Select columns\n",
    "    * Filter rows\n",
    "    * Generate new variables\n",
    "\n",
    "## Working with Python\n",
    "\n",
    "Python is:\n",
    "\n",
    "* A general purpose programming language which has been designed for readability. \n",
    "* Created by Guido Van Rossum who chose the name (refering to Monty Python) to indicate that Python should be fun to use.\n",
    "* Python is interoperable across multiple computing platforms (e.g. Windows, Mac, Linux)\n",
    "* Used by many people, giving it a large user base.\n",
    "* Open-source - It is much more cost effective and easier to maintain than SAS and SPSS\n",
    "* Extensible - A broad range of modules: Data Management, Visualisation, Statistics, Machine Learning, Scientific Computing...\n",
    "* High-level - Concise expressions compared to low-level languages (e.g. c, java etc.) giving greater productivity.\n",
    "\n",
    "There are a number of different ways of interacting with python, in fact your anaconda install gives you three different options:\n",
    "* Jupyter notebook - a straightforward browser-based interactive python environment great for data analysis tasks.\n",
    "* IPython qtconsole - a stripped-down, command line python application, suitable for more advanced users. \n",
    "* Spyder - a python IDE (integrated development environment), for fully-featured software development."
   ]
  },
  {
   "cell_type": "code",
   "execution_count": 1,
   "metadata": {},
   "outputs": [
    {
     "name": "stdout",
     "output_type": "stream",
     "text": [
      "The Zen of Python, by Tim Peters\n",
      "\n",
      "Beautiful is better than ugly.\n",
      "Explicit is better than implicit.\n",
      "Simple is better than complex.\n",
      "Complex is better than complicated.\n",
      "Flat is better than nested.\n",
      "Sparse is better than dense.\n",
      "Readability counts.\n",
      "Special cases aren't special enough to break the rules.\n",
      "Although practicality beats purity.\n",
      "Errors should never pass silently.\n",
      "Unless explicitly silenced.\n",
      "In the face of ambiguity, refuse the temptation to guess.\n",
      "There should be one-- and preferably only one --obvious way to do it.\n",
      "Although that way may not be obvious at first unless you're Dutch.\n",
      "Now is better than never.\n",
      "Although never is often better than *right* now.\n",
      "If the implementation is hard to explain, it's a bad idea.\n",
      "If the implementation is easy to explain, it may be a good idea.\n",
      "Namespaces are one honking great idea -- let's do more of those!\n"
     ]
    }
   ],
   "source": [
    "# Execute this code cell for the 'zen' of python\n",
    "import this"
   ]
  },
  {
   "cell_type": "markdown",
   "metadata": {},
   "source": [
    "## Jupyter Notebooks\n",
    "\n",
    "You're going to be using Jupyter 'notebooks' in this training, because they allow you to author and execute: python code to perform data analysis tasks; and, descriptive material to support the code, using a simple language called 'markdown'.\n",
    "\n",
    "Jupyter Notebook gives the opportunity to combine code and description in a single human-readable notebook. You can conduct analysis and give interpretation side-by-side. \n",
    "\n",
    "This means that your entire analytical approach can be documented together, from raw data input to analysis model outputs, and from initial assumptions to interpretation of results and conclusions. This also means that notebooks are great for sharing analysis, as the approach taken can be clearly and transparently documented both in code, and with supporting text.\n",
    "\n",
    "### Working with notebooks\n",
    "\n",
    "* **Creating New Notebooks** - Navigate to where you'd like to create a new notebook, select the 'New &#9660;' button towards the top-right of the screen and choose 'Python 3', this will open a new, untitled notebook in a new tab.\n",
    "\n",
    "***Basic tools***\n",
    "\n",
    "* **Saving Notebooks** File -> Save and Checkpoint, or click the save icon (the floppy disk), or Ctrl + s.\n",
    " * Notebooks are saved into your user area (e.g C:/Users/[User_Name]) by default\n",
    " \n",
    "\n",
    "* **(re)Naming Notebooks** Just click on the title (e.g. 'Intro to Python - Day 1', 'Untitled' etc.) at the top of the page and type the name you'd like. This will be used to save the notebook, as the chosen name + '.ipynb' (ipython notebook, the file type).\n",
    "\n",
    "\n",
    "* **Adding New Cells** Either click the **+** button, or use insert -> Insert Cell Above/Below.\n",
    "\n",
    "Importantly, there are two types of cell you should be aware of: code cells, and markdown cells.\n",
    "\n",
    "* **Code Cells** are what you type python code into.\n",
    "* **Markdown Cells** are where you write supporting text, equations etc.\n",
    "\n",
    "You can toggle between Code and Markdown cells (and others that we won't cover here) using the drop-down box on the toolbar above.\n",
    "\n",
    "Finally, it is useful to mention that notebooks have 2 'modes': edit mode and command mode.\n",
    "\n",
    "* A cell in **Edit Mode** has a green border and a cursor in the cell indicating that you can write in the cell.\n",
    "* A cell in **Command Mode** has a blue border, this indicates that you are not editing a specific cell, but instead allows you to control the properties of the whole notebook using keyboard shortcuts.\n",
    "\n",
    "Most of the time you'll be using edit mode, this is the default when you click into a cell and start typing code. Command mode is really for more advanced users who know have memorised some of the notebook keyboard shortcuts. To enter command mode, you can either click outside of the cell space (i.e. on the grey border space), or press Esc when you are editing a cell.\n",
    "\n",
    "Speaking of which, you can see all the keyboard shortcuts, and get other help on notebooks from Help in the menu bar above. Try Help -> Keyboard Shortcuts."
   ]
  },
  {
   "cell_type": "markdown",
   "metadata": {},
   "source": [
    "# Markdown\n",
    "\n",
    "Markdown is what we've used to produce all the descriptive text in this notebook. \n",
    "\n",
    "Markdown is a really simple 'markup' language. This means that you can write in plain text and provide some formatting instructions which change how the text is displayed once the cell is executed. Here are a few pointers on how to use it to create your own markdown supporting text.\n",
    "\n",
    "* Try creating a new cell and make it a 'Markdown' cell using the drop-down box on the toolbar at the top of the notebook.\n",
    "* Then, type some text in and then press Ctrl + Enter. See have executing the cell renders the text?\n",
    "\n",
    "There are a range of ways you can decorate plain text to produce formatted text when executed. Try:\n",
    "\n",
    "* Putting 1 or more # at the start of a line, then typing after it (e.g. ### A third level header)\n",
    "* Surrounding a word or phrase with asterisks, e.g. \\*hello world\\*\n",
    "* What about two asterisks? e.g. \\*\\*hello world\\*\\*\n",
    "* Try creating a bullet list by starting a line with an asterisk (e.g. * item 1) or a numbered list (e.g. 1. item 1)\n",
    "\n",
    "There's loads that Markdown can represent, including embedding images and equations. From the toolbar choose Help -> Markdown to see some detailed information on using Markdown.\n",
    "\n",
    "You can edit existing Markdown too, just double-click into the cell, amend it, and then ctrl-enter or shift-enter to remake the html."
   ]
  },
  {
   "cell_type": "markdown",
   "metadata": {},
   "source": [
    "# Images\n",
    "\n",
    "You can display an image by adding ! and wrapping the alt text in[ ]. Then wrap the link for the image in parentheses ().\n",
    "```\n",
    "![This is an image](https://myoctocat.com/assets/images/base-octocat.svg)  \n",
    "```"
   ]
  },
  {
   "cell_type": "markdown",
   "metadata": {},
   "source": [
    "\n",
    "![This is an image](https://myoctocat.com/assets/images/base-octocat.svg)    "
   ]
  },
  {
   "cell_type": "markdown",
   "metadata": {},
   "source": [
    "\n",
    "## Python is very easy to learn. 🐍\n",
    "## It is not time taking. ⌚️😍\n",
    "## Python is used by developers 👨🏽‍💻, researchers 👩🏽‍🔬, and instructors 👨🏿‍🏫.\n",
    "## Thank you 🙏🏽👋\n"
   ]
  },
  {
   "cell_type": "markdown",
   "metadata": {},
   "source": [
    "# Basic Python\n",
    "\n",
    "## Entering Values in a Notebook Cell\n",
    "\n",
    "We can use Python as a basic calculator by entering values in the cells. This doesn't store any of the information, other than in the notebook cell, rather you're just passing information to the python interpreter and receiving an answer.\n",
    "\n",
    "## Numeric Values\n",
    "\n",
    "Python has  - \n",
    "* ints (integers, whole numbers) e.g 6, 12, 100000, 8960005060030102\n",
    "* floats (floating-point numbers, decimal numbers) e.g 3.4, 7.8, 3.14, 98.99997\n",
    "\n",
    "We can use mathematical expressions\n",
    "\n",
    "* \\+ for addition\n",
    "* \\- for subtraction\n",
    "* \\* for multiplication\n",
    "* / for division\n",
    "* \\*\\* for powers and roots\n",
    "\n",
    "Plus, loads of other useful operators, including:\n",
    "\n",
    "* () Brackets for order of operations  \n",
    "* % modulo - remainder in integer division (e.g. 11%4 = 3, because 11 fully divides by 4 twice, with 3 (of 4) remaining)  \n",
    "* // Floor Division (Rounds down to the nearest integer, e.g. 12/5 = 2.4 but 12//4 = 2)\n",
    "\n",
    "And, some built-in functions:\n",
    "* `abs(`_number_`)` - get the absolute value of a number.\n",
    "* `divmod(`_dividend_, _divisor_`)` - get the quotient and remainder from integer division. Combines floor division and modulo.\n",
    "* `pow(`_number_, _power_`)` - function version of _number_\\*\\*_power_\n",
    "* `round(`_number_, _ndigits_`)` - round a floating-point number to _ndigits_ number of decimal places."
   ]
  },
  {
   "cell_type": "code",
   "execution_count": 4,
   "metadata": {},
   "outputs": [
    {
     "name": "stdout",
     "output_type": "stream",
     "text": [
      "x (<class 'int'>) + y (<class 'int'>) = z (<class 'int'>)\n"
     ]
    }
   ],
   "source": [
    "# Addition of ints (produces an int)\n",
    "x = 1\n",
    "y = 1\n",
    "z = x+y\n",
    "print(f'x ({type(x)}) + y ({type(y)}) = z ({type(z)})')"
   ]
  },
  {
   "cell_type": "code",
   "execution_count": 5,
   "metadata": {},
   "outputs": [
    {
     "name": "stdout",
     "output_type": "stream",
     "text": [
      "x (<class 'float'>) + y (<class 'float'>) = z (<class 'float'>)\n"
     ]
    }
   ],
   "source": [
    "# Addition of Floats (produces a float)\n",
    "x = 1.0\n",
    "y = 1.0\n",
    "z = x+y\n",
    "print(f'x ({type(x)}) + y ({type(y)}) = z ({type(z)})')"
   ]
  },
  {
   "cell_type": "code",
   "execution_count": 6,
   "metadata": {},
   "outputs": [
    {
     "name": "stdout",
     "output_type": "stream",
     "text": [
      "x (<class 'float'>) + y (<class 'int'>) = z (<class 'float'>)\n"
     ]
    }
   ],
   "source": [
    "# Addition of Ints and Floats (produces...?)\n",
    "x = 1.0\n",
    "y = 1\n",
    "z = x+y\n",
    "print(f'x ({type(x)}) + y ({type(y)}) = z ({type(z)})')"
   ]
  },
  {
   "cell_type": "markdown",
   "metadata": {},
   "source": [
    "## Text Values\n",
    "\n",
    "In python, we refer to text as 'string' data, this is because they are sequences of characters strung together.\n",
    "* Strings are ordered sequences of characters (letters, numbers, punctuation, whitespace and other special symbols).\n",
    "* Strings needs to be enclosed in apostrophes (' ') or quotation marks (\" \")\n",
    "    * It doesn't matter which, so long as you're consistent. You can't start with ' and end with \"!\n",
    "    * 'hello world!' is the same as \"hello world!\"\n",
    "\n",
    "Strings can be manipulated with some arithmetic operators:\n",
    "* \\+ concatenates strings (joins them together).\n",
    "* \\* repeats a given string *n* times.\n",
    "\n",
    "Strings are *objects* and so have a number of built-in *methods* for manipulating them.\n",
    "* Use a '.' to access the string object's methods, e.g.\n",
    "    * *string*`.lower()` transforms a string to all lowercase.\n",
    "    * *string*`.upper()` transforms a string to all UPPERCASE.\n",
    "    * *string*`.title()` transforms a string to Title Case.\n",
    "* Some string methods require parameters, e.g.\n",
    "    * *string*`.count('a')` counts the number of 'a'characters in the string, returning an integer.\n",
    "    * *string*`.replace(\" \",\"_\")` replaces any spaces in the string with underscores. \n",
    "\n",
    "There are loads more string methods, see: https://docs.python.org/3/library/stdtypes.html#string-methods for more info."
   ]
  },
  {
   "cell_type": "code",
   "execution_count": 7,
   "metadata": {},
   "outputs": [
    {
     "data": {
      "text/plain": [
       "'String'"
      ]
     },
     "execution_count": 7,
     "metadata": {},
     "output_type": "execute_result"
    }
   ],
   "source": [
    "# Enter a string here with quotation marks \"\"\n",
    "\"String\""
   ]
  },
  {
   "cell_type": "code",
   "execution_count": 8,
   "metadata": {},
   "outputs": [
    {
     "data": {
      "text/plain": [
       "'String'"
      ]
     },
     "execution_count": 8,
     "metadata": {},
     "output_type": "execute_result"
    }
   ],
   "source": [
    "# Now with apostrophes ''\n",
    "'String'"
   ]
  },
  {
   "cell_type": "code",
   "execution_count": 9,
   "metadata": {},
   "outputs": [
    {
     "data": {
      "text/plain": [
       "'Data Science Campus'"
      ]
     },
     "execution_count": 9,
     "metadata": {},
     "output_type": "execute_result"
    }
   ],
   "source": [
    "# We can use the + symbol here too - but it works differently!\n",
    "\"Data\" + \" Science \" + \"Campus\""
   ]
  },
  {
   "cell_type": "code",
   "execution_count": 10,
   "metadata": {},
   "outputs": [
    {
     "data": {
      "text/plain": [
       "'NISRNISRNISRNISRNISR'"
      ]
     },
     "execution_count": 10,
     "metadata": {},
     "output_type": "execute_result"
    }
   ],
   "source": [
    "# Multiplication too!\n",
    "\"NISR\" * 5"
   ]
  },
  {
   "cell_type": "code",
   "execution_count": 11,
   "metadata": {},
   "outputs": [
    {
     "data": {
      "text/plain": [
       "'nisr'"
      ]
     },
     "execution_count": 11,
     "metadata": {},
     "output_type": "execute_result"
    }
   ],
   "source": [
    "#.lower()\n",
    "'NISR'.lower()"
   ]
  },
  {
   "cell_type": "code",
   "execution_count": 12,
   "metadata": {},
   "outputs": [
    {
     "data": {
      "text/plain": [
       "'NISR'"
      ]
     },
     "execution_count": 12,
     "metadata": {},
     "output_type": "execute_result"
    }
   ],
   "source": [
    "#.upper()\n",
    "'nisr'.upper()"
   ]
  },
  {
   "cell_type": "code",
   "execution_count": 13,
   "metadata": {},
   "outputs": [
    {
     "data": {
      "text/plain": [
       "1"
      ]
     },
     "execution_count": 13,
     "metadata": {},
     "output_type": "execute_result"
    }
   ],
   "source": [
    "#.count()\n",
    "'nisr'.count('n')"
   ]
  },
  {
   "cell_type": "code",
   "execution_count": 14,
   "metadata": {},
   "outputs": [
    {
     "data": {
      "text/plain": [
       "'Nisr'"
      ]
     },
     "execution_count": 14,
     "metadata": {},
     "output_type": "execute_result"
    }
   ],
   "source": [
    "#.replace()\n",
    "'nisr'.replace('n','N')"
   ]
  },
  {
   "cell_type": "markdown",
   "metadata": {},
   "source": [
    "## Logical Values\n",
    "\n",
    "Logical values or \"Boolean values\" (NB Boolean is capitalised as it refers to logician George Boole).\n",
    "\n",
    "In Python these are written as `True` and `False`.\n",
    "\n",
    "They are special python data types - not strings! So they don't need ' ' or \" \" around them.\n",
    "\n",
    "They also have numerics behind them - True is 1 and False is 0."
   ]
  },
  {
   "cell_type": "code",
   "execution_count": 15,
   "metadata": {},
   "outputs": [
    {
     "data": {
      "text/plain": [
       "True"
      ]
     },
     "execution_count": 15,
     "metadata": {},
     "output_type": "execute_result"
    }
   ],
   "source": [
    "True"
   ]
  },
  {
   "cell_type": "code",
   "execution_count": 16,
   "metadata": {},
   "outputs": [
    {
     "data": {
      "text/plain": [
       "False"
      ]
     },
     "execution_count": 16,
     "metadata": {},
     "output_type": "execute_result"
    }
   ],
   "source": [
    "False"
   ]
  },
  {
   "cell_type": "code",
   "execution_count": 17,
   "metadata": {},
   "outputs": [
    {
     "data": {
      "text/plain": [
       "2"
      ]
     },
     "execution_count": 17,
     "metadata": {},
     "output_type": "execute_result"
    }
   ],
   "source": [
    "# You can add them together\n",
    "True + True"
   ]
  },
  {
   "cell_type": "code",
   "execution_count": 18,
   "metadata": {},
   "outputs": [
    {
     "data": {
      "text/plain": [
       "2.5"
      ]
     },
     "execution_count": 18,
     "metadata": {},
     "output_type": "execute_result"
    }
   ],
   "source": [
    "# In fact you can attempt any arithmetic operations with booleans\n",
    "# This owes to their underlying numeric value of either 1 or 0.\n",
    "True * 2.5"
   ]
  },
  {
   "cell_type": "code",
   "execution_count": 22,
   "metadata": {},
   "outputs": [
    {
     "name": "stdout",
     "output_type": "stream",
     "text": [
      "True and True: True\n",
      "False and False: False\n"
     ]
    }
   ],
   "source": [
    "# Try testing True and True or False and False\n",
    "print(f'True and True: {True & True}')\n",
    "print(f'False and False: {False & False}')"
   ]
  },
  {
   "cell_type": "code",
   "execution_count": 23,
   "metadata": {},
   "outputs": [
    {
     "data": {
      "text/plain": [
       "False"
      ]
     },
     "execution_count": 23,
     "metadata": {},
     "output_type": "execute_result"
    }
   ],
   "source": [
    "# Try testing False and True\n",
    "True and False"
   ]
  },
  {
   "cell_type": "markdown",
   "metadata": {},
   "source": [
    "## Casting (Type Conversion) in Python\n",
    "\n",
    "Python doesn't require you to set the data type when you create it, instead it figures out what the best data type is for the object you are creating - int, float, string, boolean etc.\n",
    "\n",
    "Sometimes you want to ensure that a particular object is actually a certain type, rather than leaving it up to python. This is done using casting. Python has a range of in-built functions that enable you to cast data from one type to another.\n",
    "\n",
    "Firstly, the `type()` function will tell you what a given object is.\n",
    "\n",
    "Then, if it is allowed, you can convert that object to a specific data type using:\n",
    "* `int()`\n",
    "* `float()`\n",
    "* `str()`\n",
    "* `bool()`\n",
    "\n",
    "Obviously, you can't turn strings into numbers, unless the string in question is a numeric value stored as a string (e.g. '3' instead of 3).\n",
    "\n",
    "Some transformations make sense, ints into floats and vice versa.\n",
    "\n",
    "However, try turning numbers and text into Booleans, or make `True` or `False` a string, what do you think will happen? "
   ]
  },
  {
   "cell_type": "code",
   "execution_count": 24,
   "metadata": {},
   "outputs": [
    {
     "data": {
      "text/plain": [
       "bool"
      ]
     },
     "execution_count": 24,
     "metadata": {},
     "output_type": "execute_result"
    }
   ],
   "source": [
    "# Learn the type of different objects\n",
    "type(True)"
   ]
  },
  {
   "cell_type": "code",
   "execution_count": 25,
   "metadata": {},
   "outputs": [
    {
     "data": {
      "text/plain": [
       "4"
      ]
     },
     "execution_count": 25,
     "metadata": {},
     "output_type": "execute_result"
    }
   ],
   "source": [
    "# Int from whole number float\n",
    "int(4.0)"
   ]
  },
  {
   "cell_type": "code",
   "execution_count": 26,
   "metadata": {},
   "outputs": [
    {
     "data": {
      "text/plain": [
       "7"
      ]
     },
     "execution_count": 26,
     "metadata": {},
     "output_type": "execute_result"
    }
   ],
   "source": [
    "# Int from decimal number float\n",
    "int(7.8)"
   ]
  },
  {
   "cell_type": "code",
   "execution_count": 27,
   "metadata": {},
   "outputs": [
    {
     "data": {
      "text/plain": [
       "7.0"
      ]
     },
     "execution_count": 27,
     "metadata": {},
     "output_type": "execute_result"
    }
   ],
   "source": [
    "# Float from int\n",
    "float(7)"
   ]
  },
  {
   "cell_type": "code",
   "execution_count": 28,
   "metadata": {},
   "outputs": [
    {
     "data": {
      "text/plain": [
       "5"
      ]
     },
     "execution_count": 28,
     "metadata": {},
     "output_type": "execute_result"
    }
   ],
   "source": [
    "# int from string\n",
    "int(float('5.0'))"
   ]
  },
  {
   "cell_type": "code",
   "execution_count": 29,
   "metadata": {},
   "outputs": [
    {
     "data": {
      "text/plain": [
       "5.0"
      ]
     },
     "execution_count": 29,
     "metadata": {},
     "output_type": "execute_result"
    }
   ],
   "source": [
    "# float from string\n",
    "float(\"5\")"
   ]
  },
  {
   "cell_type": "code",
   "execution_count": null,
   "metadata": {},
   "outputs": [],
   "source": [
    "# Try to find some transformation that python doesn't like.\n"
   ]
  },
  {
   "cell_type": "markdown",
   "metadata": {},
   "source": [
    "## Variable Assignment\n",
    "\n",
    "* Variables store data values under a specific name:\n",
    "    * `name = 'Laura'` - here the variable `name` is storing the string `'Laura'`.\n",
    "    * `age = 21` - here the variable `age` is storing the integer `21`.\n",
    "    * `height = 1.80` - here the variable height is storing the float `1.80`.\n",
    "* Variables have to be assigned. Assignment is done with the `=` (equals) sign.\n",
    "* Once created, using a variable means getting the value of whatever it is storing.\n",
    "    * Inputting `height` into python will return `1.80` until the variable is either changed or deleted.\n",
    "* We can change the value of variables at any point by assigning it a new value.\n",
    "    * `height = 1.75` - reassigns the height variable to the value `1.75`\n",
    "    * `height = \"egg\"` - reassigns the height variable to the value `\"egg\"`\n",
    "    * `del height` - deletes the height variable, it is no longer in python's memory.\n",
    "* Variable names are case sensitive\n",
    "* Variable names can't start with a number (must start with an _ or a letter)\n",
    "* Can't use reserved words - like ` True, Class, Yield` which already mean something to python.\n",
    "* Should be descriptive (ideally).\n",
    "* Can be any length - but should be sensible!\n",
    "* Can look like this\n",
    "    * norwegianblue (lowercase)\n",
    "    * NORWEGIANBLUE (UPPERCASE)\n",
    "    * norwegianBlue (camelCase)\n",
    "    * NorwegianBlue (UpperCamelCase)\n",
    "    * norwegian_blue (snake_case, can also be Norwegian_Blue"
   ]
  },
  {
   "cell_type": "code",
   "execution_count": 154,
   "metadata": {},
   "outputs": [
    {
     "name": "stdout",
     "output_type": "stream",
     "text": [
      "\n",
      "\n"
     ]
    }
   ],
   "source": [
    "name = ''\n",
    "surname = \"\"\n",
    "\n",
    "print(name)\n",
    "print(surname)"
   ]
  },
  {
   "cell_type": "code",
   "execution_count": 155,
   "metadata": {},
   "outputs": [],
   "source": [
    "an_integer = 4"
   ]
  },
  {
   "cell_type": "code",
   "execution_count": 32,
   "metadata": {},
   "outputs": [],
   "source": [
    "a_float = float(an_integer)"
   ]
  },
  {
   "cell_type": "code",
   "execution_count": 33,
   "metadata": {},
   "outputs": [
    {
     "data": {
      "text/plain": [
       "4.0"
      ]
     },
     "execution_count": 33,
     "metadata": {},
     "output_type": "execute_result"
    }
   ],
   "source": [
    "a_float"
   ]
  },
  {
   "cell_type": "markdown",
   "metadata": {},
   "source": [
    "## Simple Conditional Statements\n",
    "\n",
    "Conditional statements are basic parts of 'control flow' that allow for different actions depending on whether given a condition(s) evaluates to `True` or `False`. Python implements conditional statements in the format:\n",
    "```python\n",
    "if <condition>:\n",
    "    # Do something.\n",
    "elif <condition>:\n",
    "    # Do something else.\n",
    "else:\n",
    "    # Do another thing.\n",
    "```\n",
    "Depending on context you might see:\n",
    "* A single `if` with a condition. `False` evaluations are ignored.\n",
    "* An `if... else...` condition. `False` evaluations are all handled by `else`.\n",
    "* An `if...elif...else...` condition.\n",
    "    * There can be one or more `elif` conditions.\n",
    "    * The conditions are evaluated in order, with further evaluation terminated once a condition is met.\n",
    "\n",
    "Conditions in python are evaluated using the boolean operators:\n",
    "* == to mean 'is equal to'\n",
    "* != to mean 'is not equal to'\n",
    "* \\>, <, >=, <= to give inequalities\n",
    "\n",
    "Methods that return booleans can also be used to determine different courses of action, e.g.\n",
    "* *string*`.isnumeric()` returns `True` if all characters in a string are numeric."
   ]
  },
  {
   "cell_type": "code",
   "execution_count": 34,
   "metadata": {},
   "outputs": [
    {
     "name": "stdout",
     "output_type": "stream",
     "text": [
      "That's a dull object!\n"
     ]
    }
   ],
   "source": [
    "# Conditional example\n",
    "test = 'data science'\n",
    "\n",
    "if len(test) < 5: # NB len() gives the 'length' of an object\n",
    "    print(\"'\" + test + \"'\" + \" has very few characters\")\n",
    "elif test.istitle():\n",
    "    print(\"'\" + test + \"'\" + \" is in title case\")\n",
    "else:\n",
    "    print(\"That's a dull object!\")"
   ]
  },
  {
   "cell_type": "code",
   "execution_count": 35,
   "metadata": {},
   "outputs": [
    {
     "data": {
      "text/plain": [
       "str"
      ]
     },
     "execution_count": 35,
     "metadata": {},
     "output_type": "execute_result"
    }
   ],
   "source": [
    "# Conditional example 2\n",
    "string_number = 'Dan'\n",
    "\n",
    "if string_number.isnumeric():\n",
    "    string_number = float(string_number)\n",
    "\n",
    "type(string_number)"
   ]
  },
  {
   "cell_type": "markdown",
   "metadata": {},
   "source": [
    "# Python Objects\n",
    "\n",
    "Object is the general name for data types, data structures, functions and so on that python stores in memory and references with an identifier. Technically, an object is a specific instance of a 'class', which is an abstract template for a data type, data structure etc. A class is a pattern for creating new objects that can be reused and extended.\n",
    "\n",
    "```python\n",
    "days_list = [\"Mon\", \"Tues\", \"Weds\", \"Thurs\", \"Fri\", \"Sat\", \"Sun\"]\n",
    "```\n",
    "`days_list` is the identifier for a python 'list' data structure (object) that in this case stores some text values.\n",
    "\n",
    "All objects have properties and methods, which relate to data that the object stores and behaviours (procedures) that can be performed on the object to get a specific output.\n",
    "\n",
    "Accessing the properties and methods of an object usually means using the '.' (dot notation). This means we type the name of the object we are interested in, put a dot, then type the name of the property or method we want to call.\n",
    "\n",
    "For instance, calling the `clear()` method of a list object named `fruit` would be achieved like this:\n",
    "```python\n",
    "fruit.clear()\n",
    "```\n",
    "This would have the effect of removing any items stored by the list `fruit`, emptying the list.\n",
    "\n",
    "Similarly, if we wanted to use the count method to count the number of times a particular item occured in a list, we might do the following:\n",
    "```python\n",
    "fruit = ['apple','apple','banana','orange'] # create a list called fruit.\n",
    "fruit.count('apple') # count the number of times that the string 'apple' occurs in the fruit list\n",
    "```\n",
    "In the above, we would expect the `.count()` method, with the parameter 'apple' to return the value 2, because 'apple' appears twice in the list `fruit`.\n",
    "\n",
    "Additionally, there are some special in-built python functions that interact with objects and perform special behaviours, like `print()` and `len()`, or the numeric functions (e.g. `pow()`) you've seen already.\n",
    "\n",
    "For example, calling the python `print()` function enables us to print a representation of an object based on how a given object behaves with respect to that function.\n",
    "\n",
    "## Lists\n",
    "\n",
    "* The python list object is (possibly) the most versatile of the built in data structures.\n",
    "\n",
    "* It can hold any sequence of objects, including mixes of objects like strings, integers and Boolean variables together.\n",
    "\n",
    "* Lists can also hold other lists and dictionaries.\n",
    "\n",
    "* They can also hold custom data structures, and can be used to create custom data structures.\n",
    "\n",
    "* Lists are generally created, or 'instantiated', using square brackets `[]`.\n",
    "\n",
    "* A new list is considered to be an 'instance' of the list object.\n",
    "\n",
    "* Each item in the list is separated by a comma.\n",
    "\n",
    "* Lists can be amended (they are 'mutable' - they can be changed).\n",
    "\n",
    "* Technically, a string is a list of characters, this becomes clear if we explictly make it a list."
   ]
  },
  {
   "cell_type": "code",
   "execution_count": 36,
   "metadata": {},
   "outputs": [
    {
     "name": "stdout",
     "output_type": "stream",
     "text": [
      "<class 'list'>\n",
      "['Mon', 'Tues', 'Weds', 'Thurs', 'Fri', 'Sat', 'Sun']\n"
     ]
    }
   ],
   "source": [
    "# Create a list.\n",
    "days_list = [\"Mon\", \"Tues\", \"Weds\", \"Thurs\", \"Fri\", \"Sat\", \"Sun\"]\n",
    "print(type(days_list))\n",
    "print(days_list)"
   ]
  },
  {
   "cell_type": "code",
   "execution_count": 37,
   "metadata": {},
   "outputs": [
    {
     "data": {
      "text/plain": [
       "[2, 2.3, 'string', True]"
      ]
     },
     "execution_count": 37,
     "metadata": {},
     "output_type": "execute_result"
    }
   ],
   "source": [
    "# A list of mixed objects\n",
    "mixed = [2,2.3,'string',True]\n",
    "mixed"
   ]
  },
  {
   "cell_type": "code",
   "execution_count": 38,
   "metadata": {},
   "outputs": [
    {
     "data": {
      "text/plain": [
       "['M', 'o', 'n', 't', 'y', ' ', 'P', 'y', 't', 'h', 'o', 'n']"
      ]
     },
     "execution_count": 38,
     "metadata": {},
     "output_type": "execute_result"
    }
   ],
   "source": [
    "# We can use the inbuilt function list() to convert a string to a list.\n",
    "mp = list(\"Monty Python\")\n",
    "mp"
   ]
  },
  {
   "cell_type": "markdown",
   "metadata": {},
   "source": [
    "There are a number of methods we can call on list objects, including -  \n",
    " * _list_`.append(object)` - adds an object to the end of the list.\n",
    " * _list_`.extend([objects])` - similar to append but contents of the list object is added not the list itself.\n",
    " * _list_`.insert(index, object)` - allows you to insert an object at a particular position in the list.\n",
    " * _list_`.pop(index)` - removes and returns the object at a particular position."
   ]
  },
  {
   "cell_type": "code",
   "execution_count": 39,
   "metadata": {},
   "outputs": [
    {
     "data": {
      "text/plain": [
       "[10, 20, 30, 40, 50, 60, 70]"
      ]
     },
     "execution_count": 39,
     "metadata": {},
     "output_type": "execute_result"
    }
   ],
   "source": [
    "list_1 = [10, 20, 30, 40, 50, 60]\n",
    "list_1.append(70) # append integer object 70 to end of list\n",
    "list_1"
   ]
  },
  {
   "cell_type": "code",
   "execution_count": 40,
   "metadata": {},
   "outputs": [
    {
     "data": {
      "text/plain": [
       "[10, 20, 30, 40, 50, 60, 10, 20, 30, 40, 50, 60, 70]"
      ]
     },
     "execution_count": 40,
     "metadata": {},
     "output_type": "execute_result"
    }
   ],
   "source": [
    "list_2 = [10, 20, 30, 40, 50, 60]\n",
    "list_2.extend(list_1) # extend list with items in second list.\n",
    "list_2"
   ]
  },
  {
   "cell_type": "code",
   "execution_count": 41,
   "metadata": {},
   "outputs": [
    {
     "data": {
      "text/plain": [
       "[10,\n",
       " 20,\n",
       " 30,\n",
       " 40,\n",
       " 50,\n",
       " 60,\n",
       " 10,\n",
       " 20,\n",
       " 30,\n",
       " 40,\n",
       " 50,\n",
       " 60,\n",
       " 70,\n",
       " [10, 20, 30, 40, 50, 60, 70]]"
      ]
     },
     "execution_count": 41,
     "metadata": {},
     "output_type": "execute_result"
    }
   ],
   "source": [
    "# What will happen here?\n",
    "list_2.append(list_1)\n",
    "list_2"
   ]
  },
  {
   "cell_type": "code",
   "execution_count": 42,
   "metadata": {},
   "outputs": [
    {
     "data": {
      "text/plain": [
       "[5, 10, 20, 30, 40, 50, 60]"
      ]
     },
     "execution_count": 42,
     "metadata": {},
     "output_type": "execute_result"
    }
   ],
   "source": [
    "list_1 = [10, 20, 30, 40, 50, 60]\n",
    "list_1.insert(0, 5) # insert a 0 in the at index zero (the 1st position in python).\n",
    "list_1"
   ]
  },
  {
   "cell_type": "code",
   "execution_count": 43,
   "metadata": {},
   "outputs": [
    {
     "name": "stdout",
     "output_type": "stream",
     "text": [
      "40\n",
      "[10, 20, 30, 50, 60]\n"
     ]
    }
   ],
   "source": [
    "list_1 = [10, 20, 30, 40, 50, 60]\n",
    "value = list_1.pop(3) # remove the value at index 3 (the 4th index position) and store as a variable called value.\n",
    "print(value)\n",
    "print(list_1)"
   ]
  },
  {
   "cell_type": "code",
   "execution_count": 44,
   "metadata": {},
   "outputs": [
    {
     "data": {
      "text/plain": [
       "[10, 20, 30, 50, 60, 80]"
      ]
     },
     "execution_count": 44,
     "metadata": {},
     "output_type": "execute_result"
    }
   ],
   "source": [
    "# Note that arithmetic approaches can have similar results.\n",
    "list_1 += [80]\n",
    "list_1"
   ]
  },
  {
   "cell_type": "markdown",
   "metadata": {},
   "source": [
    "In the code above there is a common programming shortcut being employed: `+=`  \n",
    "The following two assignments are identical:\n",
    "```python\n",
    "list_1 = list_1 + [80]\n",
    "list_1 += [80]\n",
    "```\n",
    "Other possible assignments operators include: `-=`, `*=`, `/=`, `//=`, `**=` and a few others.\n",
    "\n",
    "However, only `+` and `*` are meaningful for list operations, so other assignment operators give errors. However, these assignment operators will work for updating a numeric value."
   ]
  },
  {
   "cell_type": "code",
   "execution_count": 45,
   "metadata": {},
   "outputs": [],
   "source": [
    "# Starting values for cell below.\n",
    "lump_sum = 100\n",
    "interest = 1.025 # 2.5%"
   ]
  },
  {
   "cell_type": "code",
   "execution_count": 46,
   "metadata": {},
   "outputs": [
    {
     "data": {
      "text/plain": [
       "102.49999999999999"
      ]
     },
     "execution_count": 46,
     "metadata": {},
     "output_type": "execute_result"
    }
   ],
   "source": [
    "# Imagine this is a compund interest calculation.\n",
    "# Run this cell a few times and see the output value change.\n",
    "lump_sum *= interest\n",
    "lump_sum"
   ]
  },
  {
   "cell_type": "markdown",
   "metadata": {},
   "source": [
    "## Tuples\n",
    "\n",
    "* Tuples are similar to lists, they can also hold any mixed sequence of objects.\n",
    "\n",
    "* However, tuples cannot be edited once created (immutable).\n",
    "\n",
    "* Tuples are created using parentheses () with items separated by commas.\n",
    "\n",
    "* The tuple() function can convert lists or strings to tuples.\n"
   ]
  },
  {
   "cell_type": "code",
   "execution_count": 47,
   "metadata": {},
   "outputs": [
    {
     "data": {
      "text/plain": [
       "tuple"
      ]
     },
     "execution_count": 47,
     "metadata": {},
     "output_type": "execute_result"
    }
   ],
   "source": [
    "tuple1 = (\"Monday\", \"Tuesday\", \"Wednesday\")\n",
    "type(tuple1)"
   ]
  },
  {
   "cell_type": "code",
   "execution_count": 48,
   "metadata": {},
   "outputs": [
    {
     "data": {
      "text/plain": [
       "('Monday', 'Tuesday', 'Wednesday')"
      ]
     },
     "execution_count": 48,
     "metadata": {},
     "output_type": "execute_result"
    }
   ],
   "source": [
    "tuple1"
   ]
  },
  {
   "cell_type": "code",
   "execution_count": 50,
   "metadata": {},
   "outputs": [
    {
     "data": {
      "text/plain": [
       "list"
      ]
     },
     "execution_count": 50,
     "metadata": {},
     "output_type": "execute_result"
    }
   ],
   "source": [
    "# You can convert to a list using list\n",
    "list_from_tuple = list(tuple1)\n",
    "type(list_from_tuple)"
   ]
  },
  {
   "cell_type": "markdown",
   "metadata": {},
   "source": [
    "## Accessing Values in Lists and Tuples\n",
    "\n",
    "In addition to creating list objects, python also uses square brackets as an indexing operator.\n",
    "\n",
    "Therefore, to access a value in a list or tuple use the square brackets, along with the index of the value you want to obtain to return that value. e.g.\n",
    "```python\n",
    "vegetables= ['Carrot','Onion','Potato', 'Cauliflower']\n",
    "vegetables[1]\n",
    "```\n",
    "In the above list, the value obtained is `'Onion'` this is because python counts from zero:\n",
    "* `vegetable[0]` is 'Carrot'\n",
    "* `vegetable[1]` is 'Onion'\n",
    "* `vegetable[2]` is 'Potato'\n",
    "* `vegetable[3]` is 'Cauliflower'\n",
    "\n",
    "The same would apply if we had made a tuple instead of a list.\n",
    "\n",
    "If you are dealing with lists, you can also update the values in lists using indexing. This is because lists are mutable. e.g.\n",
    "```python\n",
    "vegetables= ['Carrot','Onion','Potato','Cauliflower']\n",
    "vegetables[1] = 'Courgette'\n",
    "```\n",
    "Will give: `['Carrot', 'Courgette', 'Potato', 'Cauliflower']`\n",
    "\n",
    "As `'Onion'` has been updated with `'Courgette'`\n",
    "\n",
    "Ways to index:\n",
    "\n",
    "Python Expression | Result | Explanation\n",
    "------------------|--------|------------\n",
    "vegetables[1]     |'Courgette'| Indexing from start of list at 0\n",
    "vegetables[-2] | 'Potato' | Backwards indexing from end of list\n",
    "vegetables[2:] | ['Potato','Cauliflower'] | Slicing a section from a given start index to the end of the list.\n",
    "vegetables[:2] | ['Carrot','Courgette'] | Slicing a section from the start of the list until a given end index.\n",
    "vegetables[1:3] | ['Courgette','Potato'] | Slicing a section from a given start index to a given end index.\n",
    "\n",
    "Try some of these approaches below."
   ]
  },
  {
   "cell_type": "code",
   "execution_count": 51,
   "metadata": {},
   "outputs": [
    {
     "data": {
      "text/plain": [
       "10"
      ]
     },
     "execution_count": 51,
     "metadata": {},
     "output_type": "execute_result"
    }
   ],
   "source": [
    "# Try indexing list_1 and list_2\n",
    "list_1[0]"
   ]
  },
  {
   "cell_type": "code",
   "execution_count": 52,
   "metadata": {},
   "outputs": [
    {
     "data": {
      "text/plain": [
       "[50, 60]"
      ]
     },
     "execution_count": 52,
     "metadata": {},
     "output_type": "execute_result"
    }
   ],
   "source": [
    "# slicing\n",
    "list_1[3:5]"
   ]
  },
  {
   "cell_type": "code",
   "execution_count": 53,
   "metadata": {},
   "outputs": [
    {
     "data": {
      "text/plain": [
       "'Wednesday'"
      ]
     },
     "execution_count": 53,
     "metadata": {},
     "output_type": "execute_result"
    }
   ],
   "source": [
    "# Backwards indexing\n",
    "tuple1[-1]"
   ]
  },
  {
   "cell_type": "markdown",
   "metadata": {},
   "source": [
    "## Dictionaries\n",
    "\n",
    "* A dictionary has a set of 'keys' and each key has a single associated value.\n",
    "\n",
    "* Instead of indexing by position as with lists and tuples, dictionaries are indexed by keys.\n",
    "\n",
    "* When presented with a key, the dictionary will return the associated value.\n",
    "\n",
    "* A dictionary key must be an immutable data type. Usually this will mean integers or strings, but it is possible to use a tuple as a dictionary key.\n",
    "\n",
    "* In contrast, a dictionary value can hold any combination of objects. Including other dictionaries to create 'nested' dictionaries.\n",
    "\n",
    "* Dictionaries are 'key-value pair' data structures, also known as a _hash_, a _map_, and a _hashmap_ in other programming languages.\n",
    "\n",
    "* Python dictionaries are created using curly brackets {}.\n",
    "```python\n",
    "dictionary = {key1: value1, key2:value2, ...}\n",
    "```\n",
    "    \n",
    "* Values can be indexed by using a key within square brackets.\n",
    "```python\n",
    "dictionary[key2]\n",
    "```\n",
    "    \n",
    "* New keys can be assigned to a dictionary by providing a new key-value pair, however, if the key already exists this will overwrite the existing value as dicitonary keys must be unique."
   ]
  },
  {
   "cell_type": "code",
   "execution_count": 54,
   "metadata": {},
   "outputs": [
    {
     "name": "stdout",
     "output_type": "stream",
     "text": [
      "Name is Steve and instrument 1 is  guitar\n"
     ]
    }
   ],
   "source": [
    "# Example \n",
    "person1 = {'name': 'Steve', 'occupation': 'musician', 'instrument' : ['keyboards', 'guitar', 'vocals'], \n",
    "      'nationality': 'English'}\n",
    "\n",
    "print(\"Name is\" , person1['name'], 'and',\n",
    "      \"instrument 1 is \", person1['instrument'][1])"
   ]
  },
  {
   "cell_type": "code",
   "execution_count": 55,
   "metadata": {},
   "outputs": [
    {
     "data": {
      "text/plain": [
       "{'name': 'John',\n",
       " 'occupation': 'Programmer',\n",
       " 'languages': ['python', 'C++', 'scala'],\n",
       " 'nationality': 'UK'}"
      ]
     },
     "execution_count": 55,
     "metadata": {},
     "output_type": "execute_result"
    }
   ],
   "source": [
    "# Example 2\n",
    "person2 = {'name': 'John', 'occupation': 'Programmer', 'languages': ['python','C++','scala'], 'nationality': 'UK'}\n",
    "person2"
   ]
  },
  {
   "cell_type": "code",
   "execution_count": 56,
   "metadata": {},
   "outputs": [
    {
     "data": {
      "text/plain": [
       "{'name': 'Steve',\n",
       " 'occupation': 'musician',\n",
       " 'instrument': ['keyboards', 'guitar', 'vocals'],\n",
       " 'nationality': 'English',\n",
       " 'age': 59}"
      ]
     },
     "execution_count": 56,
     "metadata": {},
     "output_type": "execute_result"
    }
   ],
   "source": [
    "# Add a new key to a dictionary\n",
    "person1['age'] = 59\n",
    "person1"
   ]
  },
  {
   "cell_type": "code",
   "execution_count": 57,
   "metadata": {},
   "outputs": [],
   "source": [
    "# Update an existing key\n",
    "person2['occupation'] = 'Data Scientist'"
   ]
  },
  {
   "cell_type": "markdown",
   "metadata": {},
   "source": [
    "## Keeping Track of Objects\n",
    "\n",
    "The Jupyter Notebook has a 'magic' command `%whos` which shows the current objects in memory and some information about them."
   ]
  },
  {
   "cell_type": "code",
   "execution_count": 58,
   "metadata": {},
   "outputs": [
    {
     "name": "stdout",
     "output_type": "stream",
     "text": [
      "Variable          Type      Data/Info\n",
      "-------------------------------------\n",
      "a_float           float     4.0\n",
      "an_integer        int       4\n",
      "days_list         list      n=7\n",
      "interest          float     1.025\n",
      "list_1            list      n=6\n",
      "list_2            list      n=14\n",
      "list_from_tuple   list      n=3\n",
      "lump_sum          float     102.49999999999999\n",
      "mixed             list      n=4\n",
      "mp                list      n=12\n",
      "name              str       \n",
      "os                module    <module 'os' from '/opt/m<...>da3/lib/python3.9/os.py'>\n",
      "person1           dict      n=5\n",
      "person2           dict      n=4\n",
      "string_number     str       Dan\n",
      "surname           str       \n",
      "sys               module    <module 'sys' (built-in)>\n",
      "test              str       data science\n",
      "this              module    <module 'this' from '/opt<...>3/lib/python3.9/this.py'>\n",
      "tuple1            tuple     n=3\n",
      "value             int       40\n",
      "x                 float     1.0\n",
      "y                 int       1\n",
      "z                 float     2.0\n"
     ]
    }
   ],
   "source": [
    "# Have a look at currently instantiated objects.\n",
    "%whos"
   ]
  },
  {
   "cell_type": "markdown",
   "metadata": {},
   "source": [
    "## Iterable Objects\n",
    "\n",
    "In python, some objects are iterable. This means that they have a method which allows sequential access to the indices in the object from 0 to *n*. Iterable objects can therefore be looped over using the built-in `for` loop. Iteration, in this context, means taking each item of an object, one after another.\n",
    "\n",
    "Technically, the string is the simplest iterable object. Using a for loop we can iterate over each character in the string and perform a task."
   ]
  },
  {
   "cell_type": "code",
   "execution_count": 59,
   "metadata": {},
   "outputs": [
    {
     "name": "stdout",
     "output_type": "stream",
     "text": [
      "D\n",
      "a\n",
      "t\n",
      "a\n",
      " \n",
      "S\n",
      "c\n",
      "i\n",
      "e\n",
      "n\n",
      "c\n",
      "e\n",
      " \n",
      "C\n",
      "a\n",
      "m\n",
      "p\n",
      "u\n",
      "s\n"
     ]
    }
   ],
   "source": [
    "# iterate over characters in a string.\n",
    "for char in \"Data Science Campus\":\n",
    "    print(char)"
   ]
  },
  {
   "cell_type": "markdown",
   "metadata": {},
   "source": [
    "In the code above the iterable object is the string \"Cabinet Office\". The `for` loop creates a local variable, in this case called `char`, which will hold the value of the object for a given iteration. In this case the `for` loop indexes each character in the string in turn. The local variable `char` can then be used within the loop (notice the indents) for a given behaviour. Here we just print out the local variable `char` printing out each character in the string in turn.\n",
    "\n",
    "Here's a slightly more complex case:"
   ]
  },
  {
   "cell_type": "code",
   "execution_count": 60,
   "metadata": {},
   "outputs": [
    {
     "name": "stdout",
     "output_type": "stream",
     "text": [
      "D False\n",
      "a True\n",
      "t False\n",
      "a True\n",
      "  False\n",
      "S False\n",
      "c False\n",
      "i True\n",
      "e True\n",
      "n False\n",
      "c False\n",
      "e True\n",
      "  False\n",
      "C False\n",
      "a True\n",
      "m False\n",
      "p False\n",
      "u True\n",
      "s False\n"
     ]
    }
   ],
   "source": [
    "# iterate over characters in a string, print true for vowels.\n",
    "for char in \"Data Science Campus\":\n",
    "    print(char, char.lower() in ['a','e','i','o','u'])"
   ]
  },
  {
   "cell_type": "markdown",
   "metadata": {},
   "source": [
    "Lists and tuples are also easily iterable using `for` loops, providing each item in turn as the local variable:"
   ]
  },
  {
   "cell_type": "code",
   "execution_count": 61,
   "metadata": {},
   "outputs": [
    {
     "name": "stdout",
     "output_type": "stream",
     "text": [
      "Mon\n",
      "Tues\n",
      "Weds\n",
      "Thurs\n",
      "Fri\n",
      "Sat\n",
      "Sun\n"
     ]
    }
   ],
   "source": [
    "# iterate over days list\n",
    "for item in days_list:\n",
    "    print(item)"
   ]
  },
  {
   "cell_type": "markdown",
   "metadata": {},
   "source": [
    "Dictionaries are more complex objects and have a number of possible iteration behaviours.\n",
    "\n",
    "The basic iteration behaviour iterates over keys:"
   ]
  },
  {
   "cell_type": "code",
   "execution_count": 62,
   "metadata": {},
   "outputs": [
    {
     "name": "stdout",
     "output_type": "stream",
     "text": [
      "name Steve\n",
      "occupation musician\n",
      "instrument ['keyboards', 'guitar', 'vocals']\n",
      "nationality English\n",
      "age 59\n"
     ]
    }
   ],
   "source": [
    "# iterate over keys and get values by indexing.\n",
    "for key in person1:\n",
    "    #print(key)\n",
    "    print(key, person1[key])"
   ]
  },
  {
   "cell_type": "code",
   "execution_count": 63,
   "metadata": {},
   "outputs": [
    {
     "name": "stdout",
     "output_type": "stream",
     "text": [
      "name\n",
      "occupation\n",
      "instrument\n",
      "nationality\n",
      "age\n"
     ]
    }
   ],
   "source": [
    "for key in person1.keys():\n",
    "    print(key)"
   ]
  },
  {
   "cell_type": "markdown",
   "metadata": {},
   "source": [
    "_dictionary_`.keys()` produces the same behaviour if used as an iterable. Similarly _dictionary_`.values()` allows the values of a dictionary to be iterated over in the same order as the keys."
   ]
  },
  {
   "cell_type": "code",
   "execution_count": 64,
   "metadata": {},
   "outputs": [
    {
     "name": "stdout",
     "output_type": "stream",
     "text": [
      "Steve\n",
      "musician\n",
      "['keyboards', 'guitar', 'vocals']\n",
      "English\n",
      "59\n"
     ]
    }
   ],
   "source": [
    "# Iterate over D1 values\n",
    "for value in person1.values():\n",
    "    print(value)"
   ]
  },
  {
   "cell_type": "markdown",
   "metadata": {},
   "source": [
    "Dictionaries also have a more complex iterator, _dictionary_`.items()` which produces a key:value tuple at each iteration. Because this produces a tuple, we can 'unpack' the tuple into two local variables:"
   ]
  },
  {
   "cell_type": "code",
   "execution_count": 65,
   "metadata": {},
   "outputs": [
    {
     "data": {
      "text/plain": [
       "dict_items([('name', 'Steve'), ('occupation', 'musician'), ('instrument', ['keyboards', 'guitar', 'vocals']), ('nationality', 'English'), ('age', 59)])"
      ]
     },
     "execution_count": 65,
     "metadata": {},
     "output_type": "execute_result"
    }
   ],
   "source": [
    "person1.items()"
   ]
  },
  {
   "cell_type": "code",
   "execution_count": 66,
   "metadata": {},
   "outputs": [
    {
     "name": "stdout",
     "output_type": "stream",
     "text": [
      "name --- Steve\n",
      "occupation --- musician\n",
      "instrument --- ['keyboards', 'guitar', 'vocals']\n",
      "nationality --- English\n",
      "age --- 59\n"
     ]
    }
   ],
   "source": [
    "# Iterate over D1 key:value pairs\n",
    "for key, value in person1.items():\n",
    "    print(key,\"---\", value)"
   ]
  },
  {
   "cell_type": "markdown",
   "metadata": {},
   "source": [
    "Python has a useful built-in iterable object called `range()` this allows you to specify the start, stop and step parameters to produce a sequence of integers."
   ]
  },
  {
   "cell_type": "code",
   "execution_count": 67,
   "metadata": {},
   "outputs": [
    {
     "name": "stdout",
     "output_type": "stream",
     "text": [
      "0\n",
      "1\n",
      "2\n",
      "3\n",
      "4\n"
     ]
    }
   ],
   "source": [
    "# simple use of range\n",
    "for i in range(5):\n",
    "    print(i)"
   ]
  },
  {
   "cell_type": "code",
   "execution_count": 68,
   "metadata": {},
   "outputs": [
    {
     "name": "stdout",
     "output_type": "stream",
     "text": [
      "3\n",
      "4\n",
      "5\n",
      "6\n"
     ]
    }
   ],
   "source": [
    "# intermediate use of range\n",
    "for i in range(3,7):\n",
    "    print(i)"
   ]
  },
  {
   "cell_type": "code",
   "execution_count": 69,
   "metadata": {},
   "outputs": [
    {
     "name": "stdout",
     "output_type": "stream",
     "text": [
      "0\n",
      "2\n",
      "4\n",
      "6\n",
      "8\n"
     ]
    }
   ],
   "source": [
    "# Advanced use of range\n",
    "for i in range(0,10,2):\n",
    "    print(i)"
   ]
  },
  {
   "cell_type": "code",
   "execution_count": 70,
   "metadata": {},
   "outputs": [
    {
     "name": "stdout",
     "output_type": "stream",
     "text": [
      "5\n",
      "4\n",
      "3\n",
      "2\n",
      "1\n"
     ]
    }
   ],
   "source": [
    "# advanced use of range\n",
    "for i in range(5,0,-1):\n",
    "    print(i)"
   ]
  },
  {
   "cell_type": "markdown",
   "metadata": {},
   "source": [
    "## While Loops\n",
    "\n",
    "While loops are different to for loops, `for` loops do definite iteration - you know *a priori* how many loops you are doing - whereas `while` loops do indefinite iteration, they require a stop condition and until that stop condition is met they simply keep iterating.\n",
    "\n",
    "You start a while loop with `while` then you provide the condition that, when falsified, breaks the loop.\n",
    "\n",
    "There are some examples below:"
   ]
  },
  {
   "cell_type": "code",
   "execution_count": 71,
   "metadata": {},
   "outputs": [
    {
     "name": "stdout",
     "output_type": "stream",
     "text": [
      "0\n",
      "1\n",
      "2\n",
      "3\n",
      "4\n",
      "5\n"
     ]
    }
   ],
   "source": [
    "# Set an initial condition\n",
    "i = 0\n",
    "# Now use a while loop to increment the variable i\n",
    "while i < 6:\n",
    "    print(i)\n",
    "    i += 1 # += 1 means 'increment by 1 on each loop occasion'."
   ]
  },
  {
   "cell_type": "markdown",
   "metadata": {},
   "source": [
    "## Getting Help\n",
    "\n",
    "Most python modules include information on how to use their functions with something called a 'docstring'. You can look at docstrings using python's in-built help() function. Run the code below to look at the docstring for the string object `str`'s `replace` method."
   ]
  },
  {
   "cell_type": "code",
   "execution_count": 72,
   "metadata": {},
   "outputs": [
    {
     "name": "stdout",
     "output_type": "stream",
     "text": [
      "Help on method_descriptor:\n",
      "\n",
      "lower(self, /)\n",
      "    Return a copy of the string converted to lowercase.\n",
      "\n"
     ]
    }
   ],
   "source": [
    "# Have a look at the docstring using python.\n",
    "help(str.lower)"
   ]
  },
  {
   "cell_type": "markdown",
   "metadata": {},
   "source": [
    "When you're using a notebook, you can also access the docstring by pressing Shift-Tab with the cursor somewhere in the object. This produces a **tool-tip**. A small pop-up box with relevant information.\n",
    "\n",
    "Pressing Tab once shows the parameters available for the particular object you are looking at.  \n",
    "Pressing Tab twice shows the whole docstring.  \n",
    "Pressing Tab a third time makes the tool-tip linger for 10 seconds.  \n",
    "Pressing Tab a fourth time put the tool-tip into a larger pane in the browser.  \n",
    "\n",
    "The tool-tip provides the same information as the `help()` function, but with nicer formatting!"
   ]
  },
  {
   "cell_type": "code",
   "execution_count": 75,
   "metadata": {},
   "outputs": [
    {
     "name": "stdout",
     "output_type": "stream",
     "text": [
      "Help on method_descriptor:\n",
      "\n",
      "replace(self, old, new, count=-1, /)\n",
      "    Return a copy with all occurrences of substring old replaced by new.\n",
      "    \n",
      "      count\n",
      "        Maximum number of occurrences to replace.\n",
      "        -1 (the default value) means replace all occurrences.\n",
      "    \n",
      "    If the optional argument count is given, only the first count occurrences are\n",
      "    replaced.\n",
      "\n"
     ]
    }
   ],
   "source": [
    "help(str.replace)"
   ]
  },
  {
   "cell_type": "markdown",
   "metadata": {},
   "source": [
    "Note that in order to get help, we are using the 'abstract' object, rather than a specific instance of that object. Getting the help for the replace method of a string means using `str.replace` rather than say `\"Data Science\".replace()`.\n",
    "\n",
    "### Docstrings\n",
    "\n",
    "Docstrings look a bit scary at first, but once you learn how to read them they're super useful!\n",
    "\n",
    "The first block of text is the function we're looking at - read_csv - followed by all the possible parameters you can use to modify how pandas reads a csv file.\n",
    "\n",
    "Note that the first parameter is 'filepath_or_buffer', that's currently all you're passing to this function - the filepath of 'MarvelUniverse.csv'.\n",
    "\n",
    "If you scroll down a little, you can then see all of the possible parameters listed and described.\n",
    "\n",
    "E.g If your data were semi-colon delimited you'd have to specify the 'sep' parameter. \n",
    "No header row? (i.e. column names) you could set 'header' to None.\n",
    "\n",
    "At the very bottom of the docstring, you can see that read_csv function returns a 'DataFrame'.\n",
    "\n",
    "Don't get too hung up on docstrings for now though, as you become more experienced they'll begin to make more sense!"
   ]
  },
  {
   "cell_type": "markdown",
   "metadata": {},
   "source": [
    "## General Purpose Objects\n",
    "\n",
    "The data structures above, lists, tuples, and dictionaries, are the core, in-built data structures available in python. They are always available for use and easily created and destroyed. They are general purpose which means they are useful in many situations, however, they may not always be able to do everything we want them to do for specific purposes.\n",
    "\n",
    "Nonetheless, it is really important to know a bit about lists, tuples and dictionaries because they are used throughout python, and you will be very likely to encounter them in some form. Perhaps as an output from a function or method; as a way of providing input to a procedure; or, as the way that the package you are using stores properties.\n",
    "\n",
    "Many advanced python libraries that have been built for specific purposes, like data science, take advantage of the fact that objects are extensible. Programmers can create new classes based on existing objects and add in specific properties or methods that do specific things. This means that general purpose objects can be customised for particular tasks.\n",
    "\n",
    "In data science applications, the Pandas library provides specialised objects that make working with data tables a lot easier than if we had to rely on python's general purpose objects. However, because pandas objects are specialised, they are also more complicated than general purpose objects.\n",
    "\n",
    "# The Pandas Library - Objects for Data Science\n",
    "\n",
    "Pandas adds two important data structures that we need to know about. The 1 dimensional `Series` and the 2 dimensional `DataFrame`.\n",
    "\n",
    "## Series Objects\n",
    "\n",
    "* A Series is like a one-dimensional array (effectively a list) with a label for each observation.\n",
    "\n",
    "* You can think of a Series as being similar to a single column in a spreadsheet: a list of values.\n",
    "\n",
    "* However, the items in a Series must all be of the same data type, unlike a list.\n",
    "\n",
    "* The Series index provides a label for each observation, the default is for consecutive integer labels starting at 0.\n",
    "\n",
    "* However, a Series index does not have to be consecutive numbers, they can be non-unique numbers, non-consecutive numbers, as well as string objects or tuples.\n",
    "\n",
    "* As such, the Series itself is a bit like a list, whereas the Series index is a bit like a dictionary, and is able to return a value in the Series based on the index, like a key-value pair.\n",
    "\n",
    "* The Series object implements a large number of special behaviours (methods, procedures) that can be called on the data held in a Series to get useful outputs. This includes mathematical functions, like taking the average of all values in a numerical Series.\n",
    "\n",
    "##  DataFrame Objects\n",
    "\n",
    "* A DataFrame is a two-dimensional version of a Series object.\n",
    "\n",
    "* In effect, a DataFrame is a collection of Series objects - one Series for each column in the DataFrame.\n",
    "\n",
    "* A DataFrame is thus similar to a whole spreadsheet, like an Excel file, a STATA .dta file, a SAS file, an SPSS .sav file etc.\n",
    "\n",
    "* A DataFrame can hold columns with different data types, but as per Series above, any single column must contain vlaues of the same data type.\n",
    "\n",
    "* The dimensions are labeled in a similar way to the Series object:\n",
    "\n",
    "    * **index** - refers to the row labels\n",
    "    * **columns** - refers to the column labels\n",
    "    \n",
    " * Having indexed data allows fast look up and powerful relational operations \n",
    " \n",
    " * Each row has a label and each column has a label\n",
    "\n",
    "Most the the time you'll be working with DataFrame objects in Pandas, however, as DataFrames are composed of Series, it is very likely that through indexing, selection, creation of new columns, and analysis you'll encounter Series objects too. Luckily, DataFrame and Series objects are similar, DataFrames effectively extend the Series into two-dimensions and as such implement some additional properties and methdos that may not be relevant to Series on their own."
   ]
  },
  {
   "cell_type": "markdown",
   "metadata": {},
   "source": [
    "BEGIN DATASET "
   ]
  },
  {
   "cell_type": "markdown",
   "metadata": {},
   "source": [
    "## Importing Python Modules (Pandas)\n",
    "\n",
    "Python is great on its own, but most of the time you need to add useful functionality by 'importing' modules which expand python  along particular lines.\n",
    "\n",
    "We'll import a module called 'pandas'.\n",
    "\n",
    "Pandas massively expands what we can do with data. It allows for: the easy reading and writing of data in loads of different formats; the manipulation, selection, aggregation, merging and joining of data tables; the creation of statistical summaries; and, analysis and modeling."
   ]
  },
  {
   "cell_type": "code",
   "execution_count": 76,
   "metadata": {},
   "outputs": [],
   "source": [
    "# importing pandas is this simple!\n",
    "import pandas as pd\n",
    "import numpy as np"
   ]
  },
  {
   "cell_type": "markdown",
   "metadata": {},
   "source": [
    "The above code cell has two lines.\n",
    "\n",
    "The first line is a comment - Python (and other languages) \"skip\" anything with a # infront of it.\n",
    "\n",
    "On the second line I've written my import statement. There are two parts to this statement:\n",
    "1. import pandas\n",
    "2. as pd\n",
    "\n",
    "In python, it is sufficient just to write 'import pandas'.\n",
    "\n",
    "'pd' is a common nickname or 'alias' used for pandas - rather than write 'pandas' each time I can just write 'pd.'\n",
    "\n",
    "Many packages have nicknames that are consistently applied by members of the wider python community, such as pandas being pd. You don't have to adhere to these conventions, but you'll probably see them used a lot in training and help materials online.\n",
    "\n",
    "When you successfully import a module, you don't usually get any feedback. However, if you get it wrong you'll get an error message that should give you some idea of what happened, for instance:"
   ]
  },
  {
   "cell_type": "code",
   "execution_count": 77,
   "metadata": {},
   "outputs": [
    {
     "ename": "ModuleNotFoundError",
     "evalue": "No module named 'pandahs'",
     "output_type": "error",
     "traceback": [
      "\u001b[0;31m---------------------------------------------------------------------------\u001b[0m",
      "\u001b[0;31mModuleNotFoundError\u001b[0m                       Traceback (most recent call last)",
      "\u001b[0;32m/var/folders/2g/4_c6h5rn7rg6r002tmh_m9h80000gq/T/ipykernel_1948/978711549.py\u001b[0m in \u001b[0;36m<module>\u001b[0;34m\u001b[0m\n\u001b[1;32m      1\u001b[0m \u001b[0;31m# If you run this code cell you should get a 'ModuleNotFoundError' as there is no 'pandahs' module!\u001b[0m\u001b[0;34m\u001b[0m\u001b[0;34m\u001b[0m\u001b[0;34m\u001b[0m\u001b[0m\n\u001b[0;32m----> 2\u001b[0;31m \u001b[0;32mimport\u001b[0m \u001b[0mpandahs\u001b[0m \u001b[0;31m# by the way, I can also comment on the end of lines too!\u001b[0m\u001b[0;34m\u001b[0m\u001b[0;34m\u001b[0m\u001b[0m\n\u001b[0m",
      "\u001b[0;31mModuleNotFoundError\u001b[0m: No module named 'pandahs'"
     ]
    }
   ],
   "source": [
    "# If you run this code cell you should get a 'ModuleNotFoundError' as there is no 'pandahs' module!\n",
    "import pandahs # by the way, I can also comment on the end of lines too!"
   ]
  },
  {
   "cell_type": "markdown",
   "metadata": {},
   "source": [
    "## Setting a Working Directory\n",
    "\n",
    "The 'working directory' is the place that Jupyter will try to load files from, or save files to, without any more explicit instructions. The default is usually the same folder that the notebook you are using is in.  \n",
    "\n",
    "* On Windows this might look like: C:/users/[yourName]/Intro_to_Python/Notebooks  \n",
    "\n",
    "* On Macs it might look like: /User/[yourName]/Intro_to_Python/Notebooks\n",
    "\n",
    "We can check the working directory by typing `%pwd ` in a cell. pwd = print working directory."
   ]
  },
  {
   "cell_type": "code",
   "execution_count": null,
   "metadata": {},
   "outputs": [],
   "source": [
    "%pwd"
   ]
  },
  {
   "cell_type": "markdown",
   "metadata": {},
   "source": [
    "If the working directory is not in the notebooks folder, you can use %cd (change directory) and provide an absolute or relative file path to change the working directory to."
   ]
  },
  {
   "cell_type": "code",
   "execution_count": null,
   "metadata": {},
   "outputs": [],
   "source": [
    "%cd C:\\Users\\Nisr\\Desktop\\Python\\Intro to Python\\Data science team\\Data"
   ]
  },
  {
   "cell_type": "code",
   "execution_count": null,
   "metadata": {},
   "outputs": [],
   "source": [
    "%pwd"
   ]
  },
  {
   "cell_type": "markdown",
   "metadata": {},
   "source": [
    "When we want to find something - like data, folders, or notebooks - we can type an **absolute file path**, e.g. `\"C:/users/[yourName]/Documents/Training/Intro_to_Python/Notebooks\"`\n",
    "\n",
    "These give the complete address of the file or folder, however, this is often only correct for your computer. If you share your notebook the person receiving the notebook will need to update all of the file paths to reflect where the relevant files are on their system.\n",
    "\n",
    "We can also use what's called a **relative file path**. These filepaths are *relative* to whatever the working directory is at the time.\n",
    "\n",
    "Think of a file structure like a tree diagram. From a given folder you can either move up or down the file structure.\n",
    "\n",
    "```\n",
    "Intro_to_Python\n",
    "│    \n",
    "│\n",
    "└─── Introduction to Python Part 1.ipynb\n",
    "└─── Introduction to Python Part 2.ipynb\n",
    "│     \n",
    "└─── Data\n",
    "│      └─── titanic.csv\n",
    "│\n",
    "└───Solutions\n",
    "│     │     \n",
    "│     └─── part_1_exercise_1.py\n",
    "|     └─── part_1_exercise_2.py\n",
    "│   │       exercise1.py\n",
    "│   │       exercise2.py\n",
    "│   │       ...\n",
    "```\n",
    "\n",
    "If our current working directory is 'Notebooks', and we want to switch to 'Data', we can use the relative path:\n",
    "```terminal\n",
    "%cd ../Data\n",
    "```\n",
    "This effectively says, first go up a directory (..), so from `Notebooks` to `Intro_to_Python`. Then go down a directory into `Data`.\n",
    "\n",
    "Going up a directory always requires .., whereas going down a directory always requires you to name the intended directory."
   ]
  },
  {
   "cell_type": "markdown",
   "metadata": {},
   "source": [
    "## Reading in Data\n",
    "\n",
    "Now that you've loaded pandas, lets read some data into python and see what that looks like.\n",
    "\n",
    "Pandas can read data in a variety of different formats. In the code cell below type pd.read then press **Tab**\n",
    "\n",
    "Pressing Tab gives you all the things you can do with pandas that start with read. You probably recognise some of the data input types (e.g. Excel, SAS, Stata), while others you may not have heard of (e.g. pickle, json etc.) You can then select whichever method you wish to use.\n",
    "\n",
    "**Tab** is a really useful shortcut to know for finding or completing commands in notebooks. "
   ]
  },
  {
   "cell_type": "code",
   "execution_count": 81,
   "metadata": {},
   "outputs": [
    {
     "data": {
      "text/plain": [
       "<function pandas.io.parsers.readers.read_csv(filepath_or_buffer: 'FilePathOrBuffer', sep=<no_default>, delimiter=None, header='infer', names=<no_default>, index_col=None, usecols=None, squeeze=False, prefix=<no_default>, mangle_dupe_cols=True, dtype: 'DtypeArg | None' = None, engine=None, converters=None, true_values=None, false_values=None, skipinitialspace=False, skiprows=None, skipfooter=0, nrows=None, na_values=None, keep_default_na=True, na_filter=True, verbose=False, skip_blank_lines=True, parse_dates=False, infer_datetime_format=False, keep_date_col=False, date_parser=None, dayfirst=False, cache_dates=True, iterator=False, chunksize=None, compression='infer', thousands=None, decimal: 'str' = '.', lineterminator=None, quotechar='\"', quoting=0, doublequote=True, escapechar=None, comment=None, encoding=None, encoding_errors: 'str | None' = 'strict', dialect=None, error_bad_lines=None, warn_bad_lines=None, on_bad_lines=None, delim_whitespace=False, low_memory=True, memory_map=False, float_precision=None, storage_options: 'StorageOptions' = None)>"
      ]
     },
     "execution_count": 81,
     "metadata": {},
     "output_type": "execute_result"
    }
   ],
   "source": [
    "# type pd.read then without adding a space press Tab.\n",
    "pd.read_csv"
   ]
  },
  {
   "cell_type": "markdown",
   "metadata": {},
   "source": [
    "As you can see we can read in a large variety of data using pandas readers.\n",
    "\n",
    "(NB There isn't a specific reader for SPSS files - it is possible to read .sav files, unfortunately you need another module called savReaderWriter at the moment.)\n",
    "\n",
    "## Reading a CSV file\n",
    "\n",
    "Now that you've seen the different options, try reading a simple csv (comma separated value) dataset. \n",
    "\n",
    "To read a csv file, the only piece of information we absolutely need is the location of the file.\n",
    "\n",
    "The file is called 'titanic.csv' and is in the data folder.\n",
    "\n",
    "The code below demonstrates how you can read these data."
   ]
  },
  {
   "cell_type": "code",
   "execution_count": 83,
   "metadata": {},
   "outputs": [],
   "source": [
    "#remember to put the extension(.csv,.xlsx,etc)\n",
    "\n",
    "titanic = pd.read_csv('./data/titanic.csv')"
   ]
  },
  {
   "cell_type": "markdown",
   "metadata": {},
   "source": [
    "There are a number of variables within this dataset:\n",
    "* pclass = Passenger class of travel.\n",
    "* survived = 1 if the passenger survived the sinking, 0 if not.\n",
    "* name = Full name of the passenger, including title.\n",
    "* sex = Passenger gender.\n",
    "* age = Passenger age.\n",
    "* sibsp = Count of siblings or spouse also aboard.\n",
    "* Parch = Count of parents or children also aboard.\n",
    "* ticket = Ticket reference.\n",
    "* fare = fare paid.\n",
    "* cabin = Cabin number.\n",
    "* embarked = Port of embarkation. (S = Southampton (UK); C = Cherbourg (France); Q = Queenstown (Cobh, Ireland))\n",
    "\n",
    "## Exploring the Data\n",
    "\n",
    "The first thing we may want to do having read in a DataFrame is have a quick look at it to check it looks right.\n",
    "\n",
    "There are DataFrame methods we might use to do this: `.head()`, `.tail()` and `.sample()`  "
   ]
  },
  {
   "cell_type": "code",
   "execution_count": 84,
   "metadata": {},
   "outputs": [
    {
     "data": {
      "text/html": [
       "<div>\n",
       "<style scoped>\n",
       "    .dataframe tbody tr th:only-of-type {\n",
       "        vertical-align: middle;\n",
       "    }\n",
       "\n",
       "    .dataframe tbody tr th {\n",
       "        vertical-align: top;\n",
       "    }\n",
       "\n",
       "    .dataframe thead th {\n",
       "        text-align: right;\n",
       "    }\n",
       "</style>\n",
       "<table border=\"1\" class=\"dataframe\">\n",
       "  <thead>\n",
       "    <tr style=\"text-align: right;\">\n",
       "      <th></th>\n",
       "      <th>pclass</th>\n",
       "      <th>survived</th>\n",
       "      <th>name</th>\n",
       "      <th>sex</th>\n",
       "      <th>age</th>\n",
       "      <th>sibsp</th>\n",
       "      <th>parch</th>\n",
       "      <th>ticket</th>\n",
       "      <th>fare</th>\n",
       "      <th>cabin</th>\n",
       "      <th>embarked</th>\n",
       "    </tr>\n",
       "  </thead>\n",
       "  <tbody>\n",
       "    <tr>\n",
       "      <th>0</th>\n",
       "      <td>1</td>\n",
       "      <td>1</td>\n",
       "      <td>Allen, Miss. Elisabeth Walton</td>\n",
       "      <td>female</td>\n",
       "      <td>29.0000</td>\n",
       "      <td>0</td>\n",
       "      <td>0</td>\n",
       "      <td>24160</td>\n",
       "      <td>211.3375</td>\n",
       "      <td>B5</td>\n",
       "      <td>S</td>\n",
       "    </tr>\n",
       "    <tr>\n",
       "      <th>1</th>\n",
       "      <td>1</td>\n",
       "      <td>1</td>\n",
       "      <td>Allison, Master. Hudson Trevor</td>\n",
       "      <td>male</td>\n",
       "      <td>0.9167</td>\n",
       "      <td>1</td>\n",
       "      <td>2</td>\n",
       "      <td>113781</td>\n",
       "      <td>151.5500</td>\n",
       "      <td>C22 C26</td>\n",
       "      <td>S</td>\n",
       "    </tr>\n",
       "    <tr>\n",
       "      <th>2</th>\n",
       "      <td>1</td>\n",
       "      <td>0</td>\n",
       "      <td>Allison, Miss. Helen Loraine</td>\n",
       "      <td>female</td>\n",
       "      <td>2.0000</td>\n",
       "      <td>1</td>\n",
       "      <td>2</td>\n",
       "      <td>113781</td>\n",
       "      <td>151.5500</td>\n",
       "      <td>C22 C26</td>\n",
       "      <td>S</td>\n",
       "    </tr>\n",
       "    <tr>\n",
       "      <th>3</th>\n",
       "      <td>1</td>\n",
       "      <td>0</td>\n",
       "      <td>Allison, Mr. Hudson Joshua Creighton</td>\n",
       "      <td>male</td>\n",
       "      <td>30.0000</td>\n",
       "      <td>1</td>\n",
       "      <td>2</td>\n",
       "      <td>113781</td>\n",
       "      <td>151.5500</td>\n",
       "      <td>C22 C26</td>\n",
       "      <td>S</td>\n",
       "    </tr>\n",
       "    <tr>\n",
       "      <th>4</th>\n",
       "      <td>1</td>\n",
       "      <td>0</td>\n",
       "      <td>Allison, Mrs. Hudson J C (Bessie Waldo Daniels)</td>\n",
       "      <td>female</td>\n",
       "      <td>25.0000</td>\n",
       "      <td>1</td>\n",
       "      <td>2</td>\n",
       "      <td>113781</td>\n",
       "      <td>151.5500</td>\n",
       "      <td>C22 C26</td>\n",
       "      <td>S</td>\n",
       "    </tr>\n",
       "  </tbody>\n",
       "</table>\n",
       "</div>"
      ],
      "text/plain": [
       "   pclass  survived                                             name     sex  \\\n",
       "0       1         1                    Allen, Miss. Elisabeth Walton  female   \n",
       "1       1         1                   Allison, Master. Hudson Trevor    male   \n",
       "2       1         0                     Allison, Miss. Helen Loraine  female   \n",
       "3       1         0             Allison, Mr. Hudson Joshua Creighton    male   \n",
       "4       1         0  Allison, Mrs. Hudson J C (Bessie Waldo Daniels)  female   \n",
       "\n",
       "       age  sibsp  parch  ticket      fare    cabin embarked  \n",
       "0  29.0000      0      0   24160  211.3375       B5        S  \n",
       "1   0.9167      1      2  113781  151.5500  C22 C26        S  \n",
       "2   2.0000      1      2  113781  151.5500  C22 C26        S  \n",
       "3  30.0000      1      2  113781  151.5500  C22 C26        S  \n",
       "4  25.0000      1      2  113781  151.5500  C22 C26        S  "
      ]
     },
     "execution_count": 84,
     "metadata": {},
     "output_type": "execute_result"
    }
   ],
   "source": [
    "# head shows the first n rows of the dataframe (5 by default).\n",
    "titanic.head()"
   ]
  },
  {
   "cell_type": "code",
   "execution_count": 85,
   "metadata": {},
   "outputs": [
    {
     "data": {
      "text/html": [
       "<div>\n",
       "<style scoped>\n",
       "    .dataframe tbody tr th:only-of-type {\n",
       "        vertical-align: middle;\n",
       "    }\n",
       "\n",
       "    .dataframe tbody tr th {\n",
       "        vertical-align: top;\n",
       "    }\n",
       "\n",
       "    .dataframe thead th {\n",
       "        text-align: right;\n",
       "    }\n",
       "</style>\n",
       "<table border=\"1\" class=\"dataframe\">\n",
       "  <thead>\n",
       "    <tr style=\"text-align: right;\">\n",
       "      <th></th>\n",
       "      <th>pclass</th>\n",
       "      <th>survived</th>\n",
       "      <th>name</th>\n",
       "      <th>sex</th>\n",
       "      <th>age</th>\n",
       "      <th>sibsp</th>\n",
       "      <th>parch</th>\n",
       "      <th>ticket</th>\n",
       "      <th>fare</th>\n",
       "      <th>cabin</th>\n",
       "      <th>embarked</th>\n",
       "    </tr>\n",
       "  </thead>\n",
       "  <tbody>\n",
       "    <tr>\n",
       "      <th>1306</th>\n",
       "      <td>3</td>\n",
       "      <td>0</td>\n",
       "      <td>Zakarian, Mr. Mapriededer</td>\n",
       "      <td>male</td>\n",
       "      <td>26.5</td>\n",
       "      <td>0</td>\n",
       "      <td>0</td>\n",
       "      <td>2656</td>\n",
       "      <td>7.225</td>\n",
       "      <td>NaN</td>\n",
       "      <td>C</td>\n",
       "    </tr>\n",
       "    <tr>\n",
       "      <th>1307</th>\n",
       "      <td>3</td>\n",
       "      <td>0</td>\n",
       "      <td>Zakarian, Mr. Ortin</td>\n",
       "      <td>male</td>\n",
       "      <td>27.0</td>\n",
       "      <td>0</td>\n",
       "      <td>0</td>\n",
       "      <td>2670</td>\n",
       "      <td>7.225</td>\n",
       "      <td>NaN</td>\n",
       "      <td>C</td>\n",
       "    </tr>\n",
       "    <tr>\n",
       "      <th>1308</th>\n",
       "      <td>3</td>\n",
       "      <td>0</td>\n",
       "      <td>Zimmerman, Mr. Leo</td>\n",
       "      <td>male</td>\n",
       "      <td>29.0</td>\n",
       "      <td>0</td>\n",
       "      <td>0</td>\n",
       "      <td>315082</td>\n",
       "      <td>7.875</td>\n",
       "      <td>NaN</td>\n",
       "      <td>S</td>\n",
       "    </tr>\n",
       "  </tbody>\n",
       "</table>\n",
       "</div>"
      ],
      "text/plain": [
       "      pclass  survived                       name   sex   age  sibsp  parch  \\\n",
       "1306       3         0  Zakarian, Mr. Mapriededer  male  26.5      0      0   \n",
       "1307       3         0        Zakarian, Mr. Ortin  male  27.0      0      0   \n",
       "1308       3         0         Zimmerman, Mr. Leo  male  29.0      0      0   \n",
       "\n",
       "      ticket   fare cabin embarked  \n",
       "1306    2656  7.225   NaN        C  \n",
       "1307    2670  7.225   NaN        C  \n",
       "1308  315082  7.875   NaN        S  "
      ]
     },
     "execution_count": 85,
     "metadata": {},
     "output_type": "execute_result"
    }
   ],
   "source": [
    "# tail shows the last n rows of a dataframe (5 by default)\n",
    "titanic.tail(3)"
   ]
  },
  {
   "cell_type": "code",
   "execution_count": 86,
   "metadata": {},
   "outputs": [
    {
     "data": {
      "text/html": [
       "<div>\n",
       "<style scoped>\n",
       "    .dataframe tbody tr th:only-of-type {\n",
       "        vertical-align: middle;\n",
       "    }\n",
       "\n",
       "    .dataframe tbody tr th {\n",
       "        vertical-align: top;\n",
       "    }\n",
       "\n",
       "    .dataframe thead th {\n",
       "        text-align: right;\n",
       "    }\n",
       "</style>\n",
       "<table border=\"1\" class=\"dataframe\">\n",
       "  <thead>\n",
       "    <tr style=\"text-align: right;\">\n",
       "      <th></th>\n",
       "      <th>pclass</th>\n",
       "      <th>survived</th>\n",
       "      <th>name</th>\n",
       "      <th>sex</th>\n",
       "      <th>age</th>\n",
       "      <th>sibsp</th>\n",
       "      <th>parch</th>\n",
       "      <th>ticket</th>\n",
       "      <th>fare</th>\n",
       "      <th>cabin</th>\n",
       "      <th>embarked</th>\n",
       "    </tr>\n",
       "  </thead>\n",
       "  <tbody>\n",
       "    <tr>\n",
       "      <th>938</th>\n",
       "      <td>3</td>\n",
       "      <td>0</td>\n",
       "      <td>Klasen, Mr. Klas Albin</td>\n",
       "      <td>male</td>\n",
       "      <td>18.0</td>\n",
       "      <td>1</td>\n",
       "      <td>1</td>\n",
       "      <td>350404</td>\n",
       "      <td>7.8542</td>\n",
       "      <td>NaN</td>\n",
       "      <td>S</td>\n",
       "    </tr>\n",
       "    <tr>\n",
       "      <th>1203</th>\n",
       "      <td>3</td>\n",
       "      <td>0</td>\n",
       "      <td>Sivic, Mr. Husein</td>\n",
       "      <td>male</td>\n",
       "      <td>40.0</td>\n",
       "      <td>0</td>\n",
       "      <td>0</td>\n",
       "      <td>349251</td>\n",
       "      <td>7.8958</td>\n",
       "      <td>NaN</td>\n",
       "      <td>S</td>\n",
       "    </tr>\n",
       "    <tr>\n",
       "      <th>242</th>\n",
       "      <td>1</td>\n",
       "      <td>1</td>\n",
       "      <td>Rosenbaum, Miss. Edith Louise</td>\n",
       "      <td>female</td>\n",
       "      <td>33.0</td>\n",
       "      <td>0</td>\n",
       "      <td>0</td>\n",
       "      <td>PC 17613</td>\n",
       "      <td>27.7208</td>\n",
       "      <td>A11</td>\n",
       "      <td>C</td>\n",
       "    </tr>\n",
       "    <tr>\n",
       "      <th>234</th>\n",
       "      <td>1</td>\n",
       "      <td>0</td>\n",
       "      <td>Reuchlin, Jonkheer. John George</td>\n",
       "      <td>male</td>\n",
       "      <td>38.0</td>\n",
       "      <td>0</td>\n",
       "      <td>0</td>\n",
       "      <td>19972</td>\n",
       "      <td>0.0000</td>\n",
       "      <td>NaN</td>\n",
       "      <td>S</td>\n",
       "    </tr>\n",
       "    <tr>\n",
       "      <th>337</th>\n",
       "      <td>2</td>\n",
       "      <td>1</td>\n",
       "      <td>Beane, Mrs. Edward (Ethel Clarke)</td>\n",
       "      <td>female</td>\n",
       "      <td>19.0</td>\n",
       "      <td>1</td>\n",
       "      <td>0</td>\n",
       "      <td>2908</td>\n",
       "      <td>26.0000</td>\n",
       "      <td>NaN</td>\n",
       "      <td>S</td>\n",
       "    </tr>\n",
       "  </tbody>\n",
       "</table>\n",
       "</div>"
      ],
      "text/plain": [
       "      pclass  survived                               name     sex   age  \\\n",
       "938        3         0             Klasen, Mr. Klas Albin    male  18.0   \n",
       "1203       3         0                  Sivic, Mr. Husein    male  40.0   \n",
       "242        1         1      Rosenbaum, Miss. Edith Louise  female  33.0   \n",
       "234        1         0    Reuchlin, Jonkheer. John George    male  38.0   \n",
       "337        2         1  Beane, Mrs. Edward (Ethel Clarke)  female  19.0   \n",
       "\n",
       "      sibsp  parch    ticket     fare cabin embarked  \n",
       "938       1      1    350404   7.8542   NaN        S  \n",
       "1203      0      0    349251   7.8958   NaN        S  \n",
       "242       0      0  PC 17613  27.7208   A11        C  \n",
       "234       0      0     19972   0.0000   NaN        S  \n",
       "337       1      0      2908  26.0000   NaN        S  "
      ]
     },
     "execution_count": 86,
     "metadata": {},
     "output_type": "execute_result"
    }
   ],
   "source": [
    "# sample shows n rows chosen at random from the dataframe (1 by default)\n",
    "titanic.sample(5)"
   ]
  },
  {
   "cell_type": "markdown",
   "metadata": {},
   "source": [
    "### DataFrame Size\n",
    "\n",
    "Knowing how many rows and columns your DataFrame has is important. Luckily, this is a *property* of the DataFrame object called `.shape`."
   ]
  },
  {
   "cell_type": "code",
   "execution_count": 87,
   "metadata": {},
   "outputs": [],
   "source": [
    "# get the number of rows and columns\n",
    "# NB This line 'unpacks' the tuple returned by shape\n",
    "numrows, numcols = titanic.shape"
   ]
  },
  {
   "cell_type": "code",
   "execution_count": 88,
   "metadata": {},
   "outputs": [
    {
     "name": "stdout",
     "output_type": "stream",
     "text": [
      "There are 1309 rows and 11 columns in the titanic dataset\n"
     ]
    }
   ],
   "source": [
    "# print out the number of rows and columns\n",
    "print(\"There are {} rows and {} columns in the titanic dataset\".format(numrows, numcols))"
   ]
  },
  {
   "cell_type": "code",
   "execution_count": 89,
   "metadata": {},
   "outputs": [
    {
     "name": "stdout",
     "output_type": "stream",
     "text": [
      "There are 1309 rows in the titanic dataframe\n"
     ]
    }
   ],
   "source": [
    "# number of rows using pythons inbuilt len() function (len meaning 'length')\n",
    "numrows = len(titanic)\n",
    "# print the number of rows using f-string formatting.\n",
    "print(f\"There are {numrows} rows in the titanic dataframe\")"
   ]
  },
  {
   "cell_type": "code",
   "execution_count": 90,
   "metadata": {},
   "outputs": [
    {
     "data": {
      "text/plain": [
       "1309"
      ]
     },
     "execution_count": 90,
     "metadata": {},
     "output_type": "execute_result"
    }
   ],
   "source": [
    "x=len(titanic)\n",
    "x"
   ]
  },
  {
   "cell_type": "code",
   "execution_count": 91,
   "metadata": {},
   "outputs": [
    {
     "data": {
      "text/plain": [
       "(1309, 11)"
      ]
     },
     "execution_count": 91,
     "metadata": {},
     "output_type": "execute_result"
    }
   ],
   "source": [
    "titanic.shape"
   ]
  },
  {
   "cell_type": "markdown",
   "metadata": {},
   "source": [
    "### DataFrame Data Types\n",
    "\n",
    "When we want to know what type of object a particular object is we can use python's `type()` function. However, `type(titanic)` will only tell us that `titantic` is a pandas DataFrame object. It won't tell us the kinds of data that are in the DataFrame. To find this out we can use the DataFrame object's `.dtypes` property.\n",
    "\n",
    "Calling `dtypes` on a DataFrame object, like `titanic` returns a pandas series, in which the row indices are the column names in `titanic` and the values are the type of data stored in each column."
   ]
  },
  {
   "cell_type": "code",
   "execution_count": 92,
   "metadata": {},
   "outputs": [
    {
     "data": {
      "text/plain": [
       "pclass        int64\n",
       "survived      int64\n",
       "name         object\n",
       "sex          object\n",
       "age         float64\n",
       "sibsp         int64\n",
       "parch         int64\n",
       "ticket       object\n",
       "fare        float64\n",
       "cabin        object\n",
       "embarked     object\n",
       "dtype: object"
      ]
     },
     "execution_count": 92,
     "metadata": {},
     "output_type": "execute_result"
    }
   ],
   "source": [
    "# get column data types\n",
    "titanic.dtypes"
   ]
  },
  {
   "cell_type": "markdown",
   "metadata": {},
   "source": [
    "Remember our different data types - \n",
    "\n",
    "* **int** indicates integers, 'parch' for instance is recording counts as whole numbers, such as: 0, 1, 2 etc.\n",
    "* **float** indicates 'floating-point numbers', effectively decimal numbers like in the age column.\n",
    "* **object** indicates text, also known as 'string' data. The 'name' column gives passenger full names and titles.\n",
    "* **bool** which indicates Boolean values, Booleans encode True or False values.\n",
    "\n",
    "Other data types you might see include:\n",
    "* **datetime** which encodes date and time values.\n",
    "* **category** which is a special Pandas datatype for categorical or factor variables.\n",
    "\n",
    "Sometimes the datatype will have some numbers after it, e.g. float64, int32. These numbers tell you something about the range of storage capacity as they relate to the number of bits used to encode the data. An int64 can hold a very large number, much larger than an int32 which can hold a number as large as 2,147,483,647 but no larger.\n",
    "\n",
    "Most of the time you won't have to worry about the range of the data type, but it's useful to be aware of."
   ]
  },
  {
   "cell_type": "markdown",
   "metadata": {},
   "source": [
    "### DataFrame Column Names\n",
    "\n",
    "It can be useful to extract a list of column names from a DataFrame, this is easily done by calling the `.columns` property."
   ]
  },
  {
   "cell_type": "code",
   "execution_count": 93,
   "metadata": {},
   "outputs": [
    {
     "data": {
      "text/plain": [
       "Index(['pclass', 'survived', 'name', 'sex', 'age', 'sibsp', 'parch', 'ticket',\n",
       "       'fare', 'cabin', 'embarked'],\n",
       "      dtype='object')"
      ]
     },
     "execution_count": 93,
     "metadata": {},
     "output_type": "execute_result"
    }
   ],
   "source": [
    "# Column names are really easy to get!\n",
    "colnames = titanic.columns\n",
    "colnames"
   ]
  },
  {
   "cell_type": "code",
   "execution_count": 94,
   "metadata": {},
   "outputs": [
    {
     "data": {
      "text/plain": [
       "['pclass',\n",
       " 'survived',\n",
       " 'name',\n",
       " 'sex',\n",
       " 'age',\n",
       " 'sibsp',\n",
       " 'parch',\n",
       " 'ticket',\n",
       " 'fare',\n",
       " 'cabin',\n",
       " 'embarked']"
      ]
     },
     "execution_count": 94,
     "metadata": {},
     "output_type": "execute_result"
    }
   ],
   "source": [
    "# colnames is an index object, if we wanted a list we could use:\n",
    "#colnames = colnames.tolist()\n",
    "# or\n",
    "colnames = list(colnames)\n",
    "colnames"
   ]
  },
  {
   "cell_type": "markdown",
   "metadata": {},
   "source": [
    "As standard, pandas returns 'columns' as a special object called an 'index'. \n",
    "\n",
    "I've chosen to use some additional code to return it as a 'list'. Lists are inbuilt python objects. Remember:\n",
    "\n",
    "* a **tuple** or an **index** is 'immutable', this means you can't change it, it's a fixed thing in a fixed order.\n",
    "* a **list** is 'mutable', you can pretty much do whatever you want with it!\n",
    "\n",
    "Pandas returns a tuple for the `.shape` property, because the number of rows and number of columns is fixed. \n",
    "\n",
    "Other things, like a list of column names can actually be changed and updated, a list allows this whereas a tuple wouldn't."
   ]
  },
  {
   "cell_type": "markdown",
   "metadata": {},
   "source": [
    "### DataFrame Info\n",
    "\n",
    "DataFrames also have an `.info()` method which returns a concise summary of information about the Data."
   ]
  },
  {
   "cell_type": "code",
   "execution_count": 95,
   "metadata": {},
   "outputs": [
    {
     "name": "stdout",
     "output_type": "stream",
     "text": [
      "<class 'pandas.core.frame.DataFrame'>\n",
      "RangeIndex: 1309 entries, 0 to 1308\n",
      "Data columns (total 11 columns):\n",
      " #   Column    Non-Null Count  Dtype  \n",
      "---  ------    --------------  -----  \n",
      " 0   pclass    1309 non-null   int64  \n",
      " 1   survived  1309 non-null   int64  \n",
      " 2   name      1309 non-null   object \n",
      " 3   sex       1309 non-null   object \n",
      " 4   age       1046 non-null   float64\n",
      " 5   sibsp     1309 non-null   int64  \n",
      " 6   parch     1309 non-null   int64  \n",
      " 7   ticket    1309 non-null   object \n",
      " 8   fare      1308 non-null   float64\n",
      " 9   cabin     295 non-null    object \n",
      " 10  embarked  1307 non-null   object \n",
      "dtypes: float64(2), int64(4), object(5)\n",
      "memory usage: 112.6+ KB\n"
     ]
    }
   ],
   "source": [
    "titanic.info()"
   ]
  },
  {
   "cell_type": "markdown",
   "metadata": {},
   "source": [
    "Note the different counts in the information above, this suggests that some variables are completely observed (e.g. pclass, survived), while others have missing data values (e.g. age, embarked, cabin).\n",
    "\n",
    "### Saving a DataFrame\n",
    "\n",
    "When you read a DataFrame into pandas, the data are loaded in memory. This means that any changes you make won't be reflected in the original file you loaded. If you want to preserve the changes you make to the dataset you have to export the DataFrame object to a file.\n",
    "\n",
    "Pandas has a number of file writers. Let's save the `titanic` DataFrame as an excel file."
   ]
  },
  {
   "cell_type": "code",
   "execution_count": 96,
   "metadata": {},
   "outputs": [],
   "source": [
    "# File writers are prefixed with .to_ press tab to find avaialble options.\n",
    "titanic.to_excel('./output/titanic.xlsx')"
   ]
  },
  {
   "cell_type": "markdown",
   "metadata": {},
   "source": [
    "# Selecting and Filtering DataFrames\n",
    "\n",
    "Over the following sections, we will learn how to select and filter data using pandas DataFrames. This is one of the most useful and powerful features of pandas.  \n",
    "\n",
    "It is useful for a range of reasons, from simply cutting down a large dataset into the specific sub-sets of data required for analysis, to managing the various components of a model (e.g. dependent and independent variables, training and test data etc.) and conducting specific subgroup analyses.\n",
    "\n",
    "Selecting and filtering can be done by using the indexing operator. Pandas uses the same indexing operator as lists, tuples, and dictionaries - `[]` (square brackets).\n",
    "\n",
    "However, the DataFrame indexing operator is more sophisticated than one used for the python built-in data structures, the behaviour of the DataFrame indexer depends, as you'll see, on what you pass to the DataFrame indexing operator. This allows you to pass different kinds of information to the same indexing operator and get specific outputs."
   ]
  },
  {
   "cell_type": "markdown",
   "metadata": {},
   "source": [
    "# Selecting Columns from DataFrames\n",
    "\n",
    "The simplest way to select a column from a dataframe is to use the name of that column!"
   ]
  },
  {
   "cell_type": "code",
   "execution_count": 98,
   "metadata": {},
   "outputs": [
    {
     "data": {
      "text/plain": [
       "0                      Allen, Miss. Elisabeth Walton\n",
       "1                     Allison, Master. Hudson Trevor\n",
       "2                       Allison, Miss. Helen Loraine\n",
       "3               Allison, Mr. Hudson Joshua Creighton\n",
       "4    Allison, Mrs. Hudson J C (Bessie Waldo Daniels)\n",
       "Name: name, dtype: object"
      ]
     },
     "execution_count": 98,
     "metadata": {},
     "output_type": "execute_result"
    }
   ],
   "source": [
    "# Select by passing the name of a column as a string.\n",
    "passengers = titanic['name']\n",
    "passengers.head()"
   ]
  },
  {
   "cell_type": "markdown",
   "metadata": {},
   "source": [
    "In the code above, the following things happen:\n",
    "1. We index the DataFrame `titanic` using the column header.\n",
    "2. Assuming 'name' is a legitimate column header, a pandas Series is returned.\n",
    "3. This Series, representing the 'name' column of the `titanic` Dataframe, is assigned to a variable called `passengers`\n",
    "5. Finally, we look at the first 5 rows of the Series object `passengers`\n",
    "\n",
    "If we want to select multiple columns, we have to first collect the column names together using a list, and then pass that to the DataFrame indexing operator."
   ]
  },
  {
   "cell_type": "code",
   "execution_count": 99,
   "metadata": {},
   "outputs": [
    {
     "data": {
      "text/html": [
       "<div>\n",
       "<style scoped>\n",
       "    .dataframe tbody tr th:only-of-type {\n",
       "        vertical-align: middle;\n",
       "    }\n",
       "\n",
       "    .dataframe tbody tr th {\n",
       "        vertical-align: top;\n",
       "    }\n",
       "\n",
       "    .dataframe thead th {\n",
       "        text-align: right;\n",
       "    }\n",
       "</style>\n",
       "<table border=\"1\" class=\"dataframe\">\n",
       "  <thead>\n",
       "    <tr style=\"text-align: right;\">\n",
       "      <th></th>\n",
       "      <th>name</th>\n",
       "      <th>age</th>\n",
       "    </tr>\n",
       "  </thead>\n",
       "  <tbody>\n",
       "    <tr>\n",
       "      <th>0</th>\n",
       "      <td>Allen, Miss. Elisabeth Walton</td>\n",
       "      <td>29.0000</td>\n",
       "    </tr>\n",
       "    <tr>\n",
       "      <th>1</th>\n",
       "      <td>Allison, Master. Hudson Trevor</td>\n",
       "      <td>0.9167</td>\n",
       "    </tr>\n",
       "    <tr>\n",
       "      <th>2</th>\n",
       "      <td>Allison, Miss. Helen Loraine</td>\n",
       "      <td>2.0000</td>\n",
       "    </tr>\n",
       "    <tr>\n",
       "      <th>3</th>\n",
       "      <td>Allison, Mr. Hudson Joshua Creighton</td>\n",
       "      <td>30.0000</td>\n",
       "    </tr>\n",
       "    <tr>\n",
       "      <th>4</th>\n",
       "      <td>Allison, Mrs. Hudson J C (Bessie Waldo Daniels)</td>\n",
       "      <td>25.0000</td>\n",
       "    </tr>\n",
       "  </tbody>\n",
       "</table>\n",
       "</div>"
      ],
      "text/plain": [
       "                                              name      age\n",
       "0                    Allen, Miss. Elisabeth Walton  29.0000\n",
       "1                   Allison, Master. Hudson Trevor   0.9167\n",
       "2                     Allison, Miss. Helen Loraine   2.0000\n",
       "3             Allison, Mr. Hudson Joshua Creighton  30.0000\n",
       "4  Allison, Mrs. Hudson J C (Bessie Waldo Daniels)  25.0000"
      ]
     },
     "execution_count": 99,
     "metadata": {},
     "output_type": "execute_result"
    }
   ],
   "source": [
    "# First make a list of column names called cols\n",
    "cols = ['name','age']\n",
    "# Use cols to select multiple columns from marvel.\n",
    "passenger_cols = titanic[cols]\n",
    "passenger_cols.head()"
   ]
  },
  {
   "cell_type": "markdown",
   "metadata": {},
   "source": [
    "The code above is very similar to the code for selecting a single column, the main difference is that to select multiple columns we pass a list of string objects, rather that a single string object directly.\n",
    "\n",
    "However, because we have selected multiple columns, the `passenger_cols` object is actually a DataFrame, rather than a Series object.\n",
    "\n",
    "Note, that we don't have to create the `cols` list first, we can actually create it on-the-fly in the indexing operator, you just have to learn to distinguish the list constructor square brackets from the indexing square brackets!"
   ]
  },
  {
   "cell_type": "code",
   "execution_count": 100,
   "metadata": {},
   "outputs": [
    {
     "data": {
      "text/html": [
       "<div>\n",
       "<style scoped>\n",
       "    .dataframe tbody tr th:only-of-type {\n",
       "        vertical-align: middle;\n",
       "    }\n",
       "\n",
       "    .dataframe tbody tr th {\n",
       "        vertical-align: top;\n",
       "    }\n",
       "\n",
       "    .dataframe thead th {\n",
       "        text-align: right;\n",
       "    }\n",
       "</style>\n",
       "<table border=\"1\" class=\"dataframe\">\n",
       "  <thead>\n",
       "    <tr style=\"text-align: right;\">\n",
       "      <th></th>\n",
       "      <th>name</th>\n",
       "      <th>age</th>\n",
       "      <th>sex</th>\n",
       "    </tr>\n",
       "  </thead>\n",
       "  <tbody>\n",
       "    <tr>\n",
       "      <th>0</th>\n",
       "      <td>Allen, Miss. Elisabeth Walton</td>\n",
       "      <td>29.0000</td>\n",
       "      <td>female</td>\n",
       "    </tr>\n",
       "    <tr>\n",
       "      <th>1</th>\n",
       "      <td>Allison, Master. Hudson Trevor</td>\n",
       "      <td>0.9167</td>\n",
       "      <td>male</td>\n",
       "    </tr>\n",
       "    <tr>\n",
       "      <th>2</th>\n",
       "      <td>Allison, Miss. Helen Loraine</td>\n",
       "      <td>2.0000</td>\n",
       "      <td>female</td>\n",
       "    </tr>\n",
       "    <tr>\n",
       "      <th>3</th>\n",
       "      <td>Allison, Mr. Hudson Joshua Creighton</td>\n",
       "      <td>30.0000</td>\n",
       "      <td>male</td>\n",
       "    </tr>\n",
       "    <tr>\n",
       "      <th>4</th>\n",
       "      <td>Allison, Mrs. Hudson J C (Bessie Waldo Daniels)</td>\n",
       "      <td>25.0000</td>\n",
       "      <td>female</td>\n",
       "    </tr>\n",
       "  </tbody>\n",
       "</table>\n",
       "</div>"
      ],
      "text/plain": [
       "                                              name      age     sex\n",
       "0                    Allen, Miss. Elisabeth Walton  29.0000  female\n",
       "1                   Allison, Master. Hudson Trevor   0.9167    male\n",
       "2                     Allison, Miss. Helen Loraine   2.0000  female\n",
       "3             Allison, Mr. Hudson Joshua Creighton  30.0000    male\n",
       "4  Allison, Mrs. Hudson J C (Bessie Waldo Daniels)  25.0000  female"
      ]
     },
     "execution_count": 100,
     "metadata": {},
     "output_type": "execute_result"
    }
   ],
   "source": [
    "# select multiple columns directly.\n",
    "passenger_cols = titanic[['name','age','sex']]\n",
    "passenger_cols.head()"
   ]
  },
  {
   "cell_type": "code",
   "execution_count": 101,
   "metadata": {},
   "outputs": [
    {
     "data": {
      "text/html": [
       "<div>\n",
       "<style scoped>\n",
       "    .dataframe tbody tr th:only-of-type {\n",
       "        vertical-align: middle;\n",
       "    }\n",
       "\n",
       "    .dataframe tbody tr th {\n",
       "        vertical-align: top;\n",
       "    }\n",
       "\n",
       "    .dataframe thead th {\n",
       "        text-align: right;\n",
       "    }\n",
       "</style>\n",
       "<table border=\"1\" class=\"dataframe\">\n",
       "  <thead>\n",
       "    <tr style=\"text-align: right;\">\n",
       "      <th></th>\n",
       "      <th>name</th>\n",
       "      <th>age</th>\n",
       "      <th>sex</th>\n",
       "    </tr>\n",
       "  </thead>\n",
       "  <tbody>\n",
       "    <tr>\n",
       "      <th>1173</th>\n",
       "      <td>Sage, Miss. Constance Gladys</td>\n",
       "      <td>NaN</td>\n",
       "      <td>female</td>\n",
       "    </tr>\n",
       "    <tr>\n",
       "      <th>281</th>\n",
       "      <td>Stengel, Mrs. Charles Emil Henry (Annie May Mo...</td>\n",
       "      <td>43.0</td>\n",
       "      <td>female</td>\n",
       "    </tr>\n",
       "    <tr>\n",
       "      <th>826</th>\n",
       "      <td>Goodwin, Master. Sidney Leonard</td>\n",
       "      <td>1.0</td>\n",
       "      <td>male</td>\n",
       "    </tr>\n",
       "    <tr>\n",
       "      <th>1011</th>\n",
       "      <td>McNamee, Mrs. Neal (Eileen O'Leary)</td>\n",
       "      <td>19.0</td>\n",
       "      <td>female</td>\n",
       "    </tr>\n",
       "    <tr>\n",
       "      <th>846</th>\n",
       "      <td>Hampe, Mr. Leon</td>\n",
       "      <td>20.0</td>\n",
       "      <td>male</td>\n",
       "    </tr>\n",
       "    <tr>\n",
       "      <th>1253</th>\n",
       "      <td>Torfa, Mr. Assad</td>\n",
       "      <td>NaN</td>\n",
       "      <td>male</td>\n",
       "    </tr>\n",
       "    <tr>\n",
       "      <th>1067</th>\n",
       "      <td>Nysten, Miss. Anna Sofia</td>\n",
       "      <td>22.0</td>\n",
       "      <td>female</td>\n",
       "    </tr>\n",
       "    <tr>\n",
       "      <th>699</th>\n",
       "      <td>Cacic, Mr. Luka</td>\n",
       "      <td>38.0</td>\n",
       "      <td>male</td>\n",
       "    </tr>\n",
       "    <tr>\n",
       "      <th>1069</th>\n",
       "      <td>O'Brien, Mr. Thomas</td>\n",
       "      <td>NaN</td>\n",
       "      <td>male</td>\n",
       "    </tr>\n",
       "  </tbody>\n",
       "</table>\n",
       "</div>"
      ],
      "text/plain": [
       "                                                   name   age     sex\n",
       "1173                       Sage, Miss. Constance Gladys   NaN  female\n",
       "281   Stengel, Mrs. Charles Emil Henry (Annie May Mo...  43.0  female\n",
       "826                     Goodwin, Master. Sidney Leonard   1.0    male\n",
       "1011                McNamee, Mrs. Neal (Eileen O'Leary)  19.0  female\n",
       "846                                     Hampe, Mr. Leon  20.0    male\n",
       "1253                                   Torfa, Mr. Assad   NaN    male\n",
       "1067                           Nysten, Miss. Anna Sofia  22.0  female\n",
       "699                                     Cacic, Mr. Luka  38.0    male\n",
       "1069                                O'Brien, Mr. Thomas   NaN    male"
      ]
     },
     "execution_count": 101,
     "metadata": {},
     "output_type": "execute_result"
    }
   ],
   "source": [
    "# Just have a look, rather than assigning to a variable\n",
    "titanic[['name','age','sex']].sample(9)"
   ]
  },
  {
   "cell_type": "markdown",
   "metadata": {},
   "source": [
    "# Exercise 1\n",
    "\n",
    "1. Refresh your memory of the titanic data by getting:\n",
    "    * The number of rows and columns in the DataFrame\n",
    "    * The datatypes of the columns.\n",
    "    * A list of the columns names for the titanic dataset.\n",
    "2. Select the 'fare' column from the `titanic` data and show the tail of the data.\n",
    "3. Select just the last column, try using the list of column names you made earlier.\n",
    "4. Select the second, third and fourth columns, try doing it using DataFrame columns property directly."
   ]
  },
  {
   "cell_type": "code",
   "execution_count": 119,
   "metadata": {},
   "outputs": [],
   "source": [
    "%load ./solutions/part_1_exercise_1.py"
   ]
  },
  {
   "cell_type": "markdown",
   "metadata": {},
   "source": [
    "# Filtering rows from Dataframes\n",
    "\n",
    "Filtering rows from a pandas dataframe works in a very similar way to selecting columns. Simple filtering can be achieved by passing a range to the DataFrame indexer, just like slicing a list.\n",
    "\n",
    "## Simple Filtering\n",
    "\n",
    "The code below does the same thing as `.head()` and `.tail()` and can be used to show any arbitrary range of rows in a given DataFrame.\n",
    "\n",
    "Note that this is identical to slicing a list.\n",
    "\n",
    "However, we can't get individual rows by indexing as we would with a list, because a column could be named with an integer. This would mean that `dataframe[0]` is ambiguous and could refer to the first row, or a column named 0. Hence it is not allowed, `dataframe[0]` only works if you have a column named '0', which is a default for some operations in pandas.\n",
    "\n",
    "This means that selecting a single row also requires a slice."
   ]
  },
  {
   "cell_type": "code",
   "execution_count": 120,
   "metadata": {},
   "outputs": [
    {
     "data": {
      "text/html": [
       "<div>\n",
       "<style scoped>\n",
       "    .dataframe tbody tr th:only-of-type {\n",
       "        vertical-align: middle;\n",
       "    }\n",
       "\n",
       "    .dataframe tbody tr th {\n",
       "        vertical-align: top;\n",
       "    }\n",
       "\n",
       "    .dataframe thead th {\n",
       "        text-align: right;\n",
       "    }\n",
       "</style>\n",
       "<table border=\"1\" class=\"dataframe\">\n",
       "  <thead>\n",
       "    <tr style=\"text-align: right;\">\n",
       "      <th></th>\n",
       "      <th>pclass</th>\n",
       "      <th>survived</th>\n",
       "      <th>name</th>\n",
       "      <th>sex</th>\n",
       "      <th>age</th>\n",
       "      <th>sibsp</th>\n",
       "      <th>parch</th>\n",
       "      <th>ticket</th>\n",
       "      <th>fare</th>\n",
       "      <th>cabin</th>\n",
       "      <th>embarked</th>\n",
       "    </tr>\n",
       "  </thead>\n",
       "  <tbody>\n",
       "    <tr>\n",
       "      <th>0</th>\n",
       "      <td>1</td>\n",
       "      <td>1</td>\n",
       "      <td>Allen, Miss. Elisabeth Walton</td>\n",
       "      <td>female</td>\n",
       "      <td>29.0000</td>\n",
       "      <td>0</td>\n",
       "      <td>0</td>\n",
       "      <td>24160</td>\n",
       "      <td>211.3375</td>\n",
       "      <td>B5</td>\n",
       "      <td>S</td>\n",
       "    </tr>\n",
       "    <tr>\n",
       "      <th>1</th>\n",
       "      <td>1</td>\n",
       "      <td>1</td>\n",
       "      <td>Allison, Master. Hudson Trevor</td>\n",
       "      <td>male</td>\n",
       "      <td>0.9167</td>\n",
       "      <td>1</td>\n",
       "      <td>2</td>\n",
       "      <td>113781</td>\n",
       "      <td>151.5500</td>\n",
       "      <td>C22 C26</td>\n",
       "      <td>S</td>\n",
       "    </tr>\n",
       "    <tr>\n",
       "      <th>2</th>\n",
       "      <td>1</td>\n",
       "      <td>0</td>\n",
       "      <td>Allison, Miss. Helen Loraine</td>\n",
       "      <td>female</td>\n",
       "      <td>2.0000</td>\n",
       "      <td>1</td>\n",
       "      <td>2</td>\n",
       "      <td>113781</td>\n",
       "      <td>151.5500</td>\n",
       "      <td>C22 C26</td>\n",
       "      <td>S</td>\n",
       "    </tr>\n",
       "    <tr>\n",
       "      <th>3</th>\n",
       "      <td>1</td>\n",
       "      <td>0</td>\n",
       "      <td>Allison, Mr. Hudson Joshua Creighton</td>\n",
       "      <td>male</td>\n",
       "      <td>30.0000</td>\n",
       "      <td>1</td>\n",
       "      <td>2</td>\n",
       "      <td>113781</td>\n",
       "      <td>151.5500</td>\n",
       "      <td>C22 C26</td>\n",
       "      <td>S</td>\n",
       "    </tr>\n",
       "    <tr>\n",
       "      <th>4</th>\n",
       "      <td>1</td>\n",
       "      <td>0</td>\n",
       "      <td>Allison, Mrs. Hudson J C (Bessie Waldo Daniels)</td>\n",
       "      <td>female</td>\n",
       "      <td>25.0000</td>\n",
       "      <td>1</td>\n",
       "      <td>2</td>\n",
       "      <td>113781</td>\n",
       "      <td>151.5500</td>\n",
       "      <td>C22 C26</td>\n",
       "      <td>S</td>\n",
       "    </tr>\n",
       "  </tbody>\n",
       "</table>\n",
       "</div>"
      ],
      "text/plain": [
       "   pclass  survived                                             name     sex  \\\n",
       "0       1         1                    Allen, Miss. Elisabeth Walton  female   \n",
       "1       1         1                   Allison, Master. Hudson Trevor    male   \n",
       "2       1         0                     Allison, Miss. Helen Loraine  female   \n",
       "3       1         0             Allison, Mr. Hudson Joshua Creighton    male   \n",
       "4       1         0  Allison, Mrs. Hudson J C (Bessie Waldo Daniels)  female   \n",
       "\n",
       "       age  sibsp  parch  ticket      fare    cabin embarked  \n",
       "0  29.0000      0      0   24160  211.3375       B5        S  \n",
       "1   0.9167      1      2  113781  151.5500  C22 C26        S  \n",
       "2   2.0000      1      2  113781  151.5500  C22 C26        S  \n",
       "3  30.0000      1      2  113781  151.5500  C22 C26        S  \n",
       "4  25.0000      1      2  113781  151.5500  C22 C26        S  "
      ]
     },
     "execution_count": 120,
     "metadata": {},
     "output_type": "execute_result"
    }
   ],
   "source": [
    "# first 5 rows\n",
    "titanic[:5] # or - titanic[:5]"
   ]
  },
  {
   "cell_type": "code",
   "execution_count": 121,
   "metadata": {},
   "outputs": [
    {
     "data": {
      "text/html": [
       "<div>\n",
       "<style scoped>\n",
       "    .dataframe tbody tr th:only-of-type {\n",
       "        vertical-align: middle;\n",
       "    }\n",
       "\n",
       "    .dataframe tbody tr th {\n",
       "        vertical-align: top;\n",
       "    }\n",
       "\n",
       "    .dataframe thead th {\n",
       "        text-align: right;\n",
       "    }\n",
       "</style>\n",
       "<table border=\"1\" class=\"dataframe\">\n",
       "  <thead>\n",
       "    <tr style=\"text-align: right;\">\n",
       "      <th></th>\n",
       "      <th>pclass</th>\n",
       "      <th>survived</th>\n",
       "      <th>name</th>\n",
       "      <th>sex</th>\n",
       "      <th>age</th>\n",
       "      <th>sibsp</th>\n",
       "      <th>parch</th>\n",
       "      <th>ticket</th>\n",
       "      <th>fare</th>\n",
       "      <th>cabin</th>\n",
       "      <th>embarked</th>\n",
       "    </tr>\n",
       "  </thead>\n",
       "  <tbody>\n",
       "    <tr>\n",
       "      <th>1304</th>\n",
       "      <td>3</td>\n",
       "      <td>0</td>\n",
       "      <td>Zabour, Miss. Hileni</td>\n",
       "      <td>female</td>\n",
       "      <td>14.5</td>\n",
       "      <td>1</td>\n",
       "      <td>0</td>\n",
       "      <td>2665</td>\n",
       "      <td>14.4542</td>\n",
       "      <td>NaN</td>\n",
       "      <td>C</td>\n",
       "    </tr>\n",
       "    <tr>\n",
       "      <th>1305</th>\n",
       "      <td>3</td>\n",
       "      <td>0</td>\n",
       "      <td>Zabour, Miss. Thamine</td>\n",
       "      <td>female</td>\n",
       "      <td>NaN</td>\n",
       "      <td>1</td>\n",
       "      <td>0</td>\n",
       "      <td>2665</td>\n",
       "      <td>14.4542</td>\n",
       "      <td>NaN</td>\n",
       "      <td>C</td>\n",
       "    </tr>\n",
       "    <tr>\n",
       "      <th>1306</th>\n",
       "      <td>3</td>\n",
       "      <td>0</td>\n",
       "      <td>Zakarian, Mr. Mapriededer</td>\n",
       "      <td>male</td>\n",
       "      <td>26.5</td>\n",
       "      <td>0</td>\n",
       "      <td>0</td>\n",
       "      <td>2656</td>\n",
       "      <td>7.2250</td>\n",
       "      <td>NaN</td>\n",
       "      <td>C</td>\n",
       "    </tr>\n",
       "    <tr>\n",
       "      <th>1307</th>\n",
       "      <td>3</td>\n",
       "      <td>0</td>\n",
       "      <td>Zakarian, Mr. Ortin</td>\n",
       "      <td>male</td>\n",
       "      <td>27.0</td>\n",
       "      <td>0</td>\n",
       "      <td>0</td>\n",
       "      <td>2670</td>\n",
       "      <td>7.2250</td>\n",
       "      <td>NaN</td>\n",
       "      <td>C</td>\n",
       "    </tr>\n",
       "    <tr>\n",
       "      <th>1308</th>\n",
       "      <td>3</td>\n",
       "      <td>0</td>\n",
       "      <td>Zimmerman, Mr. Leo</td>\n",
       "      <td>male</td>\n",
       "      <td>29.0</td>\n",
       "      <td>0</td>\n",
       "      <td>0</td>\n",
       "      <td>315082</td>\n",
       "      <td>7.8750</td>\n",
       "      <td>NaN</td>\n",
       "      <td>S</td>\n",
       "    </tr>\n",
       "  </tbody>\n",
       "</table>\n",
       "</div>"
      ],
      "text/plain": [
       "      pclass  survived                       name     sex   age  sibsp  parch  \\\n",
       "1304       3         0       Zabour, Miss. Hileni  female  14.5      1      0   \n",
       "1305       3         0      Zabour, Miss. Thamine  female   NaN      1      0   \n",
       "1306       3         0  Zakarian, Mr. Mapriededer    male  26.5      0      0   \n",
       "1307       3         0        Zakarian, Mr. Ortin    male  27.0      0      0   \n",
       "1308       3         0         Zimmerman, Mr. Leo    male  29.0      0      0   \n",
       "\n",
       "      ticket     fare cabin embarked  \n",
       "1304    2665  14.4542   NaN        C  \n",
       "1305    2665  14.4542   NaN        C  \n",
       "1306    2656   7.2250   NaN        C  \n",
       "1307    2670   7.2250   NaN        C  \n",
       "1308  315082   7.8750   NaN        S  "
      ]
     },
     "execution_count": 121,
     "metadata": {},
     "output_type": "execute_result"
    }
   ],
   "source": [
    "# last 5 rows\n",
    "titanic[-5:]"
   ]
  },
  {
   "cell_type": "code",
   "execution_count": 122,
   "metadata": {},
   "outputs": [
    {
     "data": {
      "text/html": [
       "<div>\n",
       "<style scoped>\n",
       "    .dataframe tbody tr th:only-of-type {\n",
       "        vertical-align: middle;\n",
       "    }\n",
       "\n",
       "    .dataframe tbody tr th {\n",
       "        vertical-align: top;\n",
       "    }\n",
       "\n",
       "    .dataframe thead th {\n",
       "        text-align: right;\n",
       "    }\n",
       "</style>\n",
       "<table border=\"1\" class=\"dataframe\">\n",
       "  <thead>\n",
       "    <tr style=\"text-align: right;\">\n",
       "      <th></th>\n",
       "      <th>pclass</th>\n",
       "      <th>survived</th>\n",
       "      <th>name</th>\n",
       "      <th>sex</th>\n",
       "      <th>age</th>\n",
       "      <th>sibsp</th>\n",
       "      <th>parch</th>\n",
       "      <th>ticket</th>\n",
       "      <th>fare</th>\n",
       "      <th>cabin</th>\n",
       "      <th>embarked</th>\n",
       "    </tr>\n",
       "  </thead>\n",
       "  <tbody>\n",
       "    <tr>\n",
       "      <th>102</th>\n",
       "      <td>1</td>\n",
       "      <td>1</td>\n",
       "      <td>Earnshaw, Mrs. Boulton (Olive Potter)</td>\n",
       "      <td>female</td>\n",
       "      <td>23.0</td>\n",
       "      <td>0</td>\n",
       "      <td>1</td>\n",
       "      <td>11767</td>\n",
       "      <td>83.1583</td>\n",
       "      <td>C54</td>\n",
       "      <td>C</td>\n",
       "    </tr>\n",
       "    <tr>\n",
       "      <th>103</th>\n",
       "      <td>1</td>\n",
       "      <td>1</td>\n",
       "      <td>Endres, Miss. Caroline Louise</td>\n",
       "      <td>female</td>\n",
       "      <td>38.0</td>\n",
       "      <td>0</td>\n",
       "      <td>0</td>\n",
       "      <td>PC 17757</td>\n",
       "      <td>227.5250</td>\n",
       "      <td>C45</td>\n",
       "      <td>C</td>\n",
       "    </tr>\n",
       "    <tr>\n",
       "      <th>104</th>\n",
       "      <td>1</td>\n",
       "      <td>1</td>\n",
       "      <td>Eustis, Miss. Elizabeth Mussey</td>\n",
       "      <td>female</td>\n",
       "      <td>54.0</td>\n",
       "      <td>1</td>\n",
       "      <td>0</td>\n",
       "      <td>36947</td>\n",
       "      <td>78.2667</td>\n",
       "      <td>D20</td>\n",
       "      <td>C</td>\n",
       "    </tr>\n",
       "    <tr>\n",
       "      <th>105</th>\n",
       "      <td>1</td>\n",
       "      <td>0</td>\n",
       "      <td>Evans, Miss. Edith Corse</td>\n",
       "      <td>female</td>\n",
       "      <td>36.0</td>\n",
       "      <td>0</td>\n",
       "      <td>0</td>\n",
       "      <td>PC 17531</td>\n",
       "      <td>31.6792</td>\n",
       "      <td>A29</td>\n",
       "      <td>C</td>\n",
       "    </tr>\n",
       "    <tr>\n",
       "      <th>106</th>\n",
       "      <td>1</td>\n",
       "      <td>0</td>\n",
       "      <td>Farthing, Mr. John</td>\n",
       "      <td>male</td>\n",
       "      <td>NaN</td>\n",
       "      <td>0</td>\n",
       "      <td>0</td>\n",
       "      <td>PC 17483</td>\n",
       "      <td>221.7792</td>\n",
       "      <td>C95</td>\n",
       "      <td>S</td>\n",
       "    </tr>\n",
       "    <tr>\n",
       "      <th>107</th>\n",
       "      <td>1</td>\n",
       "      <td>1</td>\n",
       "      <td>Flegenheim, Mrs. Alfred (Antoinette)</td>\n",
       "      <td>female</td>\n",
       "      <td>NaN</td>\n",
       "      <td>0</td>\n",
       "      <td>0</td>\n",
       "      <td>PC 17598</td>\n",
       "      <td>31.6833</td>\n",
       "      <td>NaN</td>\n",
       "      <td>S</td>\n",
       "    </tr>\n",
       "    <tr>\n",
       "      <th>108</th>\n",
       "      <td>1</td>\n",
       "      <td>1</td>\n",
       "      <td>Fleming, Miss. Margaret</td>\n",
       "      <td>female</td>\n",
       "      <td>NaN</td>\n",
       "      <td>0</td>\n",
       "      <td>0</td>\n",
       "      <td>17421</td>\n",
       "      <td>110.8833</td>\n",
       "      <td>NaN</td>\n",
       "      <td>C</td>\n",
       "    </tr>\n",
       "  </tbody>\n",
       "</table>\n",
       "</div>"
      ],
      "text/plain": [
       "     pclass  survived                                   name     sex   age  \\\n",
       "102       1         1  Earnshaw, Mrs. Boulton (Olive Potter)  female  23.0   \n",
       "103       1         1          Endres, Miss. Caroline Louise  female  38.0   \n",
       "104       1         1         Eustis, Miss. Elizabeth Mussey  female  54.0   \n",
       "105       1         0               Evans, Miss. Edith Corse  female  36.0   \n",
       "106       1         0                     Farthing, Mr. John    male   NaN   \n",
       "107       1         1   Flegenheim, Mrs. Alfred (Antoinette)  female   NaN   \n",
       "108       1         1                Fleming, Miss. Margaret  female   NaN   \n",
       "\n",
       "     sibsp  parch    ticket      fare cabin embarked  \n",
       "102      0      1     11767   83.1583   C54        C  \n",
       "103      0      0  PC 17757  227.5250   C45        C  \n",
       "104      1      0     36947   78.2667   D20        C  \n",
       "105      0      0  PC 17531   31.6792   A29        C  \n",
       "106      0      0  PC 17483  221.7792   C95        S  \n",
       "107      0      0  PC 17598   31.6833   NaN        S  \n",
       "108      0      0     17421  110.8833   NaN        C  "
      ]
     },
     "execution_count": 122,
     "metadata": {},
     "output_type": "execute_result"
    }
   ],
   "source": [
    "# arbitrary slice\n",
    "titanic[102:109]"
   ]
  },
  {
   "cell_type": "code",
   "execution_count": 123,
   "metadata": {},
   "outputs": [
    {
     "data": {
      "text/html": [
       "<div>\n",
       "<style scoped>\n",
       "    .dataframe tbody tr th:only-of-type {\n",
       "        vertical-align: middle;\n",
       "    }\n",
       "\n",
       "    .dataframe tbody tr th {\n",
       "        vertical-align: top;\n",
       "    }\n",
       "\n",
       "    .dataframe thead th {\n",
       "        text-align: right;\n",
       "    }\n",
       "</style>\n",
       "<table border=\"1\" class=\"dataframe\">\n",
       "  <thead>\n",
       "    <tr style=\"text-align: right;\">\n",
       "      <th></th>\n",
       "      <th>pclass</th>\n",
       "      <th>survived</th>\n",
       "      <th>name</th>\n",
       "      <th>sex</th>\n",
       "      <th>age</th>\n",
       "      <th>sibsp</th>\n",
       "      <th>parch</th>\n",
       "      <th>ticket</th>\n",
       "      <th>fare</th>\n",
       "      <th>cabin</th>\n",
       "      <th>embarked</th>\n",
       "    </tr>\n",
       "  </thead>\n",
       "  <tbody>\n",
       "    <tr>\n",
       "      <th>123</th>\n",
       "      <td>1</td>\n",
       "      <td>1</td>\n",
       "      <td>Frolicher-Stehli, Mr. Maxmillian</td>\n",
       "      <td>male</td>\n",
       "      <td>60.0</td>\n",
       "      <td>1</td>\n",
       "      <td>1</td>\n",
       "      <td>13567</td>\n",
       "      <td>79.2</td>\n",
       "      <td>B41</td>\n",
       "      <td>C</td>\n",
       "    </tr>\n",
       "  </tbody>\n",
       "</table>\n",
       "</div>"
      ],
      "text/plain": [
       "     pclass  survived                              name   sex   age  sibsp  \\\n",
       "123       1         1  Frolicher-Stehli, Mr. Maxmillian  male  60.0      1   \n",
       "\n",
       "     parch ticket  fare cabin embarked  \n",
       "123      1  13567  79.2   B41        C  "
      ]
     },
     "execution_count": 123,
     "metadata": {},
     "output_type": "execute_result"
    }
   ],
   "source": [
    "# 1 row\n",
    "titanic[123:124]"
   ]
  },
  {
   "cell_type": "markdown",
   "metadata": {},
   "source": [
    "## Conditional Filtering\n",
    "\n",
    "Most filtering is a more involved operation where we first specify the condition(s) that must be met in order for rows to be included in or excluded from the output dataframe.\n",
    "\n",
    "## The Filtering Process\n",
    "\n",
    "The way that pandas filters rows can be though of as a two-step process.\n",
    "\n",
    "1. Create a 'mask' that specifies inclusion and exclusion for each row in the dataframe.\n",
    "2. Mask the dataframe to return the subset of rows that are included.\n",
    "\n",
    "This sounds a bit abstract, so let's consider what this might look like in practice.\n",
    "\n",
    "Imagine you have the following (very simple) dataframe, called 'catdog':\n",
    "\n",
    "index | Animal | Name\n",
    "---| --- | ---\n",
    "0 | Cat | Catalie Portman\n",
    "1 | Cat | Pico de Gato\n",
    "2 | Dog | Chewbarka\n",
    "3 | Cat | JK Meowling\n"
   ]
  },
  {
   "cell_type": "markdown",
   "metadata": {},
   "source": [
    "You want to filter so you just have 'Cat' rows. Therefore you design the following condition:\n",
    "\n",
    "```python \n",
    "mask = catdog['Animal'] == 'Cat'\n",
    "```\n",
    "\n",
    "There are a lot of = (equals) in the above statement.\n",
    "* The first = indicates assignment, we are assigning the outcome of the expression on the right to the variable on the left of the equals sign.\n",
    "* The second double equals sign, ==, indicates a comparison, in this case it assesses whether each value in the 'Animal' column of catdog is equal to the text 'Cat'. If python finds that the column value and 'Cat' are the same it assigns a True value, and if not a False value.\n",
    "\n",
    "This produces a 'mask' which is a Series of `True` and `False` values against the DataFrame index.\n",
    "\n",
    "index | &#xfeff;\n",
    "---|---\n",
    "0 | True\n",
    "1 | True\n",
    "2 | False\n",
    "3 | True"
   ]
  },
  {
   "cell_type": "markdown",
   "metadata": {},
   "source": [
    "Now, you just have to pass the mask to the original dataframe to complete the filtering process.\n",
    "\n",
    "```python\n",
    "catdog2 = catdog[mask]\n",
    "catdog2\n",
    "```\n",
    "This subsets the catdog dataframe based on the True (include) and False (exclude) values. Producing:\n",
    "\n",
    "index | Animal | Name\n",
    "---| --- | ---\n",
    "0 | Cat | Catalie Portman\n",
    "1 | Cat | Pico de Gato\n",
    "3 | Cat | JK Meowling"
   ]
  },
  {
   "cell_type": "markdown",
   "metadata": {},
   "source": [
    "The row that had a 'Dog' value for 'Animal', has been removed. Note though that the index has remained the same as the original. Sometimes it is important to reset the index after filtering to restore the index to sequential integers starting at 0.\n",
    "\n",
    "If you want to reset the index - you can do so by using this code - \n",
    "\n",
    "```python\n",
    "catdog2 = catdog2.reset_index(drop = True)\n",
    "catdog2\n",
    "```\n",
    "index | Animal | Name\n",
    "---| --- | ---\n",
    "0 | Cat | Catalie Portman\n",
    "1 | Cat | Pico de Gato\n",
    "2 | Cat | JK Meowling"
   ]
  },
  {
   "cell_type": "markdown",
   "metadata": {},
   "source": [
    "See above that the index has been reset to be sequential.\n",
    "\n",
    "## Filtering Data\n",
    "\n",
    "Just like with simple conditional statements, we filter by using logical comparison statements\n",
    "\n",
    "* == 'is equal to' notice the double == and watch out! A single one would be assigning to a variable!\n",
    "* != 'does not equal' - the opposite of ==\n",
    "* $\\gt$  greater than\n",
    "* $\\lt$ less than\n",
    "* $\\gt$= greater than or equal too\n",
    "* $\\lt$= less than or equal too.\n",
    "\n",
    "In addition, pandas includes some functions to make particular comparisons easier:\n",
    "\n",
    "* .isin(list) which we can use for multiple conditions \n",
    "* .between() which we can use to specify upper and lower bounds\n",
    "\n",
    "Finally, the ~ (tilde) allows us to flip or invert an expression. Basically, if an expression returns `[True, True, False]`, the same expression with a ~ in front of it will return `[False, False, True]`.\n",
    "\n",
    "However, we'll concentrate on the simple operators in the top list for now."
   ]
  },
  {
   "cell_type": "code",
   "execution_count": 124,
   "metadata": {
    "scrolled": true
   },
   "outputs": [
    {
     "data": {
      "text/html": [
       "<div>\n",
       "<style scoped>\n",
       "    .dataframe tbody tr th:only-of-type {\n",
       "        vertical-align: middle;\n",
       "    }\n",
       "\n",
       "    .dataframe tbody tr th {\n",
       "        vertical-align: top;\n",
       "    }\n",
       "\n",
       "    .dataframe thead th {\n",
       "        text-align: right;\n",
       "    }\n",
       "</style>\n",
       "<table border=\"1\" class=\"dataframe\">\n",
       "  <thead>\n",
       "    <tr style=\"text-align: right;\">\n",
       "      <th></th>\n",
       "      <th>pclass</th>\n",
       "      <th>survived</th>\n",
       "      <th>name</th>\n",
       "      <th>sex</th>\n",
       "      <th>age</th>\n",
       "      <th>sibsp</th>\n",
       "      <th>parch</th>\n",
       "      <th>ticket</th>\n",
       "      <th>fare</th>\n",
       "      <th>cabin</th>\n",
       "      <th>embarked</th>\n",
       "    </tr>\n",
       "  </thead>\n",
       "  <tbody>\n",
       "    <tr>\n",
       "      <th>0</th>\n",
       "      <td>1</td>\n",
       "      <td>1</td>\n",
       "      <td>Allen, Miss. Elisabeth Walton</td>\n",
       "      <td>female</td>\n",
       "      <td>29.0000</td>\n",
       "      <td>0</td>\n",
       "      <td>0</td>\n",
       "      <td>24160</td>\n",
       "      <td>211.3375</td>\n",
       "      <td>B5</td>\n",
       "      <td>S</td>\n",
       "    </tr>\n",
       "    <tr>\n",
       "      <th>1</th>\n",
       "      <td>1</td>\n",
       "      <td>1</td>\n",
       "      <td>Allison, Master. Hudson Trevor</td>\n",
       "      <td>male</td>\n",
       "      <td>0.9167</td>\n",
       "      <td>1</td>\n",
       "      <td>2</td>\n",
       "      <td>113781</td>\n",
       "      <td>151.5500</td>\n",
       "      <td>C22 C26</td>\n",
       "      <td>S</td>\n",
       "    </tr>\n",
       "  </tbody>\n",
       "</table>\n",
       "</div>"
      ],
      "text/plain": [
       "   pclass  survived                            name     sex      age  sibsp  \\\n",
       "0       1         1   Allen, Miss. Elisabeth Walton  female  29.0000      0   \n",
       "1       1         1  Allison, Master. Hudson Trevor    male   0.9167      1   \n",
       "\n",
       "   parch  ticket      fare    cabin embarked  \n",
       "0      0   24160  211.3375       B5        S  \n",
       "1      2  113781  151.5500  C22 C26        S  "
      ]
     },
     "execution_count": 124,
     "metadata": {},
     "output_type": "execute_result"
    }
   ],
   "source": [
    "titanic.head(2)"
   ]
  },
  {
   "cell_type": "code",
   "execution_count": 125,
   "metadata": {},
   "outputs": [
    {
     "data": {
      "text/plain": [
       "0    False\n",
       "1    False\n",
       "2    False\n",
       "3    False\n",
       "4    False\n",
       "Name: pclass, dtype: bool"
      ]
     },
     "execution_count": 125,
     "metadata": {},
     "output_type": "execute_result"
    }
   ],
   "source": [
    "third=titanic['pclass']==3\n",
    "third.head()"
   ]
  },
  {
   "cell_type": "code",
   "execution_count": 126,
   "metadata": {},
   "outputs": [],
   "source": [
    "class3=titanic[third]"
   ]
  },
  {
   "cell_type": "code",
   "execution_count": 127,
   "metadata": {
    "scrolled": true
   },
   "outputs": [
    {
     "data": {
      "text/html": [
       "<div>\n",
       "<style scoped>\n",
       "    .dataframe tbody tr th:only-of-type {\n",
       "        vertical-align: middle;\n",
       "    }\n",
       "\n",
       "    .dataframe tbody tr th {\n",
       "        vertical-align: top;\n",
       "    }\n",
       "\n",
       "    .dataframe thead th {\n",
       "        text-align: right;\n",
       "    }\n",
       "</style>\n",
       "<table border=\"1\" class=\"dataframe\">\n",
       "  <thead>\n",
       "    <tr style=\"text-align: right;\">\n",
       "      <th></th>\n",
       "      <th>pclass</th>\n",
       "      <th>survived</th>\n",
       "      <th>name</th>\n",
       "      <th>sex</th>\n",
       "      <th>age</th>\n",
       "      <th>sibsp</th>\n",
       "      <th>parch</th>\n",
       "      <th>ticket</th>\n",
       "      <th>fare</th>\n",
       "      <th>cabin</th>\n",
       "      <th>embarked</th>\n",
       "    </tr>\n",
       "  </thead>\n",
       "  <tbody>\n",
       "    <tr>\n",
       "      <th>600</th>\n",
       "      <td>3</td>\n",
       "      <td>0</td>\n",
       "      <td>Abbing, Mr. Anthony</td>\n",
       "      <td>male</td>\n",
       "      <td>42.0</td>\n",
       "      <td>0</td>\n",
       "      <td>0</td>\n",
       "      <td>C.A. 5547</td>\n",
       "      <td>7.55</td>\n",
       "      <td>NaN</td>\n",
       "      <td>S</td>\n",
       "    </tr>\n",
       "    <tr>\n",
       "      <th>601</th>\n",
       "      <td>3</td>\n",
       "      <td>0</td>\n",
       "      <td>Abbott, Master. Eugene Joseph</td>\n",
       "      <td>male</td>\n",
       "      <td>13.0</td>\n",
       "      <td>0</td>\n",
       "      <td>2</td>\n",
       "      <td>C.A. 2673</td>\n",
       "      <td>20.25</td>\n",
       "      <td>NaN</td>\n",
       "      <td>S</td>\n",
       "    </tr>\n",
       "    <tr>\n",
       "      <th>602</th>\n",
       "      <td>3</td>\n",
       "      <td>0</td>\n",
       "      <td>Abbott, Mr. Rossmore Edward</td>\n",
       "      <td>male</td>\n",
       "      <td>16.0</td>\n",
       "      <td>1</td>\n",
       "      <td>1</td>\n",
       "      <td>C.A. 2673</td>\n",
       "      <td>20.25</td>\n",
       "      <td>NaN</td>\n",
       "      <td>S</td>\n",
       "    </tr>\n",
       "    <tr>\n",
       "      <th>603</th>\n",
       "      <td>3</td>\n",
       "      <td>1</td>\n",
       "      <td>Abbott, Mrs. Stanton (Rosa Hunt)</td>\n",
       "      <td>female</td>\n",
       "      <td>35.0</td>\n",
       "      <td>1</td>\n",
       "      <td>1</td>\n",
       "      <td>C.A. 2673</td>\n",
       "      <td>20.25</td>\n",
       "      <td>NaN</td>\n",
       "      <td>S</td>\n",
       "    </tr>\n",
       "    <tr>\n",
       "      <th>604</th>\n",
       "      <td>3</td>\n",
       "      <td>1</td>\n",
       "      <td>Abelseth, Miss. Karen Marie</td>\n",
       "      <td>female</td>\n",
       "      <td>16.0</td>\n",
       "      <td>0</td>\n",
       "      <td>0</td>\n",
       "      <td>348125</td>\n",
       "      <td>7.65</td>\n",
       "      <td>NaN</td>\n",
       "      <td>S</td>\n",
       "    </tr>\n",
       "  </tbody>\n",
       "</table>\n",
       "</div>"
      ],
      "text/plain": [
       "     pclass  survived                              name     sex   age  sibsp  \\\n",
       "600       3         0               Abbing, Mr. Anthony    male  42.0      0   \n",
       "601       3         0     Abbott, Master. Eugene Joseph    male  13.0      0   \n",
       "602       3         0       Abbott, Mr. Rossmore Edward    male  16.0      1   \n",
       "603       3         1  Abbott, Mrs. Stanton (Rosa Hunt)  female  35.0      1   \n",
       "604       3         1       Abelseth, Miss. Karen Marie  female  16.0      0   \n",
       "\n",
       "     parch     ticket   fare cabin embarked  \n",
       "600      0  C.A. 5547   7.55   NaN        S  \n",
       "601      2  C.A. 2673  20.25   NaN        S  \n",
       "602      1  C.A. 2673  20.25   NaN        S  \n",
       "603      1  C.A. 2673  20.25   NaN        S  \n",
       "604      0     348125   7.65   NaN        S  "
      ]
     },
     "execution_count": 127,
     "metadata": {},
     "output_type": "execute_result"
    }
   ],
   "source": [
    "class3.head()"
   ]
  },
  {
   "cell_type": "code",
   "execution_count": 128,
   "metadata": {},
   "outputs": [
    {
     "data": {
      "text/html": [
       "<div>\n",
       "<style scoped>\n",
       "    .dataframe tbody tr th:only-of-type {\n",
       "        vertical-align: middle;\n",
       "    }\n",
       "\n",
       "    .dataframe tbody tr th {\n",
       "        vertical-align: top;\n",
       "    }\n",
       "\n",
       "    .dataframe thead th {\n",
       "        text-align: right;\n",
       "    }\n",
       "</style>\n",
       "<table border=\"1\" class=\"dataframe\">\n",
       "  <thead>\n",
       "    <tr style=\"text-align: right;\">\n",
       "      <th></th>\n",
       "      <th>pclass</th>\n",
       "      <th>survived</th>\n",
       "      <th>name</th>\n",
       "      <th>sex</th>\n",
       "      <th>age</th>\n",
       "      <th>sibsp</th>\n",
       "      <th>parch</th>\n",
       "      <th>ticket</th>\n",
       "      <th>fare</th>\n",
       "      <th>cabin</th>\n",
       "      <th>embarked</th>\n",
       "    </tr>\n",
       "  </thead>\n",
       "  <tbody>\n",
       "    <tr>\n",
       "      <th>600</th>\n",
       "      <td>3</td>\n",
       "      <td>0</td>\n",
       "      <td>Abbing, Mr. Anthony</td>\n",
       "      <td>male</td>\n",
       "      <td>42.0</td>\n",
       "      <td>0</td>\n",
       "      <td>0</td>\n",
       "      <td>C.A. 5547</td>\n",
       "      <td>7.55</td>\n",
       "      <td>NaN</td>\n",
       "      <td>S</td>\n",
       "    </tr>\n",
       "    <tr>\n",
       "      <th>601</th>\n",
       "      <td>3</td>\n",
       "      <td>0</td>\n",
       "      <td>Abbott, Master. Eugene Joseph</td>\n",
       "      <td>male</td>\n",
       "      <td>13.0</td>\n",
       "      <td>0</td>\n",
       "      <td>2</td>\n",
       "      <td>C.A. 2673</td>\n",
       "      <td>20.25</td>\n",
       "      <td>NaN</td>\n",
       "      <td>S</td>\n",
       "    </tr>\n",
       "    <tr>\n",
       "      <th>602</th>\n",
       "      <td>3</td>\n",
       "      <td>0</td>\n",
       "      <td>Abbott, Mr. Rossmore Edward</td>\n",
       "      <td>male</td>\n",
       "      <td>16.0</td>\n",
       "      <td>1</td>\n",
       "      <td>1</td>\n",
       "      <td>C.A. 2673</td>\n",
       "      <td>20.25</td>\n",
       "      <td>NaN</td>\n",
       "      <td>S</td>\n",
       "    </tr>\n",
       "    <tr>\n",
       "      <th>603</th>\n",
       "      <td>3</td>\n",
       "      <td>1</td>\n",
       "      <td>Abbott, Mrs. Stanton (Rosa Hunt)</td>\n",
       "      <td>female</td>\n",
       "      <td>35.0</td>\n",
       "      <td>1</td>\n",
       "      <td>1</td>\n",
       "      <td>C.A. 2673</td>\n",
       "      <td>20.25</td>\n",
       "      <td>NaN</td>\n",
       "      <td>S</td>\n",
       "    </tr>\n",
       "    <tr>\n",
       "      <th>604</th>\n",
       "      <td>3</td>\n",
       "      <td>1</td>\n",
       "      <td>Abelseth, Miss. Karen Marie</td>\n",
       "      <td>female</td>\n",
       "      <td>16.0</td>\n",
       "      <td>0</td>\n",
       "      <td>0</td>\n",
       "      <td>348125</td>\n",
       "      <td>7.65</td>\n",
       "      <td>NaN</td>\n",
       "      <td>S</td>\n",
       "    </tr>\n",
       "  </tbody>\n",
       "</table>\n",
       "</div>"
      ],
      "text/plain": [
       "     pclass  survived                              name     sex   age  sibsp  \\\n",
       "600       3         0               Abbing, Mr. Anthony    male  42.0      0   \n",
       "601       3         0     Abbott, Master. Eugene Joseph    male  13.0      0   \n",
       "602       3         0       Abbott, Mr. Rossmore Edward    male  16.0      1   \n",
       "603       3         1  Abbott, Mrs. Stanton (Rosa Hunt)  female  35.0      1   \n",
       "604       3         1       Abelseth, Miss. Karen Marie  female  16.0      0   \n",
       "\n",
       "     parch     ticket   fare cabin embarked  \n",
       "600      0  C.A. 5547   7.55   NaN        S  \n",
       "601      2  C.A. 2673  20.25   NaN        S  \n",
       "602      1  C.A. 2673  20.25   NaN        S  \n",
       "603      1  C.A. 2673  20.25   NaN        S  \n",
       "604      0     348125   7.65   NaN        S  "
      ]
     },
     "execution_count": 128,
     "metadata": {},
     "output_type": "execute_result"
    }
   ],
   "source": [
    "cl3=titanic[titanic['pclass']==3]\n",
    "cl3.head()"
   ]
  },
  {
   "cell_type": "code",
   "execution_count": 129,
   "metadata": {},
   "outputs": [
    {
     "data": {
      "text/plain": [
       "461    False\n",
       "410    False\n",
       "681     True\n",
       "562    False\n",
       "91     False\n",
       "Name: pclass, dtype: bool"
      ]
     },
     "execution_count": 129,
     "metadata": {},
     "output_type": "execute_result"
    }
   ],
   "source": [
    "# Filter titanic for 3rd class passengers only\n",
    "\n",
    "# First make the mask\n",
    "mask = titanic['pclass'] == 3\n",
    "# Have a quick look at the mask\n",
    "mask.sample(5) # 5 rows in the mask."
   ]
  },
  {
   "cell_type": "code",
   "execution_count": 130,
   "metadata": {},
   "outputs": [
    {
     "data": {
      "text/html": [
       "<div>\n",
       "<style scoped>\n",
       "    .dataframe tbody tr th:only-of-type {\n",
       "        vertical-align: middle;\n",
       "    }\n",
       "\n",
       "    .dataframe tbody tr th {\n",
       "        vertical-align: top;\n",
       "    }\n",
       "\n",
       "    .dataframe thead th {\n",
       "        text-align: right;\n",
       "    }\n",
       "</style>\n",
       "<table border=\"1\" class=\"dataframe\">\n",
       "  <thead>\n",
       "    <tr style=\"text-align: right;\">\n",
       "      <th></th>\n",
       "      <th>pclass</th>\n",
       "      <th>survived</th>\n",
       "      <th>name</th>\n",
       "      <th>sex</th>\n",
       "      <th>age</th>\n",
       "      <th>sibsp</th>\n",
       "      <th>parch</th>\n",
       "      <th>ticket</th>\n",
       "      <th>fare</th>\n",
       "      <th>cabin</th>\n",
       "      <th>embarked</th>\n",
       "    </tr>\n",
       "  </thead>\n",
       "  <tbody>\n",
       "    <tr>\n",
       "      <th>600</th>\n",
       "      <td>3</td>\n",
       "      <td>0</td>\n",
       "      <td>Abbing, Mr. Anthony</td>\n",
       "      <td>male</td>\n",
       "      <td>42.0</td>\n",
       "      <td>0</td>\n",
       "      <td>0</td>\n",
       "      <td>C.A. 5547</td>\n",
       "      <td>7.55</td>\n",
       "      <td>NaN</td>\n",
       "      <td>S</td>\n",
       "    </tr>\n",
       "    <tr>\n",
       "      <th>601</th>\n",
       "      <td>3</td>\n",
       "      <td>0</td>\n",
       "      <td>Abbott, Master. Eugene Joseph</td>\n",
       "      <td>male</td>\n",
       "      <td>13.0</td>\n",
       "      <td>0</td>\n",
       "      <td>2</td>\n",
       "      <td>C.A. 2673</td>\n",
       "      <td>20.25</td>\n",
       "      <td>NaN</td>\n",
       "      <td>S</td>\n",
       "    </tr>\n",
       "    <tr>\n",
       "      <th>602</th>\n",
       "      <td>3</td>\n",
       "      <td>0</td>\n",
       "      <td>Abbott, Mr. Rossmore Edward</td>\n",
       "      <td>male</td>\n",
       "      <td>16.0</td>\n",
       "      <td>1</td>\n",
       "      <td>1</td>\n",
       "      <td>C.A. 2673</td>\n",
       "      <td>20.25</td>\n",
       "      <td>NaN</td>\n",
       "      <td>S</td>\n",
       "    </tr>\n",
       "    <tr>\n",
       "      <th>603</th>\n",
       "      <td>3</td>\n",
       "      <td>1</td>\n",
       "      <td>Abbott, Mrs. Stanton (Rosa Hunt)</td>\n",
       "      <td>female</td>\n",
       "      <td>35.0</td>\n",
       "      <td>1</td>\n",
       "      <td>1</td>\n",
       "      <td>C.A. 2673</td>\n",
       "      <td>20.25</td>\n",
       "      <td>NaN</td>\n",
       "      <td>S</td>\n",
       "    </tr>\n",
       "    <tr>\n",
       "      <th>604</th>\n",
       "      <td>3</td>\n",
       "      <td>1</td>\n",
       "      <td>Abelseth, Miss. Karen Marie</td>\n",
       "      <td>female</td>\n",
       "      <td>16.0</td>\n",
       "      <td>0</td>\n",
       "      <td>0</td>\n",
       "      <td>348125</td>\n",
       "      <td>7.65</td>\n",
       "      <td>NaN</td>\n",
       "      <td>S</td>\n",
       "    </tr>\n",
       "  </tbody>\n",
       "</table>\n",
       "</div>"
      ],
      "text/plain": [
       "     pclass  survived                              name     sex   age  sibsp  \\\n",
       "600       3         0               Abbing, Mr. Anthony    male  42.0      0   \n",
       "601       3         0     Abbott, Master. Eugene Joseph    male  13.0      0   \n",
       "602       3         0       Abbott, Mr. Rossmore Edward    male  16.0      1   \n",
       "603       3         1  Abbott, Mrs. Stanton (Rosa Hunt)  female  35.0      1   \n",
       "604       3         1       Abelseth, Miss. Karen Marie  female  16.0      0   \n",
       "\n",
       "     parch     ticket   fare cabin embarked  \n",
       "600      0  C.A. 5547   7.55   NaN        S  \n",
       "601      2  C.A. 2673  20.25   NaN        S  \n",
       "602      1  C.A. 2673  20.25   NaN        S  \n",
       "603      1  C.A. 2673  20.25   NaN        S  \n",
       "604      0     348125   7.65   NaN        S  "
      ]
     },
     "execution_count": 130,
     "metadata": {},
     "output_type": "execute_result"
    }
   ],
   "source": [
    "# Now filter the titanic dataframe with this mask\n",
    "thirdclass = titanic[mask]\n",
    "thirdclass.head()"
   ]
  },
  {
   "cell_type": "code",
   "execution_count": 131,
   "metadata": {},
   "outputs": [
    {
     "data": {
      "text/plain": [
       "(709, 11)"
      ]
     },
     "execution_count": 131,
     "metadata": {},
     "output_type": "execute_result"
    }
   ],
   "source": [
    "thirdclass.shape"
   ]
  },
  {
   "cell_type": "code",
   "execution_count": 132,
   "metadata": {},
   "outputs": [
    {
     "data": {
      "text/html": [
       "<div>\n",
       "<style scoped>\n",
       "    .dataframe tbody tr th:only-of-type {\n",
       "        vertical-align: middle;\n",
       "    }\n",
       "\n",
       "    .dataframe tbody tr th {\n",
       "        vertical-align: top;\n",
       "    }\n",
       "\n",
       "    .dataframe thead th {\n",
       "        text-align: right;\n",
       "    }\n",
       "</style>\n",
       "<table border=\"1\" class=\"dataframe\">\n",
       "  <thead>\n",
       "    <tr style=\"text-align: right;\">\n",
       "      <th></th>\n",
       "      <th>pclass</th>\n",
       "      <th>survived</th>\n",
       "      <th>name</th>\n",
       "      <th>sex</th>\n",
       "      <th>age</th>\n",
       "      <th>sibsp</th>\n",
       "      <th>parch</th>\n",
       "      <th>ticket</th>\n",
       "      <th>fare</th>\n",
       "      <th>cabin</th>\n",
       "      <th>embarked</th>\n",
       "    </tr>\n",
       "  </thead>\n",
       "  <tbody>\n",
       "    <tr>\n",
       "      <th>0</th>\n",
       "      <td>1</td>\n",
       "      <td>1</td>\n",
       "      <td>Allen, Miss. Elisabeth Walton</td>\n",
       "      <td>female</td>\n",
       "      <td>29.0</td>\n",
       "      <td>0</td>\n",
       "      <td>0</td>\n",
       "      <td>24160</td>\n",
       "      <td>211.3375</td>\n",
       "      <td>B5</td>\n",
       "      <td>S</td>\n",
       "    </tr>\n",
       "    <tr>\n",
       "      <th>10</th>\n",
       "      <td>1</td>\n",
       "      <td>0</td>\n",
       "      <td>Astor, Col. John Jacob</td>\n",
       "      <td>male</td>\n",
       "      <td>47.0</td>\n",
       "      <td>1</td>\n",
       "      <td>0</td>\n",
       "      <td>PC 17757</td>\n",
       "      <td>227.5250</td>\n",
       "      <td>C62 C64</td>\n",
       "      <td>C</td>\n",
       "    </tr>\n",
       "    <tr>\n",
       "      <th>11</th>\n",
       "      <td>1</td>\n",
       "      <td>1</td>\n",
       "      <td>Astor, Mrs. John Jacob (Madeleine Talmadge Force)</td>\n",
       "      <td>female</td>\n",
       "      <td>18.0</td>\n",
       "      <td>1</td>\n",
       "      <td>0</td>\n",
       "      <td>PC 17757</td>\n",
       "      <td>227.5250</td>\n",
       "      <td>C62 C64</td>\n",
       "      <td>C</td>\n",
       "    </tr>\n",
       "    <tr>\n",
       "      <th>16</th>\n",
       "      <td>1</td>\n",
       "      <td>0</td>\n",
       "      <td>Baxter, Mr. Quigg Edmond</td>\n",
       "      <td>male</td>\n",
       "      <td>24.0</td>\n",
       "      <td>0</td>\n",
       "      <td>1</td>\n",
       "      <td>PC 17558</td>\n",
       "      <td>247.5208</td>\n",
       "      <td>B58 B60</td>\n",
       "      <td>C</td>\n",
       "    </tr>\n",
       "    <tr>\n",
       "      <th>17</th>\n",
       "      <td>1</td>\n",
       "      <td>1</td>\n",
       "      <td>Baxter, Mrs. James (Helene DeLaudeniere Chaput)</td>\n",
       "      <td>female</td>\n",
       "      <td>50.0</td>\n",
       "      <td>0</td>\n",
       "      <td>1</td>\n",
       "      <td>PC 17558</td>\n",
       "      <td>247.5208</td>\n",
       "      <td>B58 B60</td>\n",
       "      <td>C</td>\n",
       "    </tr>\n",
       "    <tr>\n",
       "      <th>23</th>\n",
       "      <td>1</td>\n",
       "      <td>1</td>\n",
       "      <td>Bidois, Miss. Rosalie</td>\n",
       "      <td>female</td>\n",
       "      <td>42.0</td>\n",
       "      <td>0</td>\n",
       "      <td>0</td>\n",
       "      <td>PC 17757</td>\n",
       "      <td>227.5250</td>\n",
       "      <td>NaN</td>\n",
       "      <td>C</td>\n",
       "    </tr>\n",
       "    <tr>\n",
       "      <th>24</th>\n",
       "      <td>1</td>\n",
       "      <td>1</td>\n",
       "      <td>Bird, Miss. Ellen</td>\n",
       "      <td>female</td>\n",
       "      <td>29.0</td>\n",
       "      <td>0</td>\n",
       "      <td>0</td>\n",
       "      <td>PC 17483</td>\n",
       "      <td>221.7792</td>\n",
       "      <td>C97</td>\n",
       "      <td>S</td>\n",
       "    </tr>\n",
       "  </tbody>\n",
       "</table>\n",
       "</div>"
      ],
      "text/plain": [
       "    pclass  survived                                               name  \\\n",
       "0        1         1                      Allen, Miss. Elisabeth Walton   \n",
       "10       1         0                             Astor, Col. John Jacob   \n",
       "11       1         1  Astor, Mrs. John Jacob (Madeleine Talmadge Force)   \n",
       "16       1         0                           Baxter, Mr. Quigg Edmond   \n",
       "17       1         1    Baxter, Mrs. James (Helene DeLaudeniere Chaput)   \n",
       "23       1         1                              Bidois, Miss. Rosalie   \n",
       "24       1         1                                  Bird, Miss. Ellen   \n",
       "\n",
       "       sex   age  sibsp  parch    ticket      fare    cabin embarked  \n",
       "0   female  29.0      0      0     24160  211.3375       B5        S  \n",
       "10    male  47.0      1      0  PC 17757  227.5250  C62 C64        C  \n",
       "11  female  18.0      1      0  PC 17757  227.5250  C62 C64        C  \n",
       "16    male  24.0      0      1  PC 17558  247.5208  B58 B60        C  \n",
       "17  female  50.0      0      1  PC 17558  247.5208  B58 B60        C  \n",
       "23  female  42.0      0      0  PC 17757  227.5250      NaN        C  \n",
       "24  female  29.0      0      0  PC 17483  221.7792      C97        S  "
      ]
     },
     "execution_count": 132,
     "metadata": {},
     "output_type": "execute_result"
    }
   ],
   "source": [
    "# Use the same approach for other logical statements.\n",
    "mask = titanic['fare'] > 200\n",
    "titanic[mask].head(7)"
   ]
  },
  {
   "cell_type": "code",
   "execution_count": 133,
   "metadata": {},
   "outputs": [
    {
     "data": {
      "text/html": [
       "<div>\n",
       "<style scoped>\n",
       "    .dataframe tbody tr th:only-of-type {\n",
       "        vertical-align: middle;\n",
       "    }\n",
       "\n",
       "    .dataframe tbody tr th {\n",
       "        vertical-align: top;\n",
       "    }\n",
       "\n",
       "    .dataframe thead th {\n",
       "        text-align: right;\n",
       "    }\n",
       "</style>\n",
       "<table border=\"1\" class=\"dataframe\">\n",
       "  <thead>\n",
       "    <tr style=\"text-align: right;\">\n",
       "      <th></th>\n",
       "      <th>pclass</th>\n",
       "      <th>survived</th>\n",
       "      <th>name</th>\n",
       "      <th>sex</th>\n",
       "      <th>age</th>\n",
       "      <th>sibsp</th>\n",
       "      <th>parch</th>\n",
       "      <th>ticket</th>\n",
       "      <th>fare</th>\n",
       "      <th>cabin</th>\n",
       "      <th>embarked</th>\n",
       "    </tr>\n",
       "  </thead>\n",
       "  <tbody>\n",
       "    <tr>\n",
       "      <th>600</th>\n",
       "      <td>3</td>\n",
       "      <td>0</td>\n",
       "      <td>Abbing, Mr. Anthony</td>\n",
       "      <td>male</td>\n",
       "      <td>42.0</td>\n",
       "      <td>0</td>\n",
       "      <td>0</td>\n",
       "      <td>C.A. 5547</td>\n",
       "      <td>7.55</td>\n",
       "      <td>NaN</td>\n",
       "      <td>S</td>\n",
       "    </tr>\n",
       "    <tr>\n",
       "      <th>601</th>\n",
       "      <td>3</td>\n",
       "      <td>0</td>\n",
       "      <td>Abbott, Master. Eugene Joseph</td>\n",
       "      <td>male</td>\n",
       "      <td>13.0</td>\n",
       "      <td>0</td>\n",
       "      <td>2</td>\n",
       "      <td>C.A. 2673</td>\n",
       "      <td>20.25</td>\n",
       "      <td>NaN</td>\n",
       "      <td>S</td>\n",
       "    </tr>\n",
       "    <tr>\n",
       "      <th>602</th>\n",
       "      <td>3</td>\n",
       "      <td>0</td>\n",
       "      <td>Abbott, Mr. Rossmore Edward</td>\n",
       "      <td>male</td>\n",
       "      <td>16.0</td>\n",
       "      <td>1</td>\n",
       "      <td>1</td>\n",
       "      <td>C.A. 2673</td>\n",
       "      <td>20.25</td>\n",
       "      <td>NaN</td>\n",
       "      <td>S</td>\n",
       "    </tr>\n",
       "    <tr>\n",
       "      <th>603</th>\n",
       "      <td>3</td>\n",
       "      <td>1</td>\n",
       "      <td>Abbott, Mrs. Stanton (Rosa Hunt)</td>\n",
       "      <td>female</td>\n",
       "      <td>35.0</td>\n",
       "      <td>1</td>\n",
       "      <td>1</td>\n",
       "      <td>C.A. 2673</td>\n",
       "      <td>20.25</td>\n",
       "      <td>NaN</td>\n",
       "      <td>S</td>\n",
       "    </tr>\n",
       "    <tr>\n",
       "      <th>604</th>\n",
       "      <td>3</td>\n",
       "      <td>1</td>\n",
       "      <td>Abelseth, Miss. Karen Marie</td>\n",
       "      <td>female</td>\n",
       "      <td>16.0</td>\n",
       "      <td>0</td>\n",
       "      <td>0</td>\n",
       "      <td>348125</td>\n",
       "      <td>7.65</td>\n",
       "      <td>NaN</td>\n",
       "      <td>S</td>\n",
       "    </tr>\n",
       "  </tbody>\n",
       "</table>\n",
       "</div>"
      ],
      "text/plain": [
       "     pclass  survived                              name     sex   age  sibsp  \\\n",
       "600       3         0               Abbing, Mr. Anthony    male  42.0      0   \n",
       "601       3         0     Abbott, Master. Eugene Joseph    male  13.0      0   \n",
       "602       3         0       Abbott, Mr. Rossmore Edward    male  16.0      1   \n",
       "603       3         1  Abbott, Mrs. Stanton (Rosa Hunt)  female  35.0      1   \n",
       "604       3         1       Abelseth, Miss. Karen Marie  female  16.0      0   \n",
       "\n",
       "     parch     ticket   fare cabin embarked  \n",
       "600      0  C.A. 5547   7.55   NaN        S  \n",
       "601      2  C.A. 2673  20.25   NaN        S  \n",
       "602      1  C.A. 2673  20.25   NaN        S  \n",
       "603      1  C.A. 2673  20.25   NaN        S  \n",
       "604      0     348125   7.65   NaN        S  "
      ]
     },
     "execution_count": 133,
     "metadata": {},
     "output_type": "execute_result"
    }
   ],
   "source": [
    "cl3=titanic[titanic['pclass']==3]\n",
    "cl3.head()"
   ]
  },
  {
   "cell_type": "markdown",
   "metadata": {},
   "source": [
    "# Exercise 2\n",
    "\n",
    "1. Show the row for the passenger named: 'Birkeland, Mr. Hans Martin Monsen'\n",
    "2. How many passengers in the dataset are male?\n",
    "3. How many passengers are under 18 years of age?\n",
    "4. What proportion of passenger in the dataset survived?"
   ]
  },
  {
   "cell_type": "code",
   "execution_count": null,
   "metadata": {},
   "outputs": [],
   "source": [
    "# exercise 2 solutions\n",
    "%load ./solutions/part_1_exercise_2.py"
   ]
  },
  {
   "cell_type": "markdown",
   "metadata": {},
   "source": [
    "## Using Multiple Conditions to Filter\n",
    "\n",
    "So far, we've only filtered according to individual conditions set on a single column, but there is no reason we can't use multiple conditions to filter by several conditions and/or columns at once. However, we do need to think about how the conditions relate to each other, we have two options to establish these relationships.\n",
    "\n",
    "* **and** relationships are given by the **&** (ampersand) symbol. This implies both/all conditions must be met for a row to evaluate to True.\n",
    "* **or** relationships are given by the **|** (pipe) symbol. This implies that if _any_ of the conditions can be met a given row evaluates to True.\n",
    "\n",
    "You can think of `.isin()` and `.between()` as being special versions of multiple condition filters.\n",
    "\n",
    "* isin() is basically just a lot of linked **or** statements - *value1* **or** *value2* **or** *value3* etc.\n",
    "* between() is an **and** condition - greater than (or equal to) the lower bound **and** less than (or equal to) the upper bound.\n",
    "\n",
    "Let's again take a simple example to illustrate this with the `catdog` dataframe:\n",
    "\n",
    "index | Animal | Name | Age\n",
    "---| --- | --- | ---\n",
    "0 | Cat | Catalie Portman | 3.0\n",
    "1 | Cat | Pico de Gato | 5.0\n",
    "2 | Dog | Chewbarka | 1.0\n",
    "3 | Cat | JK Meowling | 7.0\n",
    "4 | Dog | K-9 | 11.0"
   ]
  },
  {
   "cell_type": "markdown",
   "metadata": {},
   "source": [
    "If you wanted to select all animals that are cats **and** who are over 4 years old, you could do the following:\n",
    "\n",
    "```python\n",
    "mask = (catdog['Animal'] == 'Cat') & (catdog['Age'] > 4.0)\n",
    "\n",
    "catdog[mask]\n",
    "```\n",
    "index | Animal | Name | Age\n",
    "---| --- | --- | ---\n",
    "1 | Cat | Pico de Gato | 5.0\n",
    "3 | Cat | JK Meowling | 7.0"
   ]
  },
  {
   "cell_type": "markdown",
   "metadata": {},
   "source": [
    "Only Cats over 4 years old have been included in the filter.\n",
    "\n",
    "However, if you wanted to select all animals that are either cats **or** are over 4 years old, you could instead do:\n",
    "\n",
    "```python\n",
    "mask = (catdog['Animal'] == 'Cat') | (catdog['Age'] > 4.0)\n",
    "\n",
    "catdog[mask]\n",
    "```\n",
    "index | Animal | Name | Age\n",
    "---| --- | --- | ---\n",
    "0 | Cat | Catalie Portman | 3.0\n",
    "1 | Cat | Pico de Gato | 5.0\n",
    "3 | Cat | JK Meowling | 7.0\n",
    "4 | Dog | K-9 | 11.0\n"
   ]
  },
  {
   "cell_type": "code",
   "execution_count": 134,
   "metadata": {},
   "outputs": [
    {
     "data": {
      "text/plain": [
       "144"
      ]
     },
     "execution_count": 134,
     "metadata": {},
     "output_type": "execute_result"
    }
   ],
   "source": [
    "# Let's try some multiple condition filters with the titanic data\n",
    "# First class passengers who are women.\n",
    "mask = (titanic['pclass'] == 1) & (titanic['sex']== 'female')\n",
    "titanic[mask].head()\n",
    "len(titanic[mask])"
   ]
  },
  {
   "cell_type": "code",
   "execution_count": 135,
   "metadata": {},
   "outputs": [
    {
     "data": {
      "text/html": [
       "<div>\n",
       "<style scoped>\n",
       "    .dataframe tbody tr th:only-of-type {\n",
       "        vertical-align: middle;\n",
       "    }\n",
       "\n",
       "    .dataframe tbody tr th {\n",
       "        vertical-align: top;\n",
       "    }\n",
       "\n",
       "    .dataframe thead th {\n",
       "        text-align: right;\n",
       "    }\n",
       "</style>\n",
       "<table border=\"1\" class=\"dataframe\">\n",
       "  <thead>\n",
       "    <tr style=\"text-align: right;\">\n",
       "      <th></th>\n",
       "      <th>pclass</th>\n",
       "      <th>survived</th>\n",
       "      <th>name</th>\n",
       "      <th>sex</th>\n",
       "      <th>age</th>\n",
       "      <th>sibsp</th>\n",
       "      <th>parch</th>\n",
       "      <th>ticket</th>\n",
       "      <th>fare</th>\n",
       "      <th>cabin</th>\n",
       "      <th>embarked</th>\n",
       "    </tr>\n",
       "  </thead>\n",
       "  <tbody>\n",
       "    <tr>\n",
       "      <th>0</th>\n",
       "      <td>1</td>\n",
       "      <td>1</td>\n",
       "      <td>Allen, Miss. Elisabeth Walton</td>\n",
       "      <td>female</td>\n",
       "      <td>29.0000</td>\n",
       "      <td>0</td>\n",
       "      <td>0</td>\n",
       "      <td>24160</td>\n",
       "      <td>211.3375</td>\n",
       "      <td>B5</td>\n",
       "      <td>S</td>\n",
       "    </tr>\n",
       "    <tr>\n",
       "      <th>1</th>\n",
       "      <td>1</td>\n",
       "      <td>1</td>\n",
       "      <td>Allison, Master. Hudson Trevor</td>\n",
       "      <td>male</td>\n",
       "      <td>0.9167</td>\n",
       "      <td>1</td>\n",
       "      <td>2</td>\n",
       "      <td>113781</td>\n",
       "      <td>151.5500</td>\n",
       "      <td>C22 C26</td>\n",
       "      <td>S</td>\n",
       "    </tr>\n",
       "    <tr>\n",
       "      <th>2</th>\n",
       "      <td>1</td>\n",
       "      <td>0</td>\n",
       "      <td>Allison, Miss. Helen Loraine</td>\n",
       "      <td>female</td>\n",
       "      <td>2.0000</td>\n",
       "      <td>1</td>\n",
       "      <td>2</td>\n",
       "      <td>113781</td>\n",
       "      <td>151.5500</td>\n",
       "      <td>C22 C26</td>\n",
       "      <td>S</td>\n",
       "    </tr>\n",
       "    <tr>\n",
       "      <th>4</th>\n",
       "      <td>1</td>\n",
       "      <td>0</td>\n",
       "      <td>Allison, Mrs. Hudson J C (Bessie Waldo Daniels)</td>\n",
       "      <td>female</td>\n",
       "      <td>25.0000</td>\n",
       "      <td>1</td>\n",
       "      <td>2</td>\n",
       "      <td>113781</td>\n",
       "      <td>151.5500</td>\n",
       "      <td>C22 C26</td>\n",
       "      <td>S</td>\n",
       "    </tr>\n",
       "    <tr>\n",
       "      <th>6</th>\n",
       "      <td>1</td>\n",
       "      <td>1</td>\n",
       "      <td>Andrews, Miss. Kornelia Theodosia</td>\n",
       "      <td>female</td>\n",
       "      <td>63.0000</td>\n",
       "      <td>1</td>\n",
       "      <td>0</td>\n",
       "      <td>13502</td>\n",
       "      <td>77.9583</td>\n",
       "      <td>D7</td>\n",
       "      <td>S</td>\n",
       "    </tr>\n",
       "  </tbody>\n",
       "</table>\n",
       "</div>"
      ],
      "text/plain": [
       "   pclass  survived                                             name     sex  \\\n",
       "0       1         1                    Allen, Miss. Elisabeth Walton  female   \n",
       "1       1         1                   Allison, Master. Hudson Trevor    male   \n",
       "2       1         0                     Allison, Miss. Helen Loraine  female   \n",
       "4       1         0  Allison, Mrs. Hudson J C (Bessie Waldo Daniels)  female   \n",
       "6       1         1                Andrews, Miss. Kornelia Theodosia  female   \n",
       "\n",
       "       age  sibsp  parch  ticket      fare    cabin embarked  \n",
       "0  29.0000      0      0   24160  211.3375       B5        S  \n",
       "1   0.9167      1      2  113781  151.5500  C22 C26        S  \n",
       "2   2.0000      1      2  113781  151.5500  C22 C26        S  \n",
       "4  25.0000      1      2  113781  151.5500  C22 C26        S  \n",
       "6  63.0000      1      0   13502   77.9583       D7        S  "
      ]
     },
     "execution_count": 135,
     "metadata": {},
     "output_type": "execute_result"
    }
   ],
   "source": [
    "# Women or children\n",
    "mask = (titanic['sex'] == 'female') | (titanic['age'] < 18)\n",
    "titanic[mask].head()"
   ]
  },
  {
   "cell_type": "code",
   "execution_count": 136,
   "metadata": {},
   "outputs": [
    {
     "data": {
      "text/html": [
       "<div>\n",
       "<style scoped>\n",
       "    .dataframe tbody tr th:only-of-type {\n",
       "        vertical-align: middle;\n",
       "    }\n",
       "\n",
       "    .dataframe tbody tr th {\n",
       "        vertical-align: top;\n",
       "    }\n",
       "\n",
       "    .dataframe thead th {\n",
       "        text-align: right;\n",
       "    }\n",
       "</style>\n",
       "<table border=\"1\" class=\"dataframe\">\n",
       "  <thead>\n",
       "    <tr style=\"text-align: right;\">\n",
       "      <th></th>\n",
       "      <th>pclass</th>\n",
       "      <th>survived</th>\n",
       "      <th>name</th>\n",
       "      <th>sex</th>\n",
       "      <th>age</th>\n",
       "      <th>sibsp</th>\n",
       "      <th>parch</th>\n",
       "      <th>ticket</th>\n",
       "      <th>fare</th>\n",
       "      <th>cabin</th>\n",
       "      <th>embarked</th>\n",
       "    </tr>\n",
       "  </thead>\n",
       "  <tbody>\n",
       "    <tr>\n",
       "      <th>992</th>\n",
       "      <td>3</td>\n",
       "      <td>0</td>\n",
       "      <td>Mangan, Miss. Mary</td>\n",
       "      <td>female</td>\n",
       "      <td>30.5</td>\n",
       "      <td>0</td>\n",
       "      <td>0</td>\n",
       "      <td>364850</td>\n",
       "      <td>7.7500</td>\n",
       "      <td>NaN</td>\n",
       "      <td>Q</td>\n",
       "    </tr>\n",
       "    <tr>\n",
       "      <th>702</th>\n",
       "      <td>3</td>\n",
       "      <td>0</td>\n",
       "      <td>Canavan, Miss. Mary</td>\n",
       "      <td>female</td>\n",
       "      <td>21.0</td>\n",
       "      <td>0</td>\n",
       "      <td>0</td>\n",
       "      <td>364846</td>\n",
       "      <td>7.7500</td>\n",
       "      <td>NaN</td>\n",
       "      <td>Q</td>\n",
       "    </tr>\n",
       "    <tr>\n",
       "      <th>480</th>\n",
       "      <td>2</td>\n",
       "      <td>0</td>\n",
       "      <td>Laroche, Mr. Joseph Philippe Lemercier</td>\n",
       "      <td>male</td>\n",
       "      <td>25.0</td>\n",
       "      <td>1</td>\n",
       "      <td>2</td>\n",
       "      <td>SC/Paris 2123</td>\n",
       "      <td>41.5792</td>\n",
       "      <td>NaN</td>\n",
       "      <td>C</td>\n",
       "    </tr>\n",
       "    <tr>\n",
       "      <th>204</th>\n",
       "      <td>1</td>\n",
       "      <td>1</td>\n",
       "      <td>Meyer, Mrs. Edgar Joseph (Leila Saks)</td>\n",
       "      <td>female</td>\n",
       "      <td>NaN</td>\n",
       "      <td>1</td>\n",
       "      <td>0</td>\n",
       "      <td>PC 17604</td>\n",
       "      <td>82.1708</td>\n",
       "      <td>NaN</td>\n",
       "      <td>C</td>\n",
       "    </tr>\n",
       "    <tr>\n",
       "      <th>716</th>\n",
       "      <td>3</td>\n",
       "      <td>0</td>\n",
       "      <td>Chronopoulos, Mr. Apostolos</td>\n",
       "      <td>male</td>\n",
       "      <td>26.0</td>\n",
       "      <td>1</td>\n",
       "      <td>0</td>\n",
       "      <td>2680</td>\n",
       "      <td>14.4542</td>\n",
       "      <td>NaN</td>\n",
       "      <td>C</td>\n",
       "    </tr>\n",
       "    <tr>\n",
       "      <th>1078</th>\n",
       "      <td>3</td>\n",
       "      <td>1</td>\n",
       "      <td>O'Dwyer, Miss. Ellen \"Nellie\"</td>\n",
       "      <td>female</td>\n",
       "      <td>NaN</td>\n",
       "      <td>0</td>\n",
       "      <td>0</td>\n",
       "      <td>330959</td>\n",
       "      <td>7.8792</td>\n",
       "      <td>NaN</td>\n",
       "      <td>Q</td>\n",
       "    </tr>\n",
       "    <tr>\n",
       "      <th>164</th>\n",
       "      <td>1</td>\n",
       "      <td>1</td>\n",
       "      <td>Homer, Mr. Harry (\"Mr E Haven\")</td>\n",
       "      <td>male</td>\n",
       "      <td>35.0</td>\n",
       "      <td>0</td>\n",
       "      <td>0</td>\n",
       "      <td>111426</td>\n",
       "      <td>26.5500</td>\n",
       "      <td>NaN</td>\n",
       "      <td>C</td>\n",
       "    </tr>\n",
       "  </tbody>\n",
       "</table>\n",
       "</div>"
      ],
      "text/plain": [
       "      pclass  survived                                    name     sex   age  \\\n",
       "992        3         0                      Mangan, Miss. Mary  female  30.5   \n",
       "702        3         0                     Canavan, Miss. Mary  female  21.0   \n",
       "480        2         0  Laroche, Mr. Joseph Philippe Lemercier    male  25.0   \n",
       "204        1         1   Meyer, Mrs. Edgar Joseph (Leila Saks)  female   NaN   \n",
       "716        3         0             Chronopoulos, Mr. Apostolos    male  26.0   \n",
       "1078       3         1           O'Dwyer, Miss. Ellen \"Nellie\"  female   NaN   \n",
       "164        1         1         Homer, Mr. Harry (\"Mr E Haven\")    male  35.0   \n",
       "\n",
       "      sibsp  parch         ticket     fare cabin embarked  \n",
       "992       0      0         364850   7.7500   NaN        Q  \n",
       "702       0      0         364846   7.7500   NaN        Q  \n",
       "480       1      2  SC/Paris 2123  41.5792   NaN        C  \n",
       "204       1      0       PC 17604  82.1708   NaN        C  \n",
       "716       1      0           2680  14.4542   NaN        C  \n",
       "1078      0      0         330959   7.8792   NaN        Q  \n",
       "164       0      0         111426  26.5500   NaN        C  "
      ]
     },
     "execution_count": 136,
     "metadata": {},
     "output_type": "execute_result"
    }
   ],
   "source": [
    "# Try the special functions for multiple selection. First .isin()\n",
    "# Passeners from Cherbourg ('C') or Queenstown ('Q')\n",
    "titanic[titanic['embarked'].isin(['C','Q'])].sample(7)"
   ]
  },
  {
   "cell_type": "code",
   "execution_count": 137,
   "metadata": {},
   "outputs": [
    {
     "data": {
      "text/html": [
       "<div>\n",
       "<style scoped>\n",
       "    .dataframe tbody tr th:only-of-type {\n",
       "        vertical-align: middle;\n",
       "    }\n",
       "\n",
       "    .dataframe tbody tr th {\n",
       "        vertical-align: top;\n",
       "    }\n",
       "\n",
       "    .dataframe thead th {\n",
       "        text-align: right;\n",
       "    }\n",
       "</style>\n",
       "<table border=\"1\" class=\"dataframe\">\n",
       "  <thead>\n",
       "    <tr style=\"text-align: right;\">\n",
       "      <th></th>\n",
       "      <th>pclass</th>\n",
       "      <th>survived</th>\n",
       "      <th>name</th>\n",
       "      <th>sex</th>\n",
       "      <th>age</th>\n",
       "      <th>sibsp</th>\n",
       "      <th>parch</th>\n",
       "      <th>ticket</th>\n",
       "      <th>fare</th>\n",
       "      <th>cabin</th>\n",
       "      <th>embarked</th>\n",
       "    </tr>\n",
       "  </thead>\n",
       "  <tbody>\n",
       "    <tr>\n",
       "      <th>0</th>\n",
       "      <td>1</td>\n",
       "      <td>1</td>\n",
       "      <td>Allen, Miss. Elisabeth Walton</td>\n",
       "      <td>female</td>\n",
       "      <td>29.0000</td>\n",
       "      <td>0</td>\n",
       "      <td>0</td>\n",
       "      <td>24160</td>\n",
       "      <td>211.3375</td>\n",
       "      <td>B5</td>\n",
       "      <td>S</td>\n",
       "    </tr>\n",
       "    <tr>\n",
       "      <th>1</th>\n",
       "      <td>1</td>\n",
       "      <td>1</td>\n",
       "      <td>Allison, Master. Hudson Trevor</td>\n",
       "      <td>male</td>\n",
       "      <td>0.9167</td>\n",
       "      <td>1</td>\n",
       "      <td>2</td>\n",
       "      <td>113781</td>\n",
       "      <td>151.5500</td>\n",
       "      <td>C22 C26</td>\n",
       "      <td>S</td>\n",
       "    </tr>\n",
       "    <tr>\n",
       "      <th>2</th>\n",
       "      <td>1</td>\n",
       "      <td>0</td>\n",
       "      <td>Allison, Miss. Helen Loraine</td>\n",
       "      <td>female</td>\n",
       "      <td>2.0000</td>\n",
       "      <td>1</td>\n",
       "      <td>2</td>\n",
       "      <td>113781</td>\n",
       "      <td>151.5500</td>\n",
       "      <td>C22 C26</td>\n",
       "      <td>S</td>\n",
       "    </tr>\n",
       "    <tr>\n",
       "      <th>3</th>\n",
       "      <td>1</td>\n",
       "      <td>0</td>\n",
       "      <td>Allison, Mr. Hudson Joshua Creighton</td>\n",
       "      <td>male</td>\n",
       "      <td>30.0000</td>\n",
       "      <td>1</td>\n",
       "      <td>2</td>\n",
       "      <td>113781</td>\n",
       "      <td>151.5500</td>\n",
       "      <td>C22 C26</td>\n",
       "      <td>S</td>\n",
       "    </tr>\n",
       "    <tr>\n",
       "      <th>4</th>\n",
       "      <td>1</td>\n",
       "      <td>0</td>\n",
       "      <td>Allison, Mrs. Hudson J C (Bessie Waldo Daniels)</td>\n",
       "      <td>female</td>\n",
       "      <td>25.0000</td>\n",
       "      <td>1</td>\n",
       "      <td>2</td>\n",
       "      <td>113781</td>\n",
       "      <td>151.5500</td>\n",
       "      <td>C22 C26</td>\n",
       "      <td>S</td>\n",
       "    </tr>\n",
       "  </tbody>\n",
       "</table>\n",
       "</div>"
      ],
      "text/plain": [
       "   pclass  survived                                             name     sex  \\\n",
       "0       1         1                    Allen, Miss. Elisabeth Walton  female   \n",
       "1       1         1                   Allison, Master. Hudson Trevor    male   \n",
       "2       1         0                     Allison, Miss. Helen Loraine  female   \n",
       "3       1         0             Allison, Mr. Hudson Joshua Creighton    male   \n",
       "4       1         0  Allison, Mrs. Hudson J C (Bessie Waldo Daniels)  female   \n",
       "\n",
       "       age  sibsp  parch  ticket      fare    cabin embarked  \n",
       "0  29.0000      0      0   24160  211.3375       B5        S  \n",
       "1   0.9167      1      2  113781  151.5500  C22 C26        S  \n",
       "2   2.0000      1      2  113781  151.5500  C22 C26        S  \n",
       "3  30.0000      1      2  113781  151.5500  C22 C26        S  \n",
       "4  25.0000      1      2  113781  151.5500  C22 C26        S  "
      ]
     },
     "execution_count": 137,
     "metadata": {},
     "output_type": "execute_result"
    }
   ],
   "source": [
    "# Now, .between()\n",
    "# passengers who paid between 100 and 250\n",
    "titanic[titanic['fare'].between(100,250)].head()"
   ]
  },
  {
   "cell_type": "code",
   "execution_count": 138,
   "metadata": {},
   "outputs": [
    {
     "data": {
      "text/html": [
       "<div>\n",
       "<style scoped>\n",
       "    .dataframe tbody tr th:only-of-type {\n",
       "        vertical-align: middle;\n",
       "    }\n",
       "\n",
       "    .dataframe tbody tr th {\n",
       "        vertical-align: top;\n",
       "    }\n",
       "\n",
       "    .dataframe thead th {\n",
       "        text-align: right;\n",
       "    }\n",
       "</style>\n",
       "<table border=\"1\" class=\"dataframe\">\n",
       "  <thead>\n",
       "    <tr style=\"text-align: right;\">\n",
       "      <th></th>\n",
       "      <th>pclass</th>\n",
       "      <th>survived</th>\n",
       "      <th>name</th>\n",
       "      <th>sex</th>\n",
       "      <th>age</th>\n",
       "      <th>sibsp</th>\n",
       "      <th>parch</th>\n",
       "      <th>ticket</th>\n",
       "      <th>fare</th>\n",
       "      <th>cabin</th>\n",
       "      <th>embarked</th>\n",
       "    </tr>\n",
       "  </thead>\n",
       "  <tbody>\n",
       "    <tr>\n",
       "      <th>0</th>\n",
       "      <td>1</td>\n",
       "      <td>1</td>\n",
       "      <td>Allen, Miss. Elisabeth Walton</td>\n",
       "      <td>female</td>\n",
       "      <td>29.0000</td>\n",
       "      <td>0</td>\n",
       "      <td>0</td>\n",
       "      <td>24160</td>\n",
       "      <td>211.3375</td>\n",
       "      <td>B5</td>\n",
       "      <td>S</td>\n",
       "    </tr>\n",
       "    <tr>\n",
       "      <th>1</th>\n",
       "      <td>1</td>\n",
       "      <td>1</td>\n",
       "      <td>Allison, Master. Hudson Trevor</td>\n",
       "      <td>male</td>\n",
       "      <td>0.9167</td>\n",
       "      <td>1</td>\n",
       "      <td>2</td>\n",
       "      <td>113781</td>\n",
       "      <td>151.5500</td>\n",
       "      <td>C22 C26</td>\n",
       "      <td>S</td>\n",
       "    </tr>\n",
       "    <tr>\n",
       "      <th>2</th>\n",
       "      <td>1</td>\n",
       "      <td>0</td>\n",
       "      <td>Allison, Miss. Helen Loraine</td>\n",
       "      <td>female</td>\n",
       "      <td>2.0000</td>\n",
       "      <td>1</td>\n",
       "      <td>2</td>\n",
       "      <td>113781</td>\n",
       "      <td>151.5500</td>\n",
       "      <td>C22 C26</td>\n",
       "      <td>S</td>\n",
       "    </tr>\n",
       "    <tr>\n",
       "      <th>3</th>\n",
       "      <td>1</td>\n",
       "      <td>0</td>\n",
       "      <td>Allison, Mr. Hudson Joshua Creighton</td>\n",
       "      <td>male</td>\n",
       "      <td>30.0000</td>\n",
       "      <td>1</td>\n",
       "      <td>2</td>\n",
       "      <td>113781</td>\n",
       "      <td>151.5500</td>\n",
       "      <td>C22 C26</td>\n",
       "      <td>S</td>\n",
       "    </tr>\n",
       "    <tr>\n",
       "      <th>4</th>\n",
       "      <td>1</td>\n",
       "      <td>0</td>\n",
       "      <td>Allison, Mrs. Hudson J C (Bessie Waldo Daniels)</td>\n",
       "      <td>female</td>\n",
       "      <td>25.0000</td>\n",
       "      <td>1</td>\n",
       "      <td>2</td>\n",
       "      <td>113781</td>\n",
       "      <td>151.5500</td>\n",
       "      <td>C22 C26</td>\n",
       "      <td>S</td>\n",
       "    </tr>\n",
       "  </tbody>\n",
       "</table>\n",
       "</div>"
      ],
      "text/plain": [
       "   pclass  survived                                             name     sex  \\\n",
       "0       1         1                    Allen, Miss. Elisabeth Walton  female   \n",
       "1       1         1                   Allison, Master. Hudson Trevor    male   \n",
       "2       1         0                     Allison, Miss. Helen Loraine  female   \n",
       "3       1         0             Allison, Mr. Hudson Joshua Creighton    male   \n",
       "4       1         0  Allison, Mrs. Hudson J C (Bessie Waldo Daniels)  female   \n",
       "\n",
       "       age  sibsp  parch  ticket      fare    cabin embarked  \n",
       "0  29.0000      0      0   24160  211.3375       B5        S  \n",
       "1   0.9167      1      2  113781  151.5500  C22 C26        S  \n",
       "2   2.0000      1      2  113781  151.5500  C22 C26        S  \n",
       "3  30.0000      1      2  113781  151.5500  C22 C26        S  \n",
       "4  25.0000      1      2  113781  151.5500  C22 C26        S  "
      ]
     },
     "execution_count": 138,
     "metadata": {},
     "output_type": "execute_result"
    }
   ],
   "source": [
    "titanic.head()"
   ]
  },
  {
   "cell_type": "markdown",
   "metadata": {},
   "source": [
    "# Exercise 3\n",
    "\n",
    "1. Select passengers who are in classes 2 and 3, what percentage of passengers is this?\n",
    "2. How many passengers who do not have siblings or spouses ('sibsp'), or parents or children ('parch') on the boat?\n",
    "3. What proportion of passengers who 'embarked' in Cherbourg ('C') or Queenstown ('Q') survived? "
   ]
  },
  {
   "cell_type": "code",
   "execution_count": null,
   "metadata": {},
   "outputs": [],
   "source": [
    "# Exercise 3 solutions\n",
    "%load ./solutions/part_1_exercise_3.py"
   ]
  },
  {
   "cell_type": "markdown",
   "metadata": {},
   "source": [
    "# Generating New Variables\n",
    "\n",
    "There are a number of approaches to adding new columns of data to a DataFrame, and depending on what you want to achieve some of these can be quite complicated. We start with simple examples and build up to more sophisticated approaches later.\n",
    "\n",
    "## Creating Binary Variables\n",
    "\n",
    "We can assign a condition to a new column to create a binary variable in much the same way as we might create a mask for filtering rows.\n",
    "\n",
    "Imagine that instead of filtering rows, we instead wanted to assign a 1 or a 0 to a new column depending on whether that condition was met. We can do this quite simply due to the fact that in python (and many other languages) a `True` value is equivalent to 1, and a `False` value is equivalent to 0."
   ]
  },
  {
   "cell_type": "code",
   "execution_count": 139,
   "metadata": {},
   "outputs": [
    {
     "data": {
      "text/html": [
       "<div>\n",
       "<style scoped>\n",
       "    .dataframe tbody tr th:only-of-type {\n",
       "        vertical-align: middle;\n",
       "    }\n",
       "\n",
       "    .dataframe tbody tr th {\n",
       "        vertical-align: top;\n",
       "    }\n",
       "\n",
       "    .dataframe thead th {\n",
       "        text-align: right;\n",
       "    }\n",
       "</style>\n",
       "<table border=\"1\" class=\"dataframe\">\n",
       "  <thead>\n",
       "    <tr style=\"text-align: right;\">\n",
       "      <th></th>\n",
       "      <th>pclass</th>\n",
       "      <th>survived</th>\n",
       "      <th>name</th>\n",
       "      <th>sex</th>\n",
       "      <th>age</th>\n",
       "      <th>sibsp</th>\n",
       "      <th>parch</th>\n",
       "      <th>ticket</th>\n",
       "      <th>fare</th>\n",
       "      <th>cabin</th>\n",
       "      <th>embarked</th>\n",
       "      <th>female</th>\n",
       "    </tr>\n",
       "  </thead>\n",
       "  <tbody>\n",
       "    <tr>\n",
       "      <th>0</th>\n",
       "      <td>1</td>\n",
       "      <td>1</td>\n",
       "      <td>Allen, Miss. Elisabeth Walton</td>\n",
       "      <td>female</td>\n",
       "      <td>29.0000</td>\n",
       "      <td>0</td>\n",
       "      <td>0</td>\n",
       "      <td>24160</td>\n",
       "      <td>211.3375</td>\n",
       "      <td>B5</td>\n",
       "      <td>S</td>\n",
       "      <td>1</td>\n",
       "    </tr>\n",
       "    <tr>\n",
       "      <th>1</th>\n",
       "      <td>1</td>\n",
       "      <td>1</td>\n",
       "      <td>Allison, Master. Hudson Trevor</td>\n",
       "      <td>male</td>\n",
       "      <td>0.9167</td>\n",
       "      <td>1</td>\n",
       "      <td>2</td>\n",
       "      <td>113781</td>\n",
       "      <td>151.5500</td>\n",
       "      <td>C22 C26</td>\n",
       "      <td>S</td>\n",
       "      <td>0</td>\n",
       "    </tr>\n",
       "    <tr>\n",
       "      <th>2</th>\n",
       "      <td>1</td>\n",
       "      <td>0</td>\n",
       "      <td>Allison, Miss. Helen Loraine</td>\n",
       "      <td>female</td>\n",
       "      <td>2.0000</td>\n",
       "      <td>1</td>\n",
       "      <td>2</td>\n",
       "      <td>113781</td>\n",
       "      <td>151.5500</td>\n",
       "      <td>C22 C26</td>\n",
       "      <td>S</td>\n",
       "      <td>1</td>\n",
       "    </tr>\n",
       "    <tr>\n",
       "      <th>3</th>\n",
       "      <td>1</td>\n",
       "      <td>0</td>\n",
       "      <td>Allison, Mr. Hudson Joshua Creighton</td>\n",
       "      <td>male</td>\n",
       "      <td>30.0000</td>\n",
       "      <td>1</td>\n",
       "      <td>2</td>\n",
       "      <td>113781</td>\n",
       "      <td>151.5500</td>\n",
       "      <td>C22 C26</td>\n",
       "      <td>S</td>\n",
       "      <td>0</td>\n",
       "    </tr>\n",
       "    <tr>\n",
       "      <th>4</th>\n",
       "      <td>1</td>\n",
       "      <td>0</td>\n",
       "      <td>Allison, Mrs. Hudson J C (Bessie Waldo Daniels)</td>\n",
       "      <td>female</td>\n",
       "      <td>25.0000</td>\n",
       "      <td>1</td>\n",
       "      <td>2</td>\n",
       "      <td>113781</td>\n",
       "      <td>151.5500</td>\n",
       "      <td>C22 C26</td>\n",
       "      <td>S</td>\n",
       "      <td>1</td>\n",
       "    </tr>\n",
       "  </tbody>\n",
       "</table>\n",
       "</div>"
      ],
      "text/plain": [
       "   pclass  survived                                             name     sex  \\\n",
       "0       1         1                    Allen, Miss. Elisabeth Walton  female   \n",
       "1       1         1                   Allison, Master. Hudson Trevor    male   \n",
       "2       1         0                     Allison, Miss. Helen Loraine  female   \n",
       "3       1         0             Allison, Mr. Hudson Joshua Creighton    male   \n",
       "4       1         0  Allison, Mrs. Hudson J C (Bessie Waldo Daniels)  female   \n",
       "\n",
       "       age  sibsp  parch  ticket      fare    cabin embarked  female  \n",
       "0  29.0000      0      0   24160  211.3375       B5        S       1  \n",
       "1   0.9167      1      2  113781  151.5500  C22 C26        S       0  \n",
       "2   2.0000      1      2  113781  151.5500  C22 C26        S       1  \n",
       "3  30.0000      1      2  113781  151.5500  C22 C26        S       0  \n",
       "4  25.0000      1      2  113781  151.5500  C22 C26        S       1  "
      ]
     },
     "execution_count": 139,
     "metadata": {},
     "output_type": "execute_result"
    }
   ],
   "source": [
    "# First create the condition as a True/False Series\n",
    "cond = titanic['sex'] == 'female'\n",
    "\n",
    "# Now assign the condition variable cond to a new column, but as an integer type.\n",
    "titanic['female'] = cond.astype(int)\n",
    "titanic.head()"
   ]
  },
  {
   "cell_type": "code",
   "execution_count": 140,
   "metadata": {},
   "outputs": [
    {
     "data": {
      "text/html": [
       "<div>\n",
       "<style scoped>\n",
       "    .dataframe tbody tr th:only-of-type {\n",
       "        vertical-align: middle;\n",
       "    }\n",
       "\n",
       "    .dataframe tbody tr th {\n",
       "        vertical-align: top;\n",
       "    }\n",
       "\n",
       "    .dataframe thead th {\n",
       "        text-align: right;\n",
       "    }\n",
       "</style>\n",
       "<table border=\"1\" class=\"dataframe\">\n",
       "  <thead>\n",
       "    <tr style=\"text-align: right;\">\n",
       "      <th></th>\n",
       "      <th>pclass</th>\n",
       "      <th>survived</th>\n",
       "      <th>name</th>\n",
       "      <th>sex</th>\n",
       "      <th>age</th>\n",
       "      <th>sibsp</th>\n",
       "      <th>parch</th>\n",
       "      <th>ticket</th>\n",
       "      <th>fare</th>\n",
       "      <th>cabin</th>\n",
       "      <th>embarked</th>\n",
       "      <th>female</th>\n",
       "      <th>child</th>\n",
       "    </tr>\n",
       "  </thead>\n",
       "  <tbody>\n",
       "    <tr>\n",
       "      <th>0</th>\n",
       "      <td>1</td>\n",
       "      <td>1</td>\n",
       "      <td>Allen, Miss. Elisabeth Walton</td>\n",
       "      <td>female</td>\n",
       "      <td>29.0000</td>\n",
       "      <td>0</td>\n",
       "      <td>0</td>\n",
       "      <td>24160</td>\n",
       "      <td>211.3375</td>\n",
       "      <td>B5</td>\n",
       "      <td>S</td>\n",
       "      <td>1</td>\n",
       "      <td>Adult</td>\n",
       "    </tr>\n",
       "    <tr>\n",
       "      <th>1</th>\n",
       "      <td>1</td>\n",
       "      <td>1</td>\n",
       "      <td>Allison, Master. Hudson Trevor</td>\n",
       "      <td>male</td>\n",
       "      <td>0.9167</td>\n",
       "      <td>1</td>\n",
       "      <td>2</td>\n",
       "      <td>113781</td>\n",
       "      <td>151.5500</td>\n",
       "      <td>C22 C26</td>\n",
       "      <td>S</td>\n",
       "      <td>0</td>\n",
       "      <td>Child</td>\n",
       "    </tr>\n",
       "    <tr>\n",
       "      <th>2</th>\n",
       "      <td>1</td>\n",
       "      <td>0</td>\n",
       "      <td>Allison, Miss. Helen Loraine</td>\n",
       "      <td>female</td>\n",
       "      <td>2.0000</td>\n",
       "      <td>1</td>\n",
       "      <td>2</td>\n",
       "      <td>113781</td>\n",
       "      <td>151.5500</td>\n",
       "      <td>C22 C26</td>\n",
       "      <td>S</td>\n",
       "      <td>1</td>\n",
       "      <td>Child</td>\n",
       "    </tr>\n",
       "    <tr>\n",
       "      <th>3</th>\n",
       "      <td>1</td>\n",
       "      <td>0</td>\n",
       "      <td>Allison, Mr. Hudson Joshua Creighton</td>\n",
       "      <td>male</td>\n",
       "      <td>30.0000</td>\n",
       "      <td>1</td>\n",
       "      <td>2</td>\n",
       "      <td>113781</td>\n",
       "      <td>151.5500</td>\n",
       "      <td>C22 C26</td>\n",
       "      <td>S</td>\n",
       "      <td>0</td>\n",
       "      <td>Adult</td>\n",
       "    </tr>\n",
       "    <tr>\n",
       "      <th>4</th>\n",
       "      <td>1</td>\n",
       "      <td>0</td>\n",
       "      <td>Allison, Mrs. Hudson J C (Bessie Waldo Daniels)</td>\n",
       "      <td>female</td>\n",
       "      <td>25.0000</td>\n",
       "      <td>1</td>\n",
       "      <td>2</td>\n",
       "      <td>113781</td>\n",
       "      <td>151.5500</td>\n",
       "      <td>C22 C26</td>\n",
       "      <td>S</td>\n",
       "      <td>1</td>\n",
       "      <td>Adult</td>\n",
       "    </tr>\n",
       "  </tbody>\n",
       "</table>\n",
       "</div>"
      ],
      "text/plain": [
       "   pclass  survived                                             name     sex  \\\n",
       "0       1         1                    Allen, Miss. Elisabeth Walton  female   \n",
       "1       1         1                   Allison, Master. Hudson Trevor    male   \n",
       "2       1         0                     Allison, Miss. Helen Loraine  female   \n",
       "3       1         0             Allison, Mr. Hudson Joshua Creighton    male   \n",
       "4       1         0  Allison, Mrs. Hudson J C (Bessie Waldo Daniels)  female   \n",
       "\n",
       "       age  sibsp  parch  ticket      fare    cabin embarked  female  child  \n",
       "0  29.0000      0      0   24160  211.3375       B5        S       1  Adult  \n",
       "1   0.9167      1      2  113781  151.5500  C22 C26        S       0  Child  \n",
       "2   2.0000      1      2  113781  151.5500  C22 C26        S       1  Child  \n",
       "3  30.0000      1      2  113781  151.5500  C22 C26        S       0  Adult  \n",
       "4  25.0000      1      2  113781  151.5500  C22 C26        S       1  Adult  "
      ]
     },
     "execution_count": 140,
     "metadata": {},
     "output_type": "execute_result"
    }
   ],
   "source": [
    "b=titanic['age']<18\n",
    "titanic['child']=b.astype(int)\n",
    "\n",
    "titanic['child']=b.map({True:'Child',False:'Adult'})\n",
    "titanic.head()"
   ]
  },
  {
   "cell_type": "markdown",
   "metadata": {},
   "source": [
    "In the code above, a condition is specified, returing a boolean Series. This Series object is converted to an integer data type and assigned to a new column in the `titanic` DataFrame called 'female'. If 'female' already existed, this code would have overwritten whatever was already in runtime.\n",
    "\n",
    "Using a condition we can either store `True` and `False` values directly, or convert them to their integer representations `1` and `0`. If we wanted to use arbitrary values for our new variable we can create a dictionary and `.map()` the dictionary to the column."
   ]
  },
  {
   "cell_type": "code",
   "execution_count": 141,
   "metadata": {},
   "outputs": [
    {
     "data": {
      "text/html": [
       "<div>\n",
       "<style scoped>\n",
       "    .dataframe tbody tr th:only-of-type {\n",
       "        vertical-align: middle;\n",
       "    }\n",
       "\n",
       "    .dataframe tbody tr th {\n",
       "        vertical-align: top;\n",
       "    }\n",
       "\n",
       "    .dataframe thead th {\n",
       "        text-align: right;\n",
       "    }\n",
       "</style>\n",
       "<table border=\"1\" class=\"dataframe\">\n",
       "  <thead>\n",
       "    <tr style=\"text-align: right;\">\n",
       "      <th></th>\n",
       "      <th>pclass</th>\n",
       "      <th>survived</th>\n",
       "      <th>name</th>\n",
       "      <th>sex</th>\n",
       "      <th>age</th>\n",
       "      <th>sibsp</th>\n",
       "      <th>parch</th>\n",
       "      <th>ticket</th>\n",
       "      <th>fare</th>\n",
       "      <th>cabin</th>\n",
       "      <th>embarked</th>\n",
       "      <th>female</th>\n",
       "      <th>child</th>\n",
       "    </tr>\n",
       "  </thead>\n",
       "  <tbody>\n",
       "    <tr>\n",
       "      <th>0</th>\n",
       "      <td>1</td>\n",
       "      <td>1</td>\n",
       "      <td>Allen, Miss. Elisabeth Walton</td>\n",
       "      <td>female</td>\n",
       "      <td>29.0000</td>\n",
       "      <td>0</td>\n",
       "      <td>0</td>\n",
       "      <td>24160</td>\n",
       "      <td>211.3375</td>\n",
       "      <td>B5</td>\n",
       "      <td>S</td>\n",
       "      <td>YES</td>\n",
       "      <td>Adult</td>\n",
       "    </tr>\n",
       "    <tr>\n",
       "      <th>1</th>\n",
       "      <td>1</td>\n",
       "      <td>1</td>\n",
       "      <td>Allison, Master. Hudson Trevor</td>\n",
       "      <td>male</td>\n",
       "      <td>0.9167</td>\n",
       "      <td>1</td>\n",
       "      <td>2</td>\n",
       "      <td>113781</td>\n",
       "      <td>151.5500</td>\n",
       "      <td>C22 C26</td>\n",
       "      <td>S</td>\n",
       "      <td>NO</td>\n",
       "      <td>Child</td>\n",
       "    </tr>\n",
       "    <tr>\n",
       "      <th>2</th>\n",
       "      <td>1</td>\n",
       "      <td>0</td>\n",
       "      <td>Allison, Miss. Helen Loraine</td>\n",
       "      <td>female</td>\n",
       "      <td>2.0000</td>\n",
       "      <td>1</td>\n",
       "      <td>2</td>\n",
       "      <td>113781</td>\n",
       "      <td>151.5500</td>\n",
       "      <td>C22 C26</td>\n",
       "      <td>S</td>\n",
       "      <td>YES</td>\n",
       "      <td>Child</td>\n",
       "    </tr>\n",
       "    <tr>\n",
       "      <th>3</th>\n",
       "      <td>1</td>\n",
       "      <td>0</td>\n",
       "      <td>Allison, Mr. Hudson Joshua Creighton</td>\n",
       "      <td>male</td>\n",
       "      <td>30.0000</td>\n",
       "      <td>1</td>\n",
       "      <td>2</td>\n",
       "      <td>113781</td>\n",
       "      <td>151.5500</td>\n",
       "      <td>C22 C26</td>\n",
       "      <td>S</td>\n",
       "      <td>NO</td>\n",
       "      <td>Adult</td>\n",
       "    </tr>\n",
       "    <tr>\n",
       "      <th>4</th>\n",
       "      <td>1</td>\n",
       "      <td>0</td>\n",
       "      <td>Allison, Mrs. Hudson J C (Bessie Waldo Daniels)</td>\n",
       "      <td>female</td>\n",
       "      <td>25.0000</td>\n",
       "      <td>1</td>\n",
       "      <td>2</td>\n",
       "      <td>113781</td>\n",
       "      <td>151.5500</td>\n",
       "      <td>C22 C26</td>\n",
       "      <td>S</td>\n",
       "      <td>YES</td>\n",
       "      <td>Adult</td>\n",
       "    </tr>\n",
       "  </tbody>\n",
       "</table>\n",
       "</div>"
      ],
      "text/plain": [
       "   pclass  survived                                             name     sex  \\\n",
       "0       1         1                    Allen, Miss. Elisabeth Walton  female   \n",
       "1       1         1                   Allison, Master. Hudson Trevor    male   \n",
       "2       1         0                     Allison, Miss. Helen Loraine  female   \n",
       "3       1         0             Allison, Mr. Hudson Joshua Creighton    male   \n",
       "4       1         0  Allison, Mrs. Hudson J C (Bessie Waldo Daniels)  female   \n",
       "\n",
       "       age  sibsp  parch  ticket      fare    cabin embarked female  child  \n",
       "0  29.0000      0      0   24160  211.3375       B5        S    YES  Adult  \n",
       "1   0.9167      1      2  113781  151.5500  C22 C26        S     NO  Child  \n",
       "2   2.0000      1      2  113781  151.5500  C22 C26        S    YES  Child  \n",
       "3  30.0000      1      2  113781  151.5500  C22 C26        S     NO  Adult  \n",
       "4  25.0000      1      2  113781  151.5500  C22 C26        S    YES  Adult  "
      ]
     },
     "execution_count": 141,
     "metadata": {},
     "output_type": "execute_result"
    }
   ],
   "source": [
    "# Use YES and NO instead of True and False.\n",
    "titanic['female'] = cond.map({True:'YES',False:'NO'})\n",
    "titanic.head()"
   ]
  },
  {
   "cell_type": "markdown",
   "metadata": {},
   "source": [
    "Note, this `.map()` approach is also good for aggregating (dissolving) or recoding categorical variables. The dictionary can be of an arbitrary length and act as a lookup, this is a benefit of the key:value structure. Note though that pandas also implements its own `category` variable. We're not going to discuss it here as it's not strictly necessary, but it can be useful. Check the pandas docs for more information."
   ]
  },
  {
   "cell_type": "markdown",
   "metadata": {},
   "source": [
    "## Constant Value Variables\n",
    "\n",
    "Constant values can also be assigned to all rows in a DataFrame with a single number or string, with the data type being dictated by the format of the value being assigned. This may be useful in the context of updating cells, which we'll discuss later on."
   ]
  },
  {
   "cell_type": "code",
   "execution_count": 142,
   "metadata": {},
   "outputs": [
    {
     "data": {
      "text/html": [
       "<div>\n",
       "<style scoped>\n",
       "    .dataframe tbody tr th:only-of-type {\n",
       "        vertical-align: middle;\n",
       "    }\n",
       "\n",
       "    .dataframe tbody tr th {\n",
       "        vertical-align: top;\n",
       "    }\n",
       "\n",
       "    .dataframe thead th {\n",
       "        text-align: right;\n",
       "    }\n",
       "</style>\n",
       "<table border=\"1\" class=\"dataframe\">\n",
       "  <thead>\n",
       "    <tr style=\"text-align: right;\">\n",
       "      <th></th>\n",
       "      <th>pclass</th>\n",
       "      <th>survived</th>\n",
       "      <th>name</th>\n",
       "      <th>sex</th>\n",
       "      <th>age</th>\n",
       "      <th>sibsp</th>\n",
       "      <th>parch</th>\n",
       "      <th>ticket</th>\n",
       "      <th>fare</th>\n",
       "      <th>cabin</th>\n",
       "      <th>embarked</th>\n",
       "      <th>female</th>\n",
       "      <th>child</th>\n",
       "      <th>int_zeroes</th>\n",
       "      <th>float_ones</th>\n",
       "      <th>string_twos</th>\n",
       "    </tr>\n",
       "  </thead>\n",
       "  <tbody>\n",
       "    <tr>\n",
       "      <th>0</th>\n",
       "      <td>1</td>\n",
       "      <td>1</td>\n",
       "      <td>Allen, Miss. Elisabeth Walton</td>\n",
       "      <td>female</td>\n",
       "      <td>29.0000</td>\n",
       "      <td>0</td>\n",
       "      <td>0</td>\n",
       "      <td>24160</td>\n",
       "      <td>211.3375</td>\n",
       "      <td>B5</td>\n",
       "      <td>S</td>\n",
       "      <td>YES</td>\n",
       "      <td>Adult</td>\n",
       "      <td>0</td>\n",
       "      <td>1.0</td>\n",
       "      <td>two</td>\n",
       "    </tr>\n",
       "    <tr>\n",
       "      <th>1</th>\n",
       "      <td>1</td>\n",
       "      <td>1</td>\n",
       "      <td>Allison, Master. Hudson Trevor</td>\n",
       "      <td>male</td>\n",
       "      <td>0.9167</td>\n",
       "      <td>1</td>\n",
       "      <td>2</td>\n",
       "      <td>113781</td>\n",
       "      <td>151.5500</td>\n",
       "      <td>C22 C26</td>\n",
       "      <td>S</td>\n",
       "      <td>NO</td>\n",
       "      <td>Child</td>\n",
       "      <td>0</td>\n",
       "      <td>1.0</td>\n",
       "      <td>two</td>\n",
       "    </tr>\n",
       "    <tr>\n",
       "      <th>2</th>\n",
       "      <td>1</td>\n",
       "      <td>0</td>\n",
       "      <td>Allison, Miss. Helen Loraine</td>\n",
       "      <td>female</td>\n",
       "      <td>2.0000</td>\n",
       "      <td>1</td>\n",
       "      <td>2</td>\n",
       "      <td>113781</td>\n",
       "      <td>151.5500</td>\n",
       "      <td>C22 C26</td>\n",
       "      <td>S</td>\n",
       "      <td>YES</td>\n",
       "      <td>Child</td>\n",
       "      <td>0</td>\n",
       "      <td>1.0</td>\n",
       "      <td>two</td>\n",
       "    </tr>\n",
       "    <tr>\n",
       "      <th>3</th>\n",
       "      <td>1</td>\n",
       "      <td>0</td>\n",
       "      <td>Allison, Mr. Hudson Joshua Creighton</td>\n",
       "      <td>male</td>\n",
       "      <td>30.0000</td>\n",
       "      <td>1</td>\n",
       "      <td>2</td>\n",
       "      <td>113781</td>\n",
       "      <td>151.5500</td>\n",
       "      <td>C22 C26</td>\n",
       "      <td>S</td>\n",
       "      <td>NO</td>\n",
       "      <td>Adult</td>\n",
       "      <td>0</td>\n",
       "      <td>1.0</td>\n",
       "      <td>two</td>\n",
       "    </tr>\n",
       "    <tr>\n",
       "      <th>4</th>\n",
       "      <td>1</td>\n",
       "      <td>0</td>\n",
       "      <td>Allison, Mrs. Hudson J C (Bessie Waldo Daniels)</td>\n",
       "      <td>female</td>\n",
       "      <td>25.0000</td>\n",
       "      <td>1</td>\n",
       "      <td>2</td>\n",
       "      <td>113781</td>\n",
       "      <td>151.5500</td>\n",
       "      <td>C22 C26</td>\n",
       "      <td>S</td>\n",
       "      <td>YES</td>\n",
       "      <td>Adult</td>\n",
       "      <td>0</td>\n",
       "      <td>1.0</td>\n",
       "      <td>two</td>\n",
       "    </tr>\n",
       "  </tbody>\n",
       "</table>\n",
       "</div>"
      ],
      "text/plain": [
       "   pclass  survived                                             name     sex  \\\n",
       "0       1         1                    Allen, Miss. Elisabeth Walton  female   \n",
       "1       1         1                   Allison, Master. Hudson Trevor    male   \n",
       "2       1         0                     Allison, Miss. Helen Loraine  female   \n",
       "3       1         0             Allison, Mr. Hudson Joshua Creighton    male   \n",
       "4       1         0  Allison, Mrs. Hudson J C (Bessie Waldo Daniels)  female   \n",
       "\n",
       "       age  sibsp  parch  ticket      fare    cabin embarked female  child  \\\n",
       "0  29.0000      0      0   24160  211.3375       B5        S    YES  Adult   \n",
       "1   0.9167      1      2  113781  151.5500  C22 C26        S     NO  Child   \n",
       "2   2.0000      1      2  113781  151.5500  C22 C26        S    YES  Child   \n",
       "3  30.0000      1      2  113781  151.5500  C22 C26        S     NO  Adult   \n",
       "4  25.0000      1      2  113781  151.5500  C22 C26        S    YES  Adult   \n",
       "\n",
       "   int_zeroes  float_ones string_twos  \n",
       "0           0         1.0         two  \n",
       "1           0         1.0         two  \n",
       "2           0         1.0         two  \n",
       "3           0         1.0         two  \n",
       "4           0         1.0         two  "
      ]
     },
     "execution_count": 142,
     "metadata": {},
     "output_type": "execute_result"
    }
   ],
   "source": [
    "# New column of ints\n",
    "titanic['int_zeroes'] = 0\n",
    "# New column of floats\n",
    "titanic['float_ones'] = 1.0 # note floating point.\n",
    "# New column of strings\n",
    "titanic['string_twos'] = 'two'\n",
    "titanic.head()"
   ]
  },
  {
   "cell_type": "markdown",
   "metadata": {},
   "source": [
    "## Creating Variables Based on Existing Columns\n",
    "\n",
    "We can simply assign the values of existing columns to new columns using assignment."
   ]
  },
  {
   "cell_type": "code",
   "execution_count": 143,
   "metadata": {},
   "outputs": [
    {
     "data": {
      "text/html": [
       "<div>\n",
       "<style scoped>\n",
       "    .dataframe tbody tr th:only-of-type {\n",
       "        vertical-align: middle;\n",
       "    }\n",
       "\n",
       "    .dataframe tbody tr th {\n",
       "        vertical-align: top;\n",
       "    }\n",
       "\n",
       "    .dataframe thead th {\n",
       "        text-align: right;\n",
       "    }\n",
       "</style>\n",
       "<table border=\"1\" class=\"dataframe\">\n",
       "  <thead>\n",
       "    <tr style=\"text-align: right;\">\n",
       "      <th></th>\n",
       "      <th>pclass</th>\n",
       "      <th>survived</th>\n",
       "      <th>name</th>\n",
       "      <th>sex</th>\n",
       "      <th>age</th>\n",
       "      <th>sibsp</th>\n",
       "      <th>parch</th>\n",
       "      <th>ticket</th>\n",
       "      <th>fare</th>\n",
       "      <th>cabin</th>\n",
       "      <th>embarked</th>\n",
       "      <th>female</th>\n",
       "      <th>child</th>\n",
       "      <th>int_zeroes</th>\n",
       "      <th>float_ones</th>\n",
       "      <th>string_twos</th>\n",
       "      <th>name2</th>\n",
       "    </tr>\n",
       "  </thead>\n",
       "  <tbody>\n",
       "    <tr>\n",
       "      <th>0</th>\n",
       "      <td>1</td>\n",
       "      <td>1</td>\n",
       "      <td>Allen, Miss. Elisabeth Walton</td>\n",
       "      <td>female</td>\n",
       "      <td>29.0000</td>\n",
       "      <td>0</td>\n",
       "      <td>0</td>\n",
       "      <td>24160</td>\n",
       "      <td>211.3375</td>\n",
       "      <td>B5</td>\n",
       "      <td>S</td>\n",
       "      <td>YES</td>\n",
       "      <td>Adult</td>\n",
       "      <td>0</td>\n",
       "      <td>1.0</td>\n",
       "      <td>two</td>\n",
       "      <td>Allen, Miss. Elisabeth Walton</td>\n",
       "    </tr>\n",
       "    <tr>\n",
       "      <th>1</th>\n",
       "      <td>1</td>\n",
       "      <td>1</td>\n",
       "      <td>Allison, Master. Hudson Trevor</td>\n",
       "      <td>male</td>\n",
       "      <td>0.9167</td>\n",
       "      <td>1</td>\n",
       "      <td>2</td>\n",
       "      <td>113781</td>\n",
       "      <td>151.5500</td>\n",
       "      <td>C22 C26</td>\n",
       "      <td>S</td>\n",
       "      <td>NO</td>\n",
       "      <td>Child</td>\n",
       "      <td>0</td>\n",
       "      <td>1.0</td>\n",
       "      <td>two</td>\n",
       "      <td>Allison, Master. Hudson Trevor</td>\n",
       "    </tr>\n",
       "    <tr>\n",
       "      <th>2</th>\n",
       "      <td>1</td>\n",
       "      <td>0</td>\n",
       "      <td>Allison, Miss. Helen Loraine</td>\n",
       "      <td>female</td>\n",
       "      <td>2.0000</td>\n",
       "      <td>1</td>\n",
       "      <td>2</td>\n",
       "      <td>113781</td>\n",
       "      <td>151.5500</td>\n",
       "      <td>C22 C26</td>\n",
       "      <td>S</td>\n",
       "      <td>YES</td>\n",
       "      <td>Child</td>\n",
       "      <td>0</td>\n",
       "      <td>1.0</td>\n",
       "      <td>two</td>\n",
       "      <td>Allison, Miss. Helen Loraine</td>\n",
       "    </tr>\n",
       "    <tr>\n",
       "      <th>3</th>\n",
       "      <td>1</td>\n",
       "      <td>0</td>\n",
       "      <td>Allison, Mr. Hudson Joshua Creighton</td>\n",
       "      <td>male</td>\n",
       "      <td>30.0000</td>\n",
       "      <td>1</td>\n",
       "      <td>2</td>\n",
       "      <td>113781</td>\n",
       "      <td>151.5500</td>\n",
       "      <td>C22 C26</td>\n",
       "      <td>S</td>\n",
       "      <td>NO</td>\n",
       "      <td>Adult</td>\n",
       "      <td>0</td>\n",
       "      <td>1.0</td>\n",
       "      <td>two</td>\n",
       "      <td>Allison, Mr. Hudson Joshua Creighton</td>\n",
       "    </tr>\n",
       "    <tr>\n",
       "      <th>4</th>\n",
       "      <td>1</td>\n",
       "      <td>0</td>\n",
       "      <td>Allison, Mrs. Hudson J C (Bessie Waldo Daniels)</td>\n",
       "      <td>female</td>\n",
       "      <td>25.0000</td>\n",
       "      <td>1</td>\n",
       "      <td>2</td>\n",
       "      <td>113781</td>\n",
       "      <td>151.5500</td>\n",
       "      <td>C22 C26</td>\n",
       "      <td>S</td>\n",
       "      <td>YES</td>\n",
       "      <td>Adult</td>\n",
       "      <td>0</td>\n",
       "      <td>1.0</td>\n",
       "      <td>two</td>\n",
       "      <td>Allison, Mrs. Hudson J C (Bessie Waldo Daniels)</td>\n",
       "    </tr>\n",
       "    <tr>\n",
       "      <th>5</th>\n",
       "      <td>1</td>\n",
       "      <td>1</td>\n",
       "      <td>Anderson, Mr. Harry</td>\n",
       "      <td>male</td>\n",
       "      <td>48.0000</td>\n",
       "      <td>0</td>\n",
       "      <td>0</td>\n",
       "      <td>19952</td>\n",
       "      <td>26.5500</td>\n",
       "      <td>E12</td>\n",
       "      <td>S</td>\n",
       "      <td>NO</td>\n",
       "      <td>Adult</td>\n",
       "      <td>0</td>\n",
       "      <td>1.0</td>\n",
       "      <td>two</td>\n",
       "      <td>Anderson, Mr. Harry</td>\n",
       "    </tr>\n",
       "  </tbody>\n",
       "</table>\n",
       "</div>"
      ],
      "text/plain": [
       "   pclass  survived                                             name     sex  \\\n",
       "0       1         1                    Allen, Miss. Elisabeth Walton  female   \n",
       "1       1         1                   Allison, Master. Hudson Trevor    male   \n",
       "2       1         0                     Allison, Miss. Helen Loraine  female   \n",
       "3       1         0             Allison, Mr. Hudson Joshua Creighton    male   \n",
       "4       1         0  Allison, Mrs. Hudson J C (Bessie Waldo Daniels)  female   \n",
       "5       1         1                              Anderson, Mr. Harry    male   \n",
       "\n",
       "       age  sibsp  parch  ticket      fare    cabin embarked female  child  \\\n",
       "0  29.0000      0      0   24160  211.3375       B5        S    YES  Adult   \n",
       "1   0.9167      1      2  113781  151.5500  C22 C26        S     NO  Child   \n",
       "2   2.0000      1      2  113781  151.5500  C22 C26        S    YES  Child   \n",
       "3  30.0000      1      2  113781  151.5500  C22 C26        S     NO  Adult   \n",
       "4  25.0000      1      2  113781  151.5500  C22 C26        S    YES  Adult   \n",
       "5  48.0000      0      0   19952   26.5500      E12        S     NO  Adult   \n",
       "\n",
       "   int_zeroes  float_ones string_twos  \\\n",
       "0           0         1.0         two   \n",
       "1           0         1.0         two   \n",
       "2           0         1.0         two   \n",
       "3           0         1.0         two   \n",
       "4           0         1.0         two   \n",
       "5           0         1.0         two   \n",
       "\n",
       "                                             name2  \n",
       "0                    Allen, Miss. Elisabeth Walton  \n",
       "1                   Allison, Master. Hudson Trevor  \n",
       "2                     Allison, Miss. Helen Loraine  \n",
       "3             Allison, Mr. Hudson Joshua Creighton  \n",
       "4  Allison, Mrs. Hudson J C (Bessie Waldo Daniels)  \n",
       "5                              Anderson, Mr. Harry  "
      ]
     },
     "execution_count": 143,
     "metadata": {},
     "output_type": "execute_result"
    }
   ],
   "source": [
    "titanic['name2'] = titanic['name']\n",
    "titanic.head(6)"
   ]
  },
  {
   "cell_type": "markdown",
   "metadata": {},
   "source": [
    "We can also use mathematical expressions with one or more existing columns to create new columns."
   ]
  },
  {
   "cell_type": "code",
   "execution_count": 144,
   "metadata": {},
   "outputs": [
    {
     "data": {
      "text/html": [
       "<div>\n",
       "<style scoped>\n",
       "    .dataframe tbody tr th:only-of-type {\n",
       "        vertical-align: middle;\n",
       "    }\n",
       "\n",
       "    .dataframe tbody tr th {\n",
       "        vertical-align: top;\n",
       "    }\n",
       "\n",
       "    .dataframe thead th {\n",
       "        text-align: right;\n",
       "    }\n",
       "</style>\n",
       "<table border=\"1\" class=\"dataframe\">\n",
       "  <thead>\n",
       "    <tr style=\"text-align: right;\">\n",
       "      <th></th>\n",
       "      <th>pclass</th>\n",
       "      <th>survived</th>\n",
       "      <th>name</th>\n",
       "      <th>sex</th>\n",
       "      <th>age</th>\n",
       "      <th>sibsp</th>\n",
       "      <th>parch</th>\n",
       "      <th>ticket</th>\n",
       "      <th>fare</th>\n",
       "      <th>cabin</th>\n",
       "      <th>embarked</th>\n",
       "      <th>female</th>\n",
       "      <th>child</th>\n",
       "      <th>int_zeroes</th>\n",
       "      <th>float_ones</th>\n",
       "      <th>string_twos</th>\n",
       "      <th>name2</th>\n",
       "      <th>family_size</th>\n",
       "    </tr>\n",
       "  </thead>\n",
       "  <tbody>\n",
       "    <tr>\n",
       "      <th>0</th>\n",
       "      <td>1</td>\n",
       "      <td>1</td>\n",
       "      <td>Allen, Miss. Elisabeth Walton</td>\n",
       "      <td>female</td>\n",
       "      <td>29.0000</td>\n",
       "      <td>0</td>\n",
       "      <td>0</td>\n",
       "      <td>24160</td>\n",
       "      <td>211.3375</td>\n",
       "      <td>B5</td>\n",
       "      <td>S</td>\n",
       "      <td>YES</td>\n",
       "      <td>Adult</td>\n",
       "      <td>0</td>\n",
       "      <td>1.0</td>\n",
       "      <td>two</td>\n",
       "      <td>Allen, Miss. Elisabeth Walton</td>\n",
       "      <td>1</td>\n",
       "    </tr>\n",
       "    <tr>\n",
       "      <th>1</th>\n",
       "      <td>1</td>\n",
       "      <td>1</td>\n",
       "      <td>Allison, Master. Hudson Trevor</td>\n",
       "      <td>male</td>\n",
       "      <td>0.9167</td>\n",
       "      <td>1</td>\n",
       "      <td>2</td>\n",
       "      <td>113781</td>\n",
       "      <td>151.5500</td>\n",
       "      <td>C22 C26</td>\n",
       "      <td>S</td>\n",
       "      <td>NO</td>\n",
       "      <td>Child</td>\n",
       "      <td>0</td>\n",
       "      <td>1.0</td>\n",
       "      <td>two</td>\n",
       "      <td>Allison, Master. Hudson Trevor</td>\n",
       "      <td>4</td>\n",
       "    </tr>\n",
       "    <tr>\n",
       "      <th>2</th>\n",
       "      <td>1</td>\n",
       "      <td>0</td>\n",
       "      <td>Allison, Miss. Helen Loraine</td>\n",
       "      <td>female</td>\n",
       "      <td>2.0000</td>\n",
       "      <td>1</td>\n",
       "      <td>2</td>\n",
       "      <td>113781</td>\n",
       "      <td>151.5500</td>\n",
       "      <td>C22 C26</td>\n",
       "      <td>S</td>\n",
       "      <td>YES</td>\n",
       "      <td>Child</td>\n",
       "      <td>0</td>\n",
       "      <td>1.0</td>\n",
       "      <td>two</td>\n",
       "      <td>Allison, Miss. Helen Loraine</td>\n",
       "      <td>4</td>\n",
       "    </tr>\n",
       "    <tr>\n",
       "      <th>3</th>\n",
       "      <td>1</td>\n",
       "      <td>0</td>\n",
       "      <td>Allison, Mr. Hudson Joshua Creighton</td>\n",
       "      <td>male</td>\n",
       "      <td>30.0000</td>\n",
       "      <td>1</td>\n",
       "      <td>2</td>\n",
       "      <td>113781</td>\n",
       "      <td>151.5500</td>\n",
       "      <td>C22 C26</td>\n",
       "      <td>S</td>\n",
       "      <td>NO</td>\n",
       "      <td>Adult</td>\n",
       "      <td>0</td>\n",
       "      <td>1.0</td>\n",
       "      <td>two</td>\n",
       "      <td>Allison, Mr. Hudson Joshua Creighton</td>\n",
       "      <td>4</td>\n",
       "    </tr>\n",
       "    <tr>\n",
       "      <th>4</th>\n",
       "      <td>1</td>\n",
       "      <td>0</td>\n",
       "      <td>Allison, Mrs. Hudson J C (Bessie Waldo Daniels)</td>\n",
       "      <td>female</td>\n",
       "      <td>25.0000</td>\n",
       "      <td>1</td>\n",
       "      <td>2</td>\n",
       "      <td>113781</td>\n",
       "      <td>151.5500</td>\n",
       "      <td>C22 C26</td>\n",
       "      <td>S</td>\n",
       "      <td>YES</td>\n",
       "      <td>Adult</td>\n",
       "      <td>0</td>\n",
       "      <td>1.0</td>\n",
       "      <td>two</td>\n",
       "      <td>Allison, Mrs. Hudson J C (Bessie Waldo Daniels)</td>\n",
       "      <td>4</td>\n",
       "    </tr>\n",
       "    <tr>\n",
       "      <th>5</th>\n",
       "      <td>1</td>\n",
       "      <td>1</td>\n",
       "      <td>Anderson, Mr. Harry</td>\n",
       "      <td>male</td>\n",
       "      <td>48.0000</td>\n",
       "      <td>0</td>\n",
       "      <td>0</td>\n",
       "      <td>19952</td>\n",
       "      <td>26.5500</td>\n",
       "      <td>E12</td>\n",
       "      <td>S</td>\n",
       "      <td>NO</td>\n",
       "      <td>Adult</td>\n",
       "      <td>0</td>\n",
       "      <td>1.0</td>\n",
       "      <td>two</td>\n",
       "      <td>Anderson, Mr. Harry</td>\n",
       "      <td>1</td>\n",
       "    </tr>\n",
       "  </tbody>\n",
       "</table>\n",
       "</div>"
      ],
      "text/plain": [
       "   pclass  survived                                             name     sex  \\\n",
       "0       1         1                    Allen, Miss. Elisabeth Walton  female   \n",
       "1       1         1                   Allison, Master. Hudson Trevor    male   \n",
       "2       1         0                     Allison, Miss. Helen Loraine  female   \n",
       "3       1         0             Allison, Mr. Hudson Joshua Creighton    male   \n",
       "4       1         0  Allison, Mrs. Hudson J C (Bessie Waldo Daniels)  female   \n",
       "5       1         1                              Anderson, Mr. Harry    male   \n",
       "\n",
       "       age  sibsp  parch  ticket      fare    cabin embarked female  child  \\\n",
       "0  29.0000      0      0   24160  211.3375       B5        S    YES  Adult   \n",
       "1   0.9167      1      2  113781  151.5500  C22 C26        S     NO  Child   \n",
       "2   2.0000      1      2  113781  151.5500  C22 C26        S    YES  Child   \n",
       "3  30.0000      1      2  113781  151.5500  C22 C26        S     NO  Adult   \n",
       "4  25.0000      1      2  113781  151.5500  C22 C26        S    YES  Adult   \n",
       "5  48.0000      0      0   19952   26.5500      E12        S     NO  Adult   \n",
       "\n",
       "   int_zeroes  float_ones string_twos  \\\n",
       "0           0         1.0         two   \n",
       "1           0         1.0         two   \n",
       "2           0         1.0         two   \n",
       "3           0         1.0         two   \n",
       "4           0         1.0         two   \n",
       "5           0         1.0         two   \n",
       "\n",
       "                                             name2  family_size  \n",
       "0                    Allen, Miss. Elisabeth Walton            1  \n",
       "1                   Allison, Master. Hudson Trevor            4  \n",
       "2                     Allison, Miss. Helen Loraine            4  \n",
       "3             Allison, Mr. Hudson Joshua Creighton            4  \n",
       "4  Allison, Mrs. Hudson J C (Bessie Waldo Daniels)            4  \n",
       "5                              Anderson, Mr. Harry            1  "
      ]
     },
     "execution_count": 144,
     "metadata": {},
     "output_type": "execute_result"
    }
   ],
   "source": [
    "titanic['family_size'] = titanic['sibsp'] + titanic['parch'] + 1\n",
    "titanic.head(6)"
   ]
  },
  {
   "cell_type": "markdown",
   "metadata": {},
   "source": [
    "## Classifying Numerical Values using pd.cut() and pd.qcut()\n",
    "\n",
    "New columns can be created directly when classifying numerical data using `pd.cut()` or `pd.qcut()`\n",
    "\n",
    "`cut()` has two behaviours. The default is to create a given number of equal-sized bins (e.g. the width of all bins are the same), however if you provide bins it will cut according to those bins.\n",
    "\n",
    "`qcut()` is similar, but rather than equal-sized bins it created bins that have (roughly) equal numbers of observations in them. These bins could have very different widths."
   ]
  },
  {
   "cell_type": "code",
   "execution_count": 145,
   "metadata": {},
   "outputs": [
    {
     "data": {
      "text/html": [
       "<div>\n",
       "<style scoped>\n",
       "    .dataframe tbody tr th:only-of-type {\n",
       "        vertical-align: middle;\n",
       "    }\n",
       "\n",
       "    .dataframe tbody tr th {\n",
       "        vertical-align: top;\n",
       "    }\n",
       "\n",
       "    .dataframe thead th {\n",
       "        text-align: right;\n",
       "    }\n",
       "</style>\n",
       "<table border=\"1\" class=\"dataframe\">\n",
       "  <thead>\n",
       "    <tr style=\"text-align: right;\">\n",
       "      <th></th>\n",
       "      <th>pclass</th>\n",
       "      <th>survived</th>\n",
       "      <th>name</th>\n",
       "      <th>sex</th>\n",
       "      <th>age</th>\n",
       "      <th>sibsp</th>\n",
       "      <th>parch</th>\n",
       "      <th>ticket</th>\n",
       "      <th>fare</th>\n",
       "      <th>cabin</th>\n",
       "      <th>embarked</th>\n",
       "      <th>female</th>\n",
       "      <th>child</th>\n",
       "      <th>int_zeroes</th>\n",
       "      <th>float_ones</th>\n",
       "      <th>string_twos</th>\n",
       "      <th>name2</th>\n",
       "      <th>family_size</th>\n",
       "    </tr>\n",
       "  </thead>\n",
       "  <tbody>\n",
       "    <tr>\n",
       "      <th>0</th>\n",
       "      <td>1</td>\n",
       "      <td>1</td>\n",
       "      <td>Allen, Miss. Elisabeth Walton</td>\n",
       "      <td>female</td>\n",
       "      <td>29.0</td>\n",
       "      <td>0</td>\n",
       "      <td>0</td>\n",
       "      <td>24160</td>\n",
       "      <td>211.3375</td>\n",
       "      <td>B5</td>\n",
       "      <td>S</td>\n",
       "      <td>YES</td>\n",
       "      <td>Adult</td>\n",
       "      <td>0</td>\n",
       "      <td>1.0</td>\n",
       "      <td>two</td>\n",
       "      <td>Allen, Miss. Elisabeth Walton</td>\n",
       "      <td>1</td>\n",
       "    </tr>\n",
       "  </tbody>\n",
       "</table>\n",
       "</div>"
      ],
      "text/plain": [
       "   pclass  survived                           name     sex   age  sibsp  \\\n",
       "0       1         1  Allen, Miss. Elisabeth Walton  female  29.0      0   \n",
       "\n",
       "   parch ticket      fare cabin embarked female  child  int_zeroes  \\\n",
       "0      0  24160  211.3375    B5        S    YES  Adult           0   \n",
       "\n",
       "   float_ones string_twos                          name2  family_size  \n",
       "0         1.0         two  Allen, Miss. Elisabeth Walton            1  "
      ]
     },
     "execution_count": 145,
     "metadata": {},
     "output_type": "execute_result"
    }
   ],
   "source": [
    "titanic.head(1)"
   ]
  },
  {
   "cell_type": "code",
   "execution_count": 146,
   "metadata": {},
   "outputs": [
    {
     "data": {
      "text/html": [
       "<div>\n",
       "<style scoped>\n",
       "    .dataframe tbody tr th:only-of-type {\n",
       "        vertical-align: middle;\n",
       "    }\n",
       "\n",
       "    .dataframe tbody tr th {\n",
       "        vertical-align: top;\n",
       "    }\n",
       "\n",
       "    .dataframe thead th {\n",
       "        text-align: right;\n",
       "    }\n",
       "</style>\n",
       "<table border=\"1\" class=\"dataframe\">\n",
       "  <thead>\n",
       "    <tr style=\"text-align: right;\">\n",
       "      <th></th>\n",
       "      <th>pclass</th>\n",
       "      <th>survived</th>\n",
       "      <th>name</th>\n",
       "      <th>sex</th>\n",
       "      <th>age</th>\n",
       "      <th>sibsp</th>\n",
       "      <th>parch</th>\n",
       "      <th>ticket</th>\n",
       "      <th>fare</th>\n",
       "      <th>cabin</th>\n",
       "      <th>embarked</th>\n",
       "      <th>female</th>\n",
       "      <th>child</th>\n",
       "      <th>int_zeroes</th>\n",
       "      <th>float_ones</th>\n",
       "      <th>string_twos</th>\n",
       "      <th>name2</th>\n",
       "      <th>family_size</th>\n",
       "      <th>fare_3class</th>\n",
       "    </tr>\n",
       "  </thead>\n",
       "  <tbody>\n",
       "    <tr>\n",
       "      <th>0</th>\n",
       "      <td>1</td>\n",
       "      <td>1</td>\n",
       "      <td>Allen, Miss. Elisabeth Walton</td>\n",
       "      <td>female</td>\n",
       "      <td>29.0000</td>\n",
       "      <td>0</td>\n",
       "      <td>0</td>\n",
       "      <td>24160</td>\n",
       "      <td>211.3375</td>\n",
       "      <td>B5</td>\n",
       "      <td>S</td>\n",
       "      <td>YES</td>\n",
       "      <td>Adult</td>\n",
       "      <td>0</td>\n",
       "      <td>1.0</td>\n",
       "      <td>two</td>\n",
       "      <td>Allen, Miss. Elisabeth Walton</td>\n",
       "      <td>1</td>\n",
       "      <td>mid</td>\n",
       "    </tr>\n",
       "    <tr>\n",
       "      <th>1</th>\n",
       "      <td>1</td>\n",
       "      <td>1</td>\n",
       "      <td>Allison, Master. Hudson Trevor</td>\n",
       "      <td>male</td>\n",
       "      <td>0.9167</td>\n",
       "      <td>1</td>\n",
       "      <td>2</td>\n",
       "      <td>113781</td>\n",
       "      <td>151.5500</td>\n",
       "      <td>C22 C26</td>\n",
       "      <td>S</td>\n",
       "      <td>NO</td>\n",
       "      <td>Child</td>\n",
       "      <td>0</td>\n",
       "      <td>1.0</td>\n",
       "      <td>two</td>\n",
       "      <td>Allison, Master. Hudson Trevor</td>\n",
       "      <td>4</td>\n",
       "      <td>low</td>\n",
       "    </tr>\n",
       "    <tr>\n",
       "      <th>2</th>\n",
       "      <td>1</td>\n",
       "      <td>0</td>\n",
       "      <td>Allison, Miss. Helen Loraine</td>\n",
       "      <td>female</td>\n",
       "      <td>2.0000</td>\n",
       "      <td>1</td>\n",
       "      <td>2</td>\n",
       "      <td>113781</td>\n",
       "      <td>151.5500</td>\n",
       "      <td>C22 C26</td>\n",
       "      <td>S</td>\n",
       "      <td>YES</td>\n",
       "      <td>Child</td>\n",
       "      <td>0</td>\n",
       "      <td>1.0</td>\n",
       "      <td>two</td>\n",
       "      <td>Allison, Miss. Helen Loraine</td>\n",
       "      <td>4</td>\n",
       "      <td>low</td>\n",
       "    </tr>\n",
       "    <tr>\n",
       "      <th>3</th>\n",
       "      <td>1</td>\n",
       "      <td>0</td>\n",
       "      <td>Allison, Mr. Hudson Joshua Creighton</td>\n",
       "      <td>male</td>\n",
       "      <td>30.0000</td>\n",
       "      <td>1</td>\n",
       "      <td>2</td>\n",
       "      <td>113781</td>\n",
       "      <td>151.5500</td>\n",
       "      <td>C22 C26</td>\n",
       "      <td>S</td>\n",
       "      <td>NO</td>\n",
       "      <td>Adult</td>\n",
       "      <td>0</td>\n",
       "      <td>1.0</td>\n",
       "      <td>two</td>\n",
       "      <td>Allison, Mr. Hudson Joshua Creighton</td>\n",
       "      <td>4</td>\n",
       "      <td>low</td>\n",
       "    </tr>\n",
       "  </tbody>\n",
       "</table>\n",
       "</div>"
      ],
      "text/plain": [
       "   pclass  survived                                  name     sex      age  \\\n",
       "0       1         1         Allen, Miss. Elisabeth Walton  female  29.0000   \n",
       "1       1         1        Allison, Master. Hudson Trevor    male   0.9167   \n",
       "2       1         0          Allison, Miss. Helen Loraine  female   2.0000   \n",
       "3       1         0  Allison, Mr. Hudson Joshua Creighton    male  30.0000   \n",
       "\n",
       "   sibsp  parch  ticket      fare    cabin embarked female  child  int_zeroes  \\\n",
       "0      0      0   24160  211.3375       B5        S    YES  Adult           0   \n",
       "1      1      2  113781  151.5500  C22 C26        S     NO  Child           0   \n",
       "2      1      2  113781  151.5500  C22 C26        S    YES  Child           0   \n",
       "3      1      2  113781  151.5500  C22 C26        S     NO  Adult           0   \n",
       "\n",
       "   float_ones string_twos                                 name2  family_size  \\\n",
       "0         1.0         two         Allen, Miss. Elisabeth Walton            1   \n",
       "1         1.0         two        Allison, Master. Hudson Trevor            4   \n",
       "2         1.0         two          Allison, Miss. Helen Loraine            4   \n",
       "3         1.0         two  Allison, Mr. Hudson Joshua Creighton            4   \n",
       "\n",
       "  fare_3class  \n",
       "0         mid  \n",
       "1         low  \n",
       "2         low  \n",
       "3         low  "
      ]
     },
     "execution_count": 146,
     "metadata": {},
     "output_type": "execute_result"
    }
   ],
   "source": [
    "# Divide fare into 3 equally sized classes.\n",
    "titanic['fare_3class'] = pd.cut(titanic['fare'], 3, labels=['low','mid','high'])\n",
    "titanic.head(4)"
   ]
  },
  {
   "cell_type": "code",
   "execution_count": 147,
   "metadata": {},
   "outputs": [
    {
     "data": {
      "text/html": [
       "<div>\n",
       "<style scoped>\n",
       "    .dataframe tbody tr th:only-of-type {\n",
       "        vertical-align: middle;\n",
       "    }\n",
       "\n",
       "    .dataframe tbody tr th {\n",
       "        vertical-align: top;\n",
       "    }\n",
       "\n",
       "    .dataframe thead th {\n",
       "        text-align: right;\n",
       "    }\n",
       "</style>\n",
       "<table border=\"1\" class=\"dataframe\">\n",
       "  <thead>\n",
       "    <tr style=\"text-align: right;\">\n",
       "      <th></th>\n",
       "      <th>pclass</th>\n",
       "      <th>survived</th>\n",
       "      <th>name</th>\n",
       "      <th>sex</th>\n",
       "      <th>age</th>\n",
       "      <th>sibsp</th>\n",
       "      <th>parch</th>\n",
       "      <th>ticket</th>\n",
       "      <th>fare</th>\n",
       "      <th>cabin</th>\n",
       "      <th>embarked</th>\n",
       "      <th>female</th>\n",
       "      <th>child</th>\n",
       "      <th>int_zeroes</th>\n",
       "      <th>float_ones</th>\n",
       "      <th>string_twos</th>\n",
       "      <th>name2</th>\n",
       "      <th>family_size</th>\n",
       "      <th>fare_3class</th>\n",
       "      <th>fare_tertiles</th>\n",
       "    </tr>\n",
       "  </thead>\n",
       "  <tbody>\n",
       "    <tr>\n",
       "      <th>0</th>\n",
       "      <td>1</td>\n",
       "      <td>1</td>\n",
       "      <td>Allen, Miss. Elisabeth Walton</td>\n",
       "      <td>female</td>\n",
       "      <td>29.0000</td>\n",
       "      <td>0</td>\n",
       "      <td>0</td>\n",
       "      <td>24160</td>\n",
       "      <td>211.3375</td>\n",
       "      <td>B5</td>\n",
       "      <td>S</td>\n",
       "      <td>YES</td>\n",
       "      <td>Adult</td>\n",
       "      <td>0</td>\n",
       "      <td>1.0</td>\n",
       "      <td>two</td>\n",
       "      <td>Allen, Miss. Elisabeth Walton</td>\n",
       "      <td>1</td>\n",
       "      <td>mid</td>\n",
       "      <td>high</td>\n",
       "    </tr>\n",
       "    <tr>\n",
       "      <th>1</th>\n",
       "      <td>1</td>\n",
       "      <td>1</td>\n",
       "      <td>Allison, Master. Hudson Trevor</td>\n",
       "      <td>male</td>\n",
       "      <td>0.9167</td>\n",
       "      <td>1</td>\n",
       "      <td>2</td>\n",
       "      <td>113781</td>\n",
       "      <td>151.5500</td>\n",
       "      <td>C22 C26</td>\n",
       "      <td>S</td>\n",
       "      <td>NO</td>\n",
       "      <td>Child</td>\n",
       "      <td>0</td>\n",
       "      <td>1.0</td>\n",
       "      <td>two</td>\n",
       "      <td>Allison, Master. Hudson Trevor</td>\n",
       "      <td>4</td>\n",
       "      <td>low</td>\n",
       "      <td>high</td>\n",
       "    </tr>\n",
       "    <tr>\n",
       "      <th>2</th>\n",
       "      <td>1</td>\n",
       "      <td>0</td>\n",
       "      <td>Allison, Miss. Helen Loraine</td>\n",
       "      <td>female</td>\n",
       "      <td>2.0000</td>\n",
       "      <td>1</td>\n",
       "      <td>2</td>\n",
       "      <td>113781</td>\n",
       "      <td>151.5500</td>\n",
       "      <td>C22 C26</td>\n",
       "      <td>S</td>\n",
       "      <td>YES</td>\n",
       "      <td>Child</td>\n",
       "      <td>0</td>\n",
       "      <td>1.0</td>\n",
       "      <td>two</td>\n",
       "      <td>Allison, Miss. Helen Loraine</td>\n",
       "      <td>4</td>\n",
       "      <td>low</td>\n",
       "      <td>high</td>\n",
       "    </tr>\n",
       "    <tr>\n",
       "      <th>3</th>\n",
       "      <td>1</td>\n",
       "      <td>0</td>\n",
       "      <td>Allison, Mr. Hudson Joshua Creighton</td>\n",
       "      <td>male</td>\n",
       "      <td>30.0000</td>\n",
       "      <td>1</td>\n",
       "      <td>2</td>\n",
       "      <td>113781</td>\n",
       "      <td>151.5500</td>\n",
       "      <td>C22 C26</td>\n",
       "      <td>S</td>\n",
       "      <td>NO</td>\n",
       "      <td>Adult</td>\n",
       "      <td>0</td>\n",
       "      <td>1.0</td>\n",
       "      <td>two</td>\n",
       "      <td>Allison, Mr. Hudson Joshua Creighton</td>\n",
       "      <td>4</td>\n",
       "      <td>low</td>\n",
       "      <td>high</td>\n",
       "    </tr>\n",
       "    <tr>\n",
       "      <th>4</th>\n",
       "      <td>1</td>\n",
       "      <td>0</td>\n",
       "      <td>Allison, Mrs. Hudson J C (Bessie Waldo Daniels)</td>\n",
       "      <td>female</td>\n",
       "      <td>25.0000</td>\n",
       "      <td>1</td>\n",
       "      <td>2</td>\n",
       "      <td>113781</td>\n",
       "      <td>151.5500</td>\n",
       "      <td>C22 C26</td>\n",
       "      <td>S</td>\n",
       "      <td>YES</td>\n",
       "      <td>Adult</td>\n",
       "      <td>0</td>\n",
       "      <td>1.0</td>\n",
       "      <td>two</td>\n",
       "      <td>Allison, Mrs. Hudson J C (Bessie Waldo Daniels)</td>\n",
       "      <td>4</td>\n",
       "      <td>low</td>\n",
       "      <td>high</td>\n",
       "    </tr>\n",
       "  </tbody>\n",
       "</table>\n",
       "</div>"
      ],
      "text/plain": [
       "   pclass  survived                                             name     sex  \\\n",
       "0       1         1                    Allen, Miss. Elisabeth Walton  female   \n",
       "1       1         1                   Allison, Master. Hudson Trevor    male   \n",
       "2       1         0                     Allison, Miss. Helen Loraine  female   \n",
       "3       1         0             Allison, Mr. Hudson Joshua Creighton    male   \n",
       "4       1         0  Allison, Mrs. Hudson J C (Bessie Waldo Daniels)  female   \n",
       "\n",
       "       age  sibsp  parch  ticket      fare    cabin embarked female  child  \\\n",
       "0  29.0000      0      0   24160  211.3375       B5        S    YES  Adult   \n",
       "1   0.9167      1      2  113781  151.5500  C22 C26        S     NO  Child   \n",
       "2   2.0000      1      2  113781  151.5500  C22 C26        S    YES  Child   \n",
       "3  30.0000      1      2  113781  151.5500  C22 C26        S     NO  Adult   \n",
       "4  25.0000      1      2  113781  151.5500  C22 C26        S    YES  Adult   \n",
       "\n",
       "   int_zeroes  float_ones string_twos  \\\n",
       "0           0         1.0         two   \n",
       "1           0         1.0         two   \n",
       "2           0         1.0         two   \n",
       "3           0         1.0         two   \n",
       "4           0         1.0         two   \n",
       "\n",
       "                                             name2  family_size fare_3class  \\\n",
       "0                    Allen, Miss. Elisabeth Walton            1         mid   \n",
       "1                   Allison, Master. Hudson Trevor            4         low   \n",
       "2                     Allison, Miss. Helen Loraine            4         low   \n",
       "3             Allison, Mr. Hudson Joshua Creighton            4         low   \n",
       "4  Allison, Mrs. Hudson J C (Bessie Waldo Daniels)            4         low   \n",
       "\n",
       "  fare_tertiles  \n",
       "0          high  \n",
       "1          high  \n",
       "2          high  \n",
       "3          high  \n",
       "4          high  "
      ]
     },
     "execution_count": 147,
     "metadata": {},
     "output_type": "execute_result"
    }
   ],
   "source": [
    "# Divide fare into tertile.\n",
    "titanic['fare_tertiles'] = pd.qcut(titanic['fare'], 3, labels=['low','mid','high'])\n",
    "titanic.head()"
   ]
  },
  {
   "cell_type": "code",
   "execution_count": 148,
   "metadata": {},
   "outputs": [
    {
     "data": {
      "text/plain": [
       "(-0.512, 170.776]     1270\n",
       "(170.776, 341.553]      34\n",
       "(341.553, 512.329]       4\n",
       "Name: fare_3class, dtype: int64"
      ]
     },
     "execution_count": 148,
     "metadata": {},
     "output_type": "execute_result"
    }
   ],
   "source": [
    "titanic['fare_3class'] = pd.cut(titanic['fare'], 3)\n",
    "titanic.head(4)\n",
    "titanic['fare_3class'].value_counts()"
   ]
  },
  {
   "cell_type": "code",
   "execution_count": 149,
   "metadata": {},
   "outputs": [
    {
     "data": {
      "text/plain": [
       "(-0.001, 8.662]    454\n",
       "(8.662, 26.0]      428\n",
       "(26.0, 512.329]    426\n",
       "Name: fare_3class, dtype: int64"
      ]
     },
     "execution_count": 149,
     "metadata": {},
     "output_type": "execute_result"
    }
   ],
   "source": [
    "titanic['fare_3class'] = pd.qcut(titanic['fare'], 3)\n",
    "titanic.head(4)\n",
    "titanic['fare_3class'].value_counts()"
   ]
  },
  {
   "cell_type": "markdown",
   "metadata": {},
   "source": [
    "## Removing (Dropping) Columns\n",
    "\n",
    "Not withstanding the fact that we could select the specific columns we want and exclude ones we don't want in our dataset, we also have a couple of options for dropping or deleting a column from a pandas DataFrame.\n",
    "\n",
    "Let's delete the constant valued columns we established earlier: 'int_zeroes', 'float_ones', 'string_twos'.\n",
    "\n",
    "The first option we have is the built in python statement `del`. Otherwise we can use the `.drop()` method.\n",
    "\n",
    "Note, that pandas is in active development, so sometimes parameters change as the library matures. If your `.drop()` method doesn't understand the code below then it may be an older version. try this instead:\n",
    "```python\n",
    "titanic.drop(['int_zeroes','float_ones','string_twos'], axis=1, inplace=True)\n",
    "```\n",
    "Note that this syntax is still compatible with newer versions of pandas, so old code won't break in this case."
   ]
  },
  {
   "cell_type": "code",
   "execution_count": 150,
   "metadata": {},
   "outputs": [
    {
     "data": {
      "text/html": [
       "<div>\n",
       "<style scoped>\n",
       "    .dataframe tbody tr th:only-of-type {\n",
       "        vertical-align: middle;\n",
       "    }\n",
       "\n",
       "    .dataframe tbody tr th {\n",
       "        vertical-align: top;\n",
       "    }\n",
       "\n",
       "    .dataframe thead th {\n",
       "        text-align: right;\n",
       "    }\n",
       "</style>\n",
       "<table border=\"1\" class=\"dataframe\">\n",
       "  <thead>\n",
       "    <tr style=\"text-align: right;\">\n",
       "      <th></th>\n",
       "      <th>pclass</th>\n",
       "      <th>survived</th>\n",
       "      <th>name</th>\n",
       "      <th>sex</th>\n",
       "      <th>age</th>\n",
       "      <th>sibsp</th>\n",
       "      <th>parch</th>\n",
       "      <th>ticket</th>\n",
       "      <th>fare</th>\n",
       "      <th>cabin</th>\n",
       "      <th>embarked</th>\n",
       "      <th>female</th>\n",
       "      <th>child</th>\n",
       "      <th>float_ones</th>\n",
       "      <th>string_twos</th>\n",
       "      <th>name2</th>\n",
       "      <th>family_size</th>\n",
       "      <th>fare_3class</th>\n",
       "      <th>fare_tertiles</th>\n",
       "    </tr>\n",
       "  </thead>\n",
       "  <tbody>\n",
       "    <tr>\n",
       "      <th>0</th>\n",
       "      <td>1</td>\n",
       "      <td>1</td>\n",
       "      <td>Allen, Miss. Elisabeth Walton</td>\n",
       "      <td>female</td>\n",
       "      <td>29.0000</td>\n",
       "      <td>0</td>\n",
       "      <td>0</td>\n",
       "      <td>24160</td>\n",
       "      <td>211.3375</td>\n",
       "      <td>B5</td>\n",
       "      <td>S</td>\n",
       "      <td>YES</td>\n",
       "      <td>Adult</td>\n",
       "      <td>1.0</td>\n",
       "      <td>two</td>\n",
       "      <td>Allen, Miss. Elisabeth Walton</td>\n",
       "      <td>1</td>\n",
       "      <td>(26.0, 512.329]</td>\n",
       "      <td>high</td>\n",
       "    </tr>\n",
       "    <tr>\n",
       "      <th>1</th>\n",
       "      <td>1</td>\n",
       "      <td>1</td>\n",
       "      <td>Allison, Master. Hudson Trevor</td>\n",
       "      <td>male</td>\n",
       "      <td>0.9167</td>\n",
       "      <td>1</td>\n",
       "      <td>2</td>\n",
       "      <td>113781</td>\n",
       "      <td>151.5500</td>\n",
       "      <td>C22 C26</td>\n",
       "      <td>S</td>\n",
       "      <td>NO</td>\n",
       "      <td>Child</td>\n",
       "      <td>1.0</td>\n",
       "      <td>two</td>\n",
       "      <td>Allison, Master. Hudson Trevor</td>\n",
       "      <td>4</td>\n",
       "      <td>(26.0, 512.329]</td>\n",
       "      <td>high</td>\n",
       "    </tr>\n",
       "    <tr>\n",
       "      <th>2</th>\n",
       "      <td>1</td>\n",
       "      <td>0</td>\n",
       "      <td>Allison, Miss. Helen Loraine</td>\n",
       "      <td>female</td>\n",
       "      <td>2.0000</td>\n",
       "      <td>1</td>\n",
       "      <td>2</td>\n",
       "      <td>113781</td>\n",
       "      <td>151.5500</td>\n",
       "      <td>C22 C26</td>\n",
       "      <td>S</td>\n",
       "      <td>YES</td>\n",
       "      <td>Child</td>\n",
       "      <td>1.0</td>\n",
       "      <td>two</td>\n",
       "      <td>Allison, Miss. Helen Loraine</td>\n",
       "      <td>4</td>\n",
       "      <td>(26.0, 512.329]</td>\n",
       "      <td>high</td>\n",
       "    </tr>\n",
       "    <tr>\n",
       "      <th>3</th>\n",
       "      <td>1</td>\n",
       "      <td>0</td>\n",
       "      <td>Allison, Mr. Hudson Joshua Creighton</td>\n",
       "      <td>male</td>\n",
       "      <td>30.0000</td>\n",
       "      <td>1</td>\n",
       "      <td>2</td>\n",
       "      <td>113781</td>\n",
       "      <td>151.5500</td>\n",
       "      <td>C22 C26</td>\n",
       "      <td>S</td>\n",
       "      <td>NO</td>\n",
       "      <td>Adult</td>\n",
       "      <td>1.0</td>\n",
       "      <td>two</td>\n",
       "      <td>Allison, Mr. Hudson Joshua Creighton</td>\n",
       "      <td>4</td>\n",
       "      <td>(26.0, 512.329]</td>\n",
       "      <td>high</td>\n",
       "    </tr>\n",
       "    <tr>\n",
       "      <th>4</th>\n",
       "      <td>1</td>\n",
       "      <td>0</td>\n",
       "      <td>Allison, Mrs. Hudson J C (Bessie Waldo Daniels)</td>\n",
       "      <td>female</td>\n",
       "      <td>25.0000</td>\n",
       "      <td>1</td>\n",
       "      <td>2</td>\n",
       "      <td>113781</td>\n",
       "      <td>151.5500</td>\n",
       "      <td>C22 C26</td>\n",
       "      <td>S</td>\n",
       "      <td>YES</td>\n",
       "      <td>Adult</td>\n",
       "      <td>1.0</td>\n",
       "      <td>two</td>\n",
       "      <td>Allison, Mrs. Hudson J C (Bessie Waldo Daniels)</td>\n",
       "      <td>4</td>\n",
       "      <td>(26.0, 512.329]</td>\n",
       "      <td>high</td>\n",
       "    </tr>\n",
       "  </tbody>\n",
       "</table>\n",
       "</div>"
      ],
      "text/plain": [
       "   pclass  survived                                             name     sex  \\\n",
       "0       1         1                    Allen, Miss. Elisabeth Walton  female   \n",
       "1       1         1                   Allison, Master. Hudson Trevor    male   \n",
       "2       1         0                     Allison, Miss. Helen Loraine  female   \n",
       "3       1         0             Allison, Mr. Hudson Joshua Creighton    male   \n",
       "4       1         0  Allison, Mrs. Hudson J C (Bessie Waldo Daniels)  female   \n",
       "\n",
       "       age  sibsp  parch  ticket      fare    cabin embarked female  child  \\\n",
       "0  29.0000      0      0   24160  211.3375       B5        S    YES  Adult   \n",
       "1   0.9167      1      2  113781  151.5500  C22 C26        S     NO  Child   \n",
       "2   2.0000      1      2  113781  151.5500  C22 C26        S    YES  Child   \n",
       "3  30.0000      1      2  113781  151.5500  C22 C26        S     NO  Adult   \n",
       "4  25.0000      1      2  113781  151.5500  C22 C26        S    YES  Adult   \n",
       "\n",
       "   float_ones string_twos                                            name2  \\\n",
       "0         1.0         two                    Allen, Miss. Elisabeth Walton   \n",
       "1         1.0         two                   Allison, Master. Hudson Trevor   \n",
       "2         1.0         two                     Allison, Miss. Helen Loraine   \n",
       "3         1.0         two             Allison, Mr. Hudson Joshua Creighton   \n",
       "4         1.0         two  Allison, Mrs. Hudson J C (Bessie Waldo Daniels)   \n",
       "\n",
       "   family_size      fare_3class fare_tertiles  \n",
       "0            1  (26.0, 512.329]          high  \n",
       "1            4  (26.0, 512.329]          high  \n",
       "2            4  (26.0, 512.329]          high  \n",
       "3            4  (26.0, 512.329]          high  \n",
       "4            4  (26.0, 512.329]          high  "
      ]
     },
     "execution_count": 150,
     "metadata": {},
     "output_type": "execute_result"
    }
   ],
   "source": [
    "# drop a column with del\n",
    "del titanic['int_zeroes']\n",
    "titanic.head()"
   ]
  },
  {
   "cell_type": "code",
   "execution_count": 151,
   "metadata": {},
   "outputs": [
    {
     "data": {
      "text/html": [
       "<div>\n",
       "<style scoped>\n",
       "    .dataframe tbody tr th:only-of-type {\n",
       "        vertical-align: middle;\n",
       "    }\n",
       "\n",
       "    .dataframe tbody tr th {\n",
       "        vertical-align: top;\n",
       "    }\n",
       "\n",
       "    .dataframe thead th {\n",
       "        text-align: right;\n",
       "    }\n",
       "</style>\n",
       "<table border=\"1\" class=\"dataframe\">\n",
       "  <thead>\n",
       "    <tr style=\"text-align: right;\">\n",
       "      <th></th>\n",
       "      <th>pclass</th>\n",
       "      <th>survived</th>\n",
       "      <th>name</th>\n",
       "      <th>sex</th>\n",
       "      <th>age</th>\n",
       "      <th>sibsp</th>\n",
       "      <th>parch</th>\n",
       "      <th>ticket</th>\n",
       "      <th>fare</th>\n",
       "      <th>cabin</th>\n",
       "      <th>embarked</th>\n",
       "      <th>female</th>\n",
       "      <th>child</th>\n",
       "      <th>name2</th>\n",
       "      <th>family_size</th>\n",
       "      <th>fare_3class</th>\n",
       "      <th>fare_tertiles</th>\n",
       "    </tr>\n",
       "  </thead>\n",
       "  <tbody>\n",
       "    <tr>\n",
       "      <th>0</th>\n",
       "      <td>1</td>\n",
       "      <td>1</td>\n",
       "      <td>Allen, Miss. Elisabeth Walton</td>\n",
       "      <td>female</td>\n",
       "      <td>29.0000</td>\n",
       "      <td>0</td>\n",
       "      <td>0</td>\n",
       "      <td>24160</td>\n",
       "      <td>211.3375</td>\n",
       "      <td>B5</td>\n",
       "      <td>S</td>\n",
       "      <td>YES</td>\n",
       "      <td>Adult</td>\n",
       "      <td>Allen, Miss. Elisabeth Walton</td>\n",
       "      <td>1</td>\n",
       "      <td>(26.0, 512.329]</td>\n",
       "      <td>high</td>\n",
       "    </tr>\n",
       "    <tr>\n",
       "      <th>1</th>\n",
       "      <td>1</td>\n",
       "      <td>1</td>\n",
       "      <td>Allison, Master. Hudson Trevor</td>\n",
       "      <td>male</td>\n",
       "      <td>0.9167</td>\n",
       "      <td>1</td>\n",
       "      <td>2</td>\n",
       "      <td>113781</td>\n",
       "      <td>151.5500</td>\n",
       "      <td>C22 C26</td>\n",
       "      <td>S</td>\n",
       "      <td>NO</td>\n",
       "      <td>Child</td>\n",
       "      <td>Allison, Master. Hudson Trevor</td>\n",
       "      <td>4</td>\n",
       "      <td>(26.0, 512.329]</td>\n",
       "      <td>high</td>\n",
       "    </tr>\n",
       "    <tr>\n",
       "      <th>2</th>\n",
       "      <td>1</td>\n",
       "      <td>0</td>\n",
       "      <td>Allison, Miss. Helen Loraine</td>\n",
       "      <td>female</td>\n",
       "      <td>2.0000</td>\n",
       "      <td>1</td>\n",
       "      <td>2</td>\n",
       "      <td>113781</td>\n",
       "      <td>151.5500</td>\n",
       "      <td>C22 C26</td>\n",
       "      <td>S</td>\n",
       "      <td>YES</td>\n",
       "      <td>Child</td>\n",
       "      <td>Allison, Miss. Helen Loraine</td>\n",
       "      <td>4</td>\n",
       "      <td>(26.0, 512.329]</td>\n",
       "      <td>high</td>\n",
       "    </tr>\n",
       "    <tr>\n",
       "      <th>3</th>\n",
       "      <td>1</td>\n",
       "      <td>0</td>\n",
       "      <td>Allison, Mr. Hudson Joshua Creighton</td>\n",
       "      <td>male</td>\n",
       "      <td>30.0000</td>\n",
       "      <td>1</td>\n",
       "      <td>2</td>\n",
       "      <td>113781</td>\n",
       "      <td>151.5500</td>\n",
       "      <td>C22 C26</td>\n",
       "      <td>S</td>\n",
       "      <td>NO</td>\n",
       "      <td>Adult</td>\n",
       "      <td>Allison, Mr. Hudson Joshua Creighton</td>\n",
       "      <td>4</td>\n",
       "      <td>(26.0, 512.329]</td>\n",
       "      <td>high</td>\n",
       "    </tr>\n",
       "    <tr>\n",
       "      <th>4</th>\n",
       "      <td>1</td>\n",
       "      <td>0</td>\n",
       "      <td>Allison, Mrs. Hudson J C (Bessie Waldo Daniels)</td>\n",
       "      <td>female</td>\n",
       "      <td>25.0000</td>\n",
       "      <td>1</td>\n",
       "      <td>2</td>\n",
       "      <td>113781</td>\n",
       "      <td>151.5500</td>\n",
       "      <td>C22 C26</td>\n",
       "      <td>S</td>\n",
       "      <td>YES</td>\n",
       "      <td>Adult</td>\n",
       "      <td>Allison, Mrs. Hudson J C (Bessie Waldo Daniels)</td>\n",
       "      <td>4</td>\n",
       "      <td>(26.0, 512.329]</td>\n",
       "      <td>high</td>\n",
       "    </tr>\n",
       "  </tbody>\n",
       "</table>\n",
       "</div>"
      ],
      "text/plain": [
       "   pclass  survived                                             name     sex  \\\n",
       "0       1         1                    Allen, Miss. Elisabeth Walton  female   \n",
       "1       1         1                   Allison, Master. Hudson Trevor    male   \n",
       "2       1         0                     Allison, Miss. Helen Loraine  female   \n",
       "3       1         0             Allison, Mr. Hudson Joshua Creighton    male   \n",
       "4       1         0  Allison, Mrs. Hudson J C (Bessie Waldo Daniels)  female   \n",
       "\n",
       "       age  sibsp  parch  ticket      fare    cabin embarked female  child  \\\n",
       "0  29.0000      0      0   24160  211.3375       B5        S    YES  Adult   \n",
       "1   0.9167      1      2  113781  151.5500  C22 C26        S     NO  Child   \n",
       "2   2.0000      1      2  113781  151.5500  C22 C26        S    YES  Child   \n",
       "3  30.0000      1      2  113781  151.5500  C22 C26        S     NO  Adult   \n",
       "4  25.0000      1      2  113781  151.5500  C22 C26        S    YES  Adult   \n",
       "\n",
       "                                             name2  family_size  \\\n",
       "0                    Allen, Miss. Elisabeth Walton            1   \n",
       "1                   Allison, Master. Hudson Trevor            4   \n",
       "2                     Allison, Miss. Helen Loraine            4   \n",
       "3             Allison, Mr. Hudson Joshua Creighton            4   \n",
       "4  Allison, Mrs. Hudson J C (Bessie Waldo Daniels)            4   \n",
       "\n",
       "       fare_3class fare_tertiles  \n",
       "0  (26.0, 512.329]          high  \n",
       "1  (26.0, 512.329]          high  \n",
       "2  (26.0, 512.329]          high  \n",
       "3  (26.0, 512.329]          high  \n",
       "4  (26.0, 512.329]          high  "
      ]
     },
     "execution_count": 151,
     "metadata": {},
     "output_type": "execute_result"
    }
   ],
   "source": [
    "# drop using the drop method\n",
    "titanic.drop(columns=['float_ones','string_twos'], inplace = True)\n",
    "titanic.head()"
   ]
  },
  {
   "cell_type": "markdown",
   "metadata": {},
   "source": [
    "# Exercise 4\n",
    "\n",
    "1. Create a new binary variable called 'child', it should have the value 1 when the passenger is under 18 and 0 otherwise.\n",
    "2. Create a new variable called 'embarked_city', map 'S' to 'Southampton', 'C' to 'Cherbourg', and 'Q' to 'Queenstown'.\n",
    "3. Create a new variable called 'surname', the value should be the surname part of the 'name' field.\n",
    "    * Use `titanic['name'].str.split(',',expand=True)[0]` to get surnames.\n",
    "    * Explore this code and make sure you understand what's going on.\n",
    "    * How many unique surnames are there (hint: try `.unique()` or `.nunique()` on the new column."
   ]
  },
  {
   "cell_type": "code",
   "execution_count": null,
   "metadata": {},
   "outputs": [],
   "source": [
    "# Exercise 4 solutions\n",
    "%load ./solutions/part_1_exercise_4.py"
   ]
  },
  {
   "cell_type": "markdown",
   "metadata": {},
   "source": [
    "In that last question we made use of a special module on the `Series` object called `str`, this exposes all the string methods we've encounter previous to a column of string data, but in a vectorised form. This means you can manipulate text is a row-by-row manner with a single method call. For example:"
   ]
  },
  {
   "cell_type": "code",
   "execution_count": null,
   "metadata": {},
   "outputs": [],
   "source": [
    "# lower case names\n",
    "titanic['name'].str.lower().head()"
   ]
  },
  {
   "cell_type": "code",
   "execution_count": null,
   "metadata": {},
   "outputs": [],
   "source": [
    "# Press tab after the last fullstop to see the string methods available.\n",
    "# Select one and use shift-tab to explore it further.\n",
    "pd.Series.str."
   ]
  },
  {
   "cell_type": "code",
   "execution_count": null,
   "metadata": {},
   "outputs": [],
   "source": [
    "# in this example we are trying to extract all the titles from the names field.\n",
    "titanic['name'].str.split(',',expand=True)[1].str.split('.',expand=True)[0].head()"
   ]
  },
  {
   "cell_type": "markdown",
   "metadata": {},
   "source": [
    "# Consolidation\n",
    "\n",
    "## Reminder of Learning Objectives\n",
    "\n",
    "* Familiarise yourself with the Jupyter notebook, which is what we'll use to interact with python\n",
    "* Learn about python's basic data types - integers, floats, strings and Booleans.\n",
    "* Explore python's general data structure objects - lists, tuples, and dictionaries.\n",
    "* Take a first look at 'pandas', python's data manipulation and analysis library.\n",
    "    * The Series and DataFrame objects.\n",
    "    * Reading data into python using pandas.\n",
    "    * Getting information about DataFrames.\n",
    "* Learn some basic DataFrame manipulation approaches:\n",
    "    * Select columns\n",
    "    * Filter rows\n",
    "    * Generate new variables\n",
    "    \n",
    "## Next Session\n",
    "\n",
    "Focus on basic analysis\n",
    "* Descriptive statistics.\n",
    "* Aggregation and cross-tabulation.\n",
    "* Merging and updating.\n",
    "\n",
    "We will then look at visualisation and/or simple statistics in python using matplotlib and statsmodels."
   ]
  }
 ],
 "metadata": {
  "interpreter": {
   "hash": "3d597f4c481aa0f25dceb95d2a0067e73c0966dcbd003d741d821a7208527ecf"
  },
  "kernelspec": {
   "display_name": "Python 3.9.5 64-bit ('base': conda)",
   "name": "python3"
  },
  "language_info": {
   "codemirror_mode": {
    "name": "ipython",
    "version": 3
   },
   "file_extension": ".py",
   "mimetype": "text/x-python",
   "name": "python",
   "nbconvert_exporter": "python",
   "pygments_lexer": "ipython3",
   "version": "3.9.5"
  }
 },
 "nbformat": 4,
 "nbformat_minor": 4
}
